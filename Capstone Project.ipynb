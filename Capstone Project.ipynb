{
 "cells": [
  {
   "cell_type": "code",
   "execution_count": 66,
   "metadata": {},
   "outputs": [],
   "source": [
    "import spotipy\n",
    "import spotipy.util as util\n",
    "import pandas as pd\n",
    "import numpy as np"
   ]
  },
  {
   "cell_type": "code",
   "execution_count": 67,
   "metadata": {
    "scrolled": true
   },
   "outputs": [
    {
     "name": "stdout",
     "output_type": "stream",
     "text": [
      "\n",
      "\n",
      "            User authentication requires interaction with your\n",
      "            web browser. Once you enter your credentials and\n",
      "            give authorization, you will be redirected to\n",
      "            a url.  Paste that url you were directed to to\n",
      "            complete the authorization.\n",
      "\n",
      "        \n",
      "Opened https://accounts.spotify.com/authorize?client_id=c11d185f127941938988ee6a37061b85&response_type=code&redirect_uri=http%3A%2F%2Flocalhost%3A8777%2Fcallback%2F in your browser\n",
      "\n",
      "\n",
      "Enter the URL you were redirected to: http://localhost:8777/callback/?code=AQA0OTG8LAjzhlthFM97648X8JuOZqcBEWhoD32BvvBcWM9jA0JKEvhCOoEUGOWqYN6ef4F10Pumx-J1dCbtWQfy4uklG6O7B7X3ZTt86e_5rWfWz0QJIw65I87vWWawRLL8y2MMyRfjLtdGH6xCinImtkI39jfaRPiyJvtKcpY83ac_t64dz_fmZ-6EVWL4xO9EkZw\n",
      "\n",
      "\n"
     ]
    }
   ],
   "source": [
    "## Grabbing API token\n",
    "\n",
    "token = util.prompt_for_user_token(username = 'username', client_id='client_id',client_secret='client_secret',redirect_uri='redirect_uri')"
   ]
  },
  {
   "cell_type": "code",
   "execution_count": 68,
   "metadata": {},
   "outputs": [],
   "source": [
    "sp = spotipy.Spotify(auth=token)"
   ]
  },
  {
   "cell_type": "markdown",
   "metadata": {},
   "source": [
    "## Creating a list of albums for The Beatles (Spotify ID = 3WrFJ7ztbogyGnTHbHJFl2)"
   ]
  },
  {
   "cell_type": "code",
   "execution_count": 91,
   "metadata": {},
   "outputs": [],
   "source": [
    "results = sp.artist_albums('spotify:artist:3WrFJ7ztbogyGnTHbHJFl2', album_type='album')\n",
    "\n",
    "albums = results['items']\n",
    "while results['next']:\n",
    "    results = spotify.next(results)\n",
    "    albums.extend(results['items'])\n",
    "\n",
    "albums_df = pd.DataFrame(albums)"
   ]
  },
  {
   "cell_type": "markdown",
   "metadata": {},
   "source": [
    "## Creating a list of song info per album"
   ]
  },
  {
   "cell_type": "code",
   "execution_count": 100,
   "metadata": {},
   "outputs": [],
   "source": [
    "## Creating a list of album ID's to reference later\n",
    "audio_analysis = []\n",
    "\n",
    "for row in range(len(albums_df)):\n",
    "    audio_analysis.append(albums_df.id[row])"
   ]
  },
  {
   "cell_type": "code",
   "execution_count": 101,
   "metadata": {},
   "outputs": [],
   "source": [
    "## Function that utilizes Spotify's album_tracks method to return all tracks from an album ID\n",
    "\n",
    "def track_return(album, num):\n",
    "        results = sp.album_tracks(album, limit = 50)\n",
    "        track_list = results['items']\n",
    "        while results['next']:\n",
    "            results = spotify.next(results)\n",
    "            track_list.extend(results['items'])\n",
    "        track_df = pd.DataFrame(track_list)\n",
    "        track_df['album_name'] = albums_df.name[num]\n",
    "        track_df['release_date'] = albums_df.release_date[num]\n",
    "        return track_df"
   ]
  },
  {
   "cell_type": "code",
   "execution_count": 102,
   "metadata": {},
   "outputs": [],
   "source": [
    "## Creating separate dataframes based on API limitations\n",
    "\n",
    "hollywood_bowl = track_return(audio_analysis[0], 0)\n",
    "greatest_hits_1 = track_return(audio_analysis[1], 1)\n",
    "let_it_be = track_return(audio_analysis[2], 2)\n",
    "abbey_road = track_return(audio_analysis[3], 3)\n",
    "yellow_sub = track_return(audio_analysis[4], 4)\n",
    "the_beatles = track_return(audio_analysis[5], 5)\n",
    "magic_myst_tour = track_return(audio_analysis[6], 6)\n",
    "sgt_peppers_deluxe = track_return(audio_analysis[7], 7)\n",
    "sgt_peppers_remastered = track_return(audio_analysis[8], 8)\n",
    "revolver = track_return(audio_analysis[9], 9)\n",
    "rubber_soul = track_return(audio_analysis[10], 10)\n",
    "help_album = track_return(audio_analysis[11], 11)\n",
    "beatles_for_sale = track_return(audio_analysis[12], 12)\n",
    "hard_days_night = track_return(audio_analysis[13], 13)\n",
    "with_the_beatles = track_return(audio_analysis[14], 14)\n",
    "please_please_me = track_return(audio_analysis[15], 15)"
   ]
  },
  {
   "cell_type": "code",
   "execution_count": 103,
   "metadata": {},
   "outputs": [],
   "source": [
    "## List of all dataframes created above\n",
    "album_tracks = [hollywood_bowl, greatest_hits_1, let_it_be, abbey_road, yellow_sub, the_beatles, magic_myst_tour, \n",
    "sgt_peppers_deluxe, sgt_peppers_remastered, revolver, rubber_soul, help_album, beatles_for_sale,\n",
    "hard_days_night, with_the_beatles, please_please_me]\n",
    "\n",
    "## Concatenate all data into a single dataframe\n",
    "album_tracks_df = pd.concat(album_tracks)"
   ]
  },
  {
   "cell_type": "markdown",
   "metadata": {},
   "source": [
    "## Creating a dataframe of audio features for each song"
   ]
  },
  {
   "cell_type": "code",
   "execution_count": 104,
   "metadata": {},
   "outputs": [],
   "source": [
    "## Function that utilizes Spotify's audio_features method to return audio features (energy, tempo, speechiness, etc)\n",
    "\n",
    "def audio_features(song_list):\n",
    "        results = sp.audio_features(tracks = song_list)\n",
    "        track_df = pd.DataFrame(results)\n",
    "        return track_df"
   ]
  },
  {
   "cell_type": "code",
   "execution_count": 105,
   "metadata": {},
   "outputs": [],
   "source": [
    "## Creating separate dataframes based on API limitations\n",
    "\n",
    "hollywood_bowl_track_analysis = audio_features(hollywood_bowl.id)\n",
    "greatest_hits_1_track_analysis = audio_features(greatest_hits_1.id)\n",
    "let_it_be_track_analysis = audio_features(let_it_be.id)\n",
    "abbey_road_track_analysis = audio_features(abbey_road.id)\n",
    "yellow_sub_track_analysis = audio_features(yellow_sub.id)\n",
    "the_beatles_track_analysis = audio_features(the_beatles.id)\n",
    "magic_myst_tour_track_analysis = audio_features(magic_myst_tour.id)\n",
    "sgt_peppers_deluxe_track_analysis = audio_features(sgt_peppers_deluxe.id)\n",
    "sgt_peppers_remastered_track_analysis = audio_features(sgt_peppers_remastered.id)\n",
    "revolver_track_analysis = audio_features(revolver.id)\n",
    "rubber_soul_track_analysis = audio_features(rubber_soul.id)\n",
    "help_album_track_analysis = audio_features(help_album.id)\n",
    "beatles_for_sale_track_analysis = audio_features(beatles_for_sale.id)\n",
    "hard_days_night_track_analysis = audio_features(hard_days_night.id)\n",
    "with_the_beatles_track_analysis = audio_features(with_the_beatles.id)\n",
    "please_please_me_track_analysis = audio_features(please_please_me.id)"
   ]
  },
  {
   "cell_type": "code",
   "execution_count": 106,
   "metadata": {},
   "outputs": [],
   "source": [
    "## List of all dataframes created above\n",
    "audio_analysis_list = [hollywood_bowl_track_analysis, greatest_hits_1_track_analysis, let_it_be_track_analysis, abbey_road_track_analysis,\n",
    "yellow_sub_track_analysis, the_beatles_track_analysis, magic_myst_tour_track_analysis, sgt_peppers_deluxe_track_analysis,\n",
    "sgt_peppers_remastered_track_analysis, revolver_track_analysis, rubber_soul_track_analysis, help_album_track_analysis,\n",
    "beatles_for_sale_track_analysis, hard_days_night_track_analysis, with_the_beatles_track_analysis, please_please_me_track_analysis]\n",
    "\n",
    "## Concatenate all data into a single dataframe\n",
    "audio_analysis_df = pd.concat(audio_analysis_list)"
   ]
  },
  {
   "cell_type": "markdown",
   "metadata": {},
   "source": [
    "## Comparing length of audio tracks and audio analysis dataframes - should be equal"
   ]
  },
  {
   "cell_type": "code",
   "execution_count": 107,
   "metadata": {},
   "outputs": [
    {
     "name": "stdout",
     "output_type": "stream",
     "text": [
      "Length of album_tracks_df:  268\n",
      "Length of audio_analysis_df:  268 \n",
      "\n",
      "Difference in length:  0\n"
     ]
    }
   ],
   "source": [
    "print('Length of album_tracks_df: ', len(album_tracks_df))\n",
    "print('Length of audio_analysis_df: ', len(audio_analysis_df), '\\n')\n",
    "\n",
    "print('Difference in length: ', abs(len(album_tracks_df) - len(audio_analysis_df)))"
   ]
  },
  {
   "cell_type": "code",
   "execution_count": 109,
   "metadata": {},
   "outputs": [],
   "source": [
    "album_tracks_df.to_csv(\"data\\\\album_tracks_df.csv\")\n",
    "audio_analysis_df.to_csv(\"data\\\\audio_analysis_df.csv\")\n",
    "albums_df.to_csv(\"data\\\\albums_df.csv\")"
   ]
  },
  {
   "cell_type": "code",
   "execution_count": null,
   "metadata": {},
   "outputs": [],
   "source": []
  }
 ],
 "metadata": {
  "kernelspec": {
   "display_name": "Python 3",
   "language": "python",
   "name": "python3"
  },
  "language_info": {
   "codemirror_mode": {
    "name": "ipython",
    "version": 3
   },
   "file_extension": ".py",
   "mimetype": "text/x-python",
   "name": "python",
   "nbconvert_exporter": "python",
   "pygments_lexer": "ipython3",
   "version": "3.6.4"
  }
 },
 "nbformat": 4,
 "nbformat_minor": 2
}
