{
 "cells": [
  {
   "cell_type": "code",
   "execution_count": 1,
   "metadata": {},
   "outputs": [],
   "source": [
    "import pandas as pd\n",
    "import numpy as np\n",
    "import seaborn as sns\n",
    "\n",
    "from ipywidgets import interact, interactive, fixed, interact_manual, Layout\n",
    "import ipywidgets as widgets\n",
    "\n",
    "## Notebook display settings\n",
    "pd.options.display.max_columns = 999\n",
    "\n",
    "sns.set(rc={'figure.figsize':(16,16)})"
   ]
  },
  {
   "cell_type": "code",
   "execution_count": 27,
   "metadata": {},
   "outputs": [],
   "source": [
    "base_data = pd.read_csv('non-normalized_data.csv')"
   ]
  },
  {
   "cell_type": "code",
   "execution_count": 28,
   "metadata": {},
   "outputs": [],
   "source": [
    "col_names = base_data.columns.values"
   ]
  },
  {
   "cell_type": "code",
   "execution_count": 29,
   "metadata": {},
   "outputs": [
    {
     "name": "stdout",
     "output_type": "stream",
     "text": [
      "['album_number' 'song_name' 'acousticness' 'danceability' 'energy'\n",
      " 'loudness' 'track_number' 'album_name' 'bars_count' 'beats_count'\n",
      " 'sections_count' 'segments_count' 'tatums_count' 'song_length_seconds'\n",
      " 'bpm' 'McCartney' 'Lennon' 'Harrison' 'Other']\n"
     ]
    }
   ],
   "source": [
    "print(col_names)"
   ]
  },
  {
   "cell_type": "code",
   "execution_count": 5,
   "metadata": {},
   "outputs": [],
   "source": [
    "base_data = base_data[['album_number', 'acousticness', 'danceability', 'energy', \n",
    "                       'bars_count', 'beats_count', 'sections_count', 'segments_count',\n",
    " 'tatums_count', 'song_length_seconds', 'bpm', 'McCartney', 'Lennon', 'Harrison', 'Other']]"
   ]
  },
  {
   "cell_type": "code",
   "execution_count": 36,
   "metadata": {},
   "outputs": [],
   "source": [
    "y = base_data"
   ]
  },
  {
   "cell_type": "code",
   "execution_count": 37,
   "metadata": {},
   "outputs": [
    {
     "data": {
      "text/html": [
       "<div>\n",
       "<style scoped>\n",
       "    .dataframe tbody tr th:only-of-type {\n",
       "        vertical-align: middle;\n",
       "    }\n",
       "\n",
       "    .dataframe tbody tr th {\n",
       "        vertical-align: top;\n",
       "    }\n",
       "\n",
       "    .dataframe thead th {\n",
       "        text-align: right;\n",
       "    }\n",
       "</style>\n",
       "<table border=\"1\" class=\"dataframe\">\n",
       "  <thead>\n",
       "    <tr style=\"text-align: right;\">\n",
       "      <th></th>\n",
       "      <th>album_number</th>\n",
       "      <th>song_name</th>\n",
       "      <th>acousticness</th>\n",
       "      <th>danceability</th>\n",
       "      <th>energy</th>\n",
       "      <th>loudness</th>\n",
       "      <th>track_number</th>\n",
       "      <th>album_name</th>\n",
       "      <th>bars_count</th>\n",
       "      <th>beats_count</th>\n",
       "      <th>sections_count</th>\n",
       "      <th>segments_count</th>\n",
       "      <th>tatums_count</th>\n",
       "      <th>song_length_seconds</th>\n",
       "      <th>bpm</th>\n",
       "      <th>McCartney</th>\n",
       "      <th>Lennon</th>\n",
       "      <th>Harrison</th>\n",
       "      <th>Other</th>\n",
       "    </tr>\n",
       "  </thead>\n",
       "  <tbody>\n",
       "    <tr>\n",
       "      <th>0</th>\n",
       "      <td>1</td>\n",
       "      <td>I Saw Her Standing There - Remastered</td>\n",
       "      <td>0.270</td>\n",
       "      <td>0.491</td>\n",
       "      <td>0.801</td>\n",
       "      <td>-9.835</td>\n",
       "      <td>1</td>\n",
       "      <td>Please Please Me (Remastered)</td>\n",
       "      <td>7180</td>\n",
       "      <td>28360</td>\n",
       "      <td>1781</td>\n",
       "      <td>250045</td>\n",
       "      <td>56730</td>\n",
       "      <td>173.946</td>\n",
       "      <td>9782.346245</td>\n",
       "      <td>1.0</td>\n",
       "      <td>0.0</td>\n",
       "      <td>0.0</td>\n",
       "      <td>0.0</td>\n",
       "    </tr>\n",
       "    <tr>\n",
       "      <th>1</th>\n",
       "      <td>1</td>\n",
       "      <td>Misery - Remastered</td>\n",
       "      <td>0.707</td>\n",
       "      <td>0.591</td>\n",
       "      <td>0.605</td>\n",
       "      <td>-10.925</td>\n",
       "      <td>2</td>\n",
       "      <td>Please Please Me (Remastered)</td>\n",
       "      <td>3621</td>\n",
       "      <td>14596</td>\n",
       "      <td>1015</td>\n",
       "      <td>126147</td>\n",
       "      <td>29210</td>\n",
       "      <td>108.546</td>\n",
       "      <td>8068.100160</td>\n",
       "      <td>1.0</td>\n",
       "      <td>1.0</td>\n",
       "      <td>0.0</td>\n",
       "      <td>0.0</td>\n",
       "    </tr>\n",
       "    <tr>\n",
       "      <th>2</th>\n",
       "      <td>1</td>\n",
       "      <td>Anna (Go To Him) - Remastered</td>\n",
       "      <td>0.635</td>\n",
       "      <td>0.608</td>\n",
       "      <td>0.565</td>\n",
       "      <td>-11.060</td>\n",
       "      <td>3</td>\n",
       "      <td>Please Please Me (Remastered)</td>\n",
       "      <td>4910</td>\n",
       "      <td>19737</td>\n",
       "      <td>2807</td>\n",
       "      <td>190106</td>\n",
       "      <td>39471</td>\n",
       "      <td>177.133</td>\n",
       "      <td>6685.484918</td>\n",
       "      <td>0.0</td>\n",
       "      <td>0.0</td>\n",
       "      <td>0.0</td>\n",
       "      <td>1.0</td>\n",
       "    </tr>\n",
       "    <tr>\n",
       "      <th>3</th>\n",
       "      <td>1</td>\n",
       "      <td>Chains - Remastered</td>\n",
       "      <td>0.608</td>\n",
       "      <td>0.654</td>\n",
       "      <td>0.561</td>\n",
       "      <td>-10.551</td>\n",
       "      <td>4</td>\n",
       "      <td>Please Please Me (Remastered)</td>\n",
       "      <td>4774</td>\n",
       "      <td>19303</td>\n",
       "      <td>1527</td>\n",
       "      <td>150395</td>\n",
       "      <td>38619</td>\n",
       "      <td>145.080</td>\n",
       "      <td>7983.043838</td>\n",
       "      <td>0.0</td>\n",
       "      <td>0.0</td>\n",
       "      <td>0.0</td>\n",
       "      <td>1.0</td>\n",
       "    </tr>\n",
       "    <tr>\n",
       "      <th>4</th>\n",
       "      <td>1</td>\n",
       "      <td>Boys - Remastered</td>\n",
       "      <td>0.607</td>\n",
       "      <td>0.402</td>\n",
       "      <td>0.860</td>\n",
       "      <td>-10.310</td>\n",
       "      <td>5</td>\n",
       "      <td>Please Please Me (Remastered)</td>\n",
       "      <td>5340</td>\n",
       "      <td>21381</td>\n",
       "      <td>2299</td>\n",
       "      <td>189816</td>\n",
       "      <td>42772</td>\n",
       "      <td>146.440</td>\n",
       "      <td>8760.311390</td>\n",
       "      <td>0.0</td>\n",
       "      <td>0.0</td>\n",
       "      <td>0.0</td>\n",
       "      <td>1.0</td>\n",
       "    </tr>\n",
       "  </tbody>\n",
       "</table>\n",
       "</div>"
      ],
      "text/plain": [
       "   album_number                              song_name  acousticness  \\\n",
       "0             1  I Saw Her Standing There - Remastered         0.270   \n",
       "1             1                    Misery - Remastered         0.707   \n",
       "2             1          Anna (Go To Him) - Remastered         0.635   \n",
       "3             1                    Chains - Remastered         0.608   \n",
       "4             1                      Boys - Remastered         0.607   \n",
       "\n",
       "   danceability  energy  loudness  track_number  \\\n",
       "0         0.491   0.801    -9.835             1   \n",
       "1         0.591   0.605   -10.925             2   \n",
       "2         0.608   0.565   -11.060             3   \n",
       "3         0.654   0.561   -10.551             4   \n",
       "4         0.402   0.860   -10.310             5   \n",
       "\n",
       "                      album_name  bars_count  beats_count  sections_count  \\\n",
       "0  Please Please Me (Remastered)        7180        28360            1781   \n",
       "1  Please Please Me (Remastered)        3621        14596            1015   \n",
       "2  Please Please Me (Remastered)        4910        19737            2807   \n",
       "3  Please Please Me (Remastered)        4774        19303            1527   \n",
       "4  Please Please Me (Remastered)        5340        21381            2299   \n",
       "\n",
       "   segments_count  tatums_count  song_length_seconds          bpm  McCartney  \\\n",
       "0          250045         56730              173.946  9782.346245        1.0   \n",
       "1          126147         29210              108.546  8068.100160        1.0   \n",
       "2          190106         39471              177.133  6685.484918        0.0   \n",
       "3          150395         38619              145.080  7983.043838        0.0   \n",
       "4          189816         42772              146.440  8760.311390        0.0   \n",
       "\n",
       "   Lennon  Harrison  Other  \n",
       "0     0.0       0.0    0.0  \n",
       "1     1.0       0.0    0.0  \n",
       "2     0.0       0.0    1.0  \n",
       "3     0.0       0.0    1.0  \n",
       "4     0.0       0.0    1.0  "
      ]
     },
     "execution_count": 37,
     "metadata": {},
     "output_type": "execute_result"
    }
   ],
   "source": [
    "y.head()"
   ]
  },
  {
   "cell_type": "code",
   "execution_count": 9,
   "metadata": {},
   "outputs": [],
   "source": [
    "y.info()\n",
    "\n",
    "def log_norm(df, col):\n",
    "    return(np.log(df[col]))"
   ]
  },
  {
   "cell_type": "code",
   "execution_count": 10,
   "metadata": {},
   "outputs": [],
   "source": [
    "feature_col_names = ['bars_count',\n",
    "                     'beats_count',\n",
    "                     'sections_count',\n",
    "                     'segments_count',\n",
    "                     'tatums_count',\n",
    "                     'song_length_seconds',\n",
    "                     'bpm']"
   ]
  },
  {
   "cell_type": "code",
   "execution_count": 11,
   "metadata": {},
   "outputs": [],
   "source": [
    "## Iterating through columns to normalize the data \n",
    "\n",
    "for i in feature_col_names:\n",
    "    y[i] = log_norm(y, i)"
   ]
  },
  {
   "cell_type": "code",
   "execution_count": 30,
   "metadata": {},
   "outputs": [],
   "source": [
    "log_features = pd.melt(y, id_vars = ['album_number', 'album_name', 'track_number', 'song_name'], var_name = 'feature', value_name = 'value')"
   ]
  },
  {
   "cell_type": "code",
   "execution_count": 34,
   "metadata": {},
   "outputs": [
    {
     "data": {
      "text/html": [
       "<div>\n",
       "<style scoped>\n",
       "    .dataframe tbody tr th:only-of-type {\n",
       "        vertical-align: middle;\n",
       "    }\n",
       "\n",
       "    .dataframe tbody tr th {\n",
       "        vertical-align: top;\n",
       "    }\n",
       "\n",
       "    .dataframe thead th {\n",
       "        text-align: right;\n",
       "    }\n",
       "</style>\n",
       "<table border=\"1\" class=\"dataframe\">\n",
       "  <thead>\n",
       "    <tr style=\"text-align: right;\">\n",
       "      <th></th>\n",
       "      <th>album_number</th>\n",
       "      <th>album_name</th>\n",
       "      <th>track_number</th>\n",
       "      <th>song_name</th>\n",
       "      <th>feature</th>\n",
       "      <th>value</th>\n",
       "    </tr>\n",
       "  </thead>\n",
       "  <tbody>\n",
       "    <tr>\n",
       "      <th>0</th>\n",
       "      <td>1</td>\n",
       "      <td>Please Please Me (Remastered)</td>\n",
       "      <td>1</td>\n",
       "      <td>I Saw Her Standing There - Remastered</td>\n",
       "      <td>acousticness</td>\n",
       "      <td>0.270</td>\n",
       "    </tr>\n",
       "    <tr>\n",
       "      <th>1</th>\n",
       "      <td>1</td>\n",
       "      <td>Please Please Me (Remastered)</td>\n",
       "      <td>2</td>\n",
       "      <td>Misery - Remastered</td>\n",
       "      <td>acousticness</td>\n",
       "      <td>0.707</td>\n",
       "    </tr>\n",
       "    <tr>\n",
       "      <th>2</th>\n",
       "      <td>1</td>\n",
       "      <td>Please Please Me (Remastered)</td>\n",
       "      <td>3</td>\n",
       "      <td>Anna (Go To Him) - Remastered</td>\n",
       "      <td>acousticness</td>\n",
       "      <td>0.635</td>\n",
       "    </tr>\n",
       "    <tr>\n",
       "      <th>3</th>\n",
       "      <td>1</td>\n",
       "      <td>Please Please Me (Remastered)</td>\n",
       "      <td>4</td>\n",
       "      <td>Chains - Remastered</td>\n",
       "      <td>acousticness</td>\n",
       "      <td>0.608</td>\n",
       "    </tr>\n",
       "    <tr>\n",
       "      <th>4</th>\n",
       "      <td>1</td>\n",
       "      <td>Please Please Me (Remastered)</td>\n",
       "      <td>5</td>\n",
       "      <td>Boys - Remastered</td>\n",
       "      <td>acousticness</td>\n",
       "      <td>0.607</td>\n",
       "    </tr>\n",
       "  </tbody>\n",
       "</table>\n",
       "</div>"
      ],
      "text/plain": [
       "   album_number                     album_name  track_number  \\\n",
       "0             1  Please Please Me (Remastered)             1   \n",
       "1             1  Please Please Me (Remastered)             2   \n",
       "2             1  Please Please Me (Remastered)             3   \n",
       "3             1  Please Please Me (Remastered)             4   \n",
       "4             1  Please Please Me (Remastered)             5   \n",
       "\n",
       "                               song_name       feature  value  \n",
       "0  I Saw Her Standing There - Remastered  acousticness  0.270  \n",
       "1                    Misery - Remastered  acousticness  0.707  \n",
       "2          Anna (Go To Him) - Remastered  acousticness  0.635  \n",
       "3                    Chains - Remastered  acousticness  0.608  \n",
       "4                      Boys - Remastered  acousticness  0.607  "
      ]
     },
     "execution_count": 34,
     "metadata": {},
     "output_type": "execute_result"
    }
   ],
   "source": [
    "log_features.head()"
   ]
  },
  {
   "cell_type": "code",
   "execution_count": 15,
   "metadata": {},
   "outputs": [],
   "source": [
    "log_features['value'] = log_features['value'].astype(float)"
   ]
  },
  {
   "cell_type": "code",
   "execution_count": 16,
   "metadata": {},
   "outputs": [],
   "source": [
    "def cat_plot(x):\n",
    "    temp_df = log_features[log_features.feature == x]\n",
    "\n",
    "    sns.lmplot(x=\"album_number\", y=\"value\", hue=\"feature\", data = temp_df)"
   ]
  },
  {
   "cell_type": "code",
   "execution_count": 17,
   "metadata": {},
   "outputs": [],
   "source": [
    "cat_drop = widgets.Dropdown(\n",
    "    options=[\n",
    "        'acousticness',\n",
    "        'danceability',\n",
    "        'energy',\n",
    "        'bars_count',\n",
    "        'beats_count',],\n",
    "    description='Category:',\n",
    "    disabled=False,\n",
    "    readout=True,\n",
    ")"
   ]
  },
  {
   "cell_type": "code",
   "execution_count": 18,
   "metadata": {},
   "outputs": [
    {
     "data": {
      "application/vnd.jupyter.widget-view+json": {
       "model_id": "dc34025190da42d6b87134a40d1fd941",
       "version_major": 2,
       "version_minor": 0
      },
      "text/html": [
       "<p>Failed to display Jupyter Widget of type <code>interactive</code>.</p>\n",
       "<p>\n",
       "  If you're reading this message in the Jupyter Notebook or JupyterLab Notebook, it may mean\n",
       "  that the widgets JavaScript is still loading. If this message persists, it\n",
       "  likely means that the widgets JavaScript library is either not installed or\n",
       "  not enabled. See the <a href=\"https://ipywidgets.readthedocs.io/en/stable/user_install.html\">Jupyter\n",
       "  Widgets Documentation</a> for setup instructions.\n",
       "</p>\n",
       "<p>\n",
       "  If you're reading this message in another frontend (for example, a static\n",
       "  rendering on GitHub or <a href=\"https://nbviewer.jupyter.org/\">NBViewer</a>),\n",
       "  it may mean that your frontend doesn't currently support widgets.\n",
       "</p>\n"
      ],
      "text/plain": [
       "interactive(children=(Dropdown(description='Category:', options=('acousticness', 'danceability', 'energy', 'bars_count', 'beats_count'), value='acousticness'), Output()), _dom_classes=('widget-interact',))"
      ]
     },
     "metadata": {},
     "output_type": "display_data"
    }
   ],
   "source": [
    "widgets.interact(cat_plot, x= cat_drop);"
   ]
  },
  {
   "cell_type": "code",
   "execution_count": 31,
   "metadata": {},
   "outputs": [],
   "source": [
    "def future_value(df, req_feat):\n",
    "    ## Takes the requested feature and calculates the regression line, then plots the regression line\n",
    "    requested_df = df[df.feature == req_feat]\n",
    "\n",
    "    x = np.array(requested_df.album_number)\n",
    "    y = np.array(requested_df.value)\n",
    "\n",
    "    fit = np.polyfit(x, y, 1)\n",
    "    fit_fn = np.poly1d(fit) \n",
    "\n",
    "    #feature_plot = sns.lmplot(x=\"album_number\", y=\"value\", hue=\"feature\", data = requested_df)\n",
    "    print(fit_fn(14))"
   ]
  },
  {
   "cell_type": "code",
   "execution_count": 38,
   "metadata": {},
   "outputs": [
    {
     "name": "stdout",
     "output_type": "stream",
     "text": [
      "0.3062481815012574\n",
      "^ -  acousticness\n",
      "0.46959219997513757\n",
      "^ -  danceability\n",
      "0.42664557767342637\n",
      "^ -  energy\n",
      "-11.716340633032713\n",
      "^ -  loudness\n",
      "6245.045919533548\n",
      "^ -  bars_count\n",
      "23753.920570154514\n",
      "^ -  beats_count\n",
      "2275.0607688945393\n",
      "^ -  sections_count\n",
      "215707.03705322588\n",
      "^ -  segments_count\n",
      "47507.6481647826\n",
      "^ -  tatums_count\n",
      "193.25088127127856\n",
      "^ -  song_length_seconds\n",
      "7251.292658193146\n",
      "^ -  bpm\n",
      "0.49523801885544017\n",
      "^ -  McCartney\n",
      "0.33967061125792514\n",
      "^ -  Lennon\n",
      "0.1935309238042916\n",
      "^ -  Harrison\n",
      "0.0322852296377687\n",
      "^ -  Other\n"
     ]
    }
   ],
   "source": [
    "\n",
    "unique_feat_list = log_features.feature.unique()\n",
    "for i in unique_feat_list:\n",
    "    future_value(log_features, i)\n",
    "    print(\"^ - \", i)"
   ]
  },
  {
   "cell_type": "code",
   "execution_count": null,
   "metadata": {},
   "outputs": [],
   "source": []
  }
 ],
 "metadata": {
  "kernelspec": {
   "display_name": "Python 3",
   "language": "python",
   "name": "python3"
  },
  "language_info": {
   "codemirror_mode": {
    "name": "ipython",
    "version": 3
   },
   "file_extension": ".py",
   "mimetype": "text/x-python",
   "name": "python",
   "nbconvert_exporter": "python",
   "pygments_lexer": "ipython3",
   "version": "3.6.4"
  }
 },
 "nbformat": 4,
 "nbformat_minor": 2
}
