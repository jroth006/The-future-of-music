{
 "cells": [
  {
   "cell_type": "code",
   "execution_count": 1,
   "metadata": {},
   "outputs": [],
   "source": [
    "import spotipy.oauth2\n",
    "from spotipy.oauth2 import SpotifyOAuth\n",
    "import spotipy.util as util\n",
    "import spotipy.util\n",
    "import spotipy\n",
    "import pandas as pd"
   ]
  },
  {
   "cell_type": "code",
   "execution_count": 5,
   "metadata": {},
   "outputs": [
    {
     "name": "stdout",
     "output_type": "stream",
     "text": [
      "https://accounts.spotify.com/authorize?client_id=c11d185f127941938988ee6a37061b85&response_type=code&redirect_uri=http%3A%2F%2Flocalhost%3A8777%2Fcallback%2F\n",
      "Paste the above link into your browser, then paste the redirect url here: http://localhost:8777/callback/?code=AQCaVSfFz3_BkZbS0kfe2YL-jogA2YJ5BhGVic0McdcBkU6viY1nXtT1SaulRcdXSOdKooA4VssoIAwsQuoCXmFH_BbUX08eu_TjfYpWKnHEn8zSPLhLJiVLPDp3aYKFN0GYkF6BHdGVZoxFV9eWTBxWX9FcbwhKS75zKBlNYEfx2zTANJCCD_w9rOXbjKjeBY9Z7mE\n"
     ]
    }
   ],
   "source": [
    "from API_Info import API_CALL\n",
    "\n",
    "sp = API_CALL().api_call()"
   ]
  },
  {
   "cell_type": "code",
   "execution_count": 12,
   "metadata": {},
   "outputs": [],
   "source": [
    "sp = spotipy.Spotify(auth=token)"
   ]
  },
  {
   "cell_type": "code",
   "execution_count": 3,
   "metadata": {},
   "outputs": [],
   "source": [
    "def refresh():\n",
    "    global token_info, sp\n",
    "\n",
    "    if sp_oauth.is_token_expired(token_info):\n",
    "        token_info = sp_oauth.refresh_access_token(token_info['refresh_token'])\n",
    "        token = token_info['access_token']\n",
    "        sp = spotipy.Spotify(auth=token)"
   ]
  },
  {
   "cell_type": "markdown",
   "metadata": {},
   "source": [
    "## Search for Artist ID"
   ]
  },
  {
   "cell_type": "code",
   "execution_count": 6,
   "metadata": {},
   "outputs": [
    {
     "name": "stdout",
     "output_type": "stream",
     "text": [
      "What artists would you like to see? The Beatles\n"
     ]
    }
   ],
   "source": [
    "class sp_artist_search:\n",
    "    \n",
    "    def sp_search_artist(sp_artist_name):\n",
    "        ## Takes user name from user input and searches for artist information - returns dataframe\n",
    "        artist_search_results = sp.search(q = sp_artist_name, limit = 1, type = 'artist')\n",
    "        artist_search_results_2 = artist_search_results['artists']\n",
    "        artist_search_results_3 = artist_search_results_2['items']\n",
    "        sp_search_artists_df = pd.DataFrame(artist_search_results_3)\n",
    "        return sp_search_artists_df\n",
    "\n",
    "    artist_search_df = sp_search_artist(input(\"What artists would you like to see? \"))\n",
    "\n",
    "    ## Collect artist id and genres\n",
    "\n",
    "    artist_search_id = list(artist_search_df.id)\n",
    "\n",
    "    artist_search_genre = list(artist_search_df.genres)"
   ]
  },
  {
   "cell_type": "markdown",
   "metadata": {},
   "source": [
    "## Creating a list of albums"
   ]
  },
  {
   "cell_type": "code",
   "execution_count": 5,
   "metadata": {},
   "outputs": [],
   "source": [
    "class sp_album_search:\n",
    "    \n",
    "    def sp_search_album(sp_artist_id):\n",
    "        album_search_results = sp.artist_albums(sp_artist_id, album_type = 'album')\n",
    "        album_search_results_2 = album_search_results['items']\n",
    "        sp_search_album_df = pd.DataFrame(album_search_results_2)       \n",
    "        return sp_search_album_df\n",
    "    \n",
    "    album_search_df = sp_search_album(sp_artist_search.artist_search_id[0])\n",
    "    \n",
    "    album_name_list = list(album_search_df.name)\n",
    "    album_id = list(album_search_df.id)\n",
    "    album_release_date = list(album_search_df.release_date)"
   ]
  },
  {
   "cell_type": "code",
   "execution_count": 37,
   "metadata": {},
   "outputs": [],
   "source": [
    "# results = sp.artist_albums('spotify:artist:3WrFJ7ztbogyGnTHbHJFl2', album_type='album')\n",
    "\n",
    "# albums = results['items']\n",
    "# while results['next']:\n",
    "#     results = spotify.next(results)\n",
    "#     albums.extend(results['items'])\n",
    "\n",
    "# albums_df = pd.DataFrame(albums)"
   ]
  },
  {
   "cell_type": "markdown",
   "metadata": {},
   "source": [
    "## Creating a list of song info per album"
   ]
  },
  {
   "cell_type": "code",
   "execution_count": 6,
   "metadata": {},
   "outputs": [],
   "source": [
    "## Creating a list of album ID's to reference later\n",
    "# audio_analysis = []\n",
    "\n",
    "# for row in range(len(albums_df)):\n",
    "#     audio_analysis.append(albums_df.id[row])"
   ]
  },
  {
   "cell_type": "code",
   "execution_count": 6,
   "metadata": {},
   "outputs": [],
   "source": [
    "class sp_track_search:\n",
    "\n",
    "    def sp_search_track(album, alb_num, rel_date):\n",
    "        ## Function that utilizes Spotify's album_tracks method to return all tracks from an album ID\n",
    "            track_search_results = sp.album_tracks(album, limit = 50)\n",
    "            track_search_results_2 = track_search_results['items']\n",
    "            sp_search_track_df = pd.DataFrame(track_search_results_2)\n",
    "            sp_search_track_df['album_name'] = alb_num\n",
    "            sp_search_track_df['release_date'] = rel_date\n",
    "            return sp_search_track_df\n",
    "    \n",
    "    for i in range(len(sp_album_search.album_id)):\n",
    "        if i == 0:\n",
    "            album_track_df = sp_search_track(sp_album_search.album_id[i], sp_album_search.album_name_list[i], sp_album_search.album_release_date[i])\n",
    "        else:\n",
    "            new_track_df = sp_search_track(sp_album_search.album_id[i], sp_album_search.album_name_list[i], sp_album_search.album_release_date[i])\n",
    "            album_track_df = album_track_df.append(new_track_df)\n",
    "            album_track_df.reset_index(drop = True, inplace = True)\n",
    "            \n",
    "    track_list = list(album_track_df.id)\n",
    "            "
   ]
  },
  {
   "cell_type": "code",
   "execution_count": 8,
   "metadata": {},
   "outputs": [],
   "source": [
    "## Creating separate dataframes based on API limitations\n",
    "\n",
    "# hollywood_bowl = track_return(audio_analysis[0], 0)\n",
    "# greatest_hits_1 = track_return(audio_analysis[1], 1)\n",
    "# let_it_be = track_return(audio_analysis[2], 2)\n",
    "# abbey_road = track_return(audio_analysis[3], 3)\n",
    "# yellow_sub = track_return(audio_analysis[4], 4)\n",
    "# the_beatles = track_return(audio_analysis[5], 5)\n",
    "# magic_myst_tour = track_return(audio_analysis[6], 6)\n",
    "# sgt_peppers_deluxe = track_return(audio_analysis[7], 7)\n",
    "# sgt_peppers_remastered = track_return(audio_analysis[8], 8)\n",
    "# revolver = track_return(audio_analysis[9], 9)\n",
    "# rubber_soul = track_return(audio_analysis[10], 10)\n",
    "# help_album = track_return(audio_analysis[11], 11)\n",
    "# beatles_for_sale = track_return(audio_analysis[12], 12)\n",
    "# hard_days_night = track_return(audio_analysis[13], 13)\n",
    "# with_the_beatles = track_return(audio_analysis[14], 14)\n",
    "# please_please_me = track_return(audio_analysis[15], 15)"
   ]
  },
  {
   "cell_type": "code",
   "execution_count": 9,
   "metadata": {},
   "outputs": [],
   "source": [
    "## List of all dataframes created above\n",
    "# album_tracks = [hollywood_bowl, greatest_hits_1, let_it_be, abbey_road, yellow_sub, the_beatles, magic_myst_tour, \n",
    "# sgt_peppers_deluxe, sgt_peppers_remastered, revolver, rubber_soul, help_album, beatles_for_sale,\n",
    "# hard_days_night, with_the_beatles, please_please_me]\n",
    "\n",
    "## Concatenate all data into a single dataframe\n",
    "# album_tracks_df = pd.concat(album_tracks)"
   ]
  },
  {
   "cell_type": "markdown",
   "metadata": {},
   "source": [
    "## Creating a dataframe of audio features for each song"
   ]
  },
  {
   "cell_type": "code",
   "execution_count": 7,
   "metadata": {},
   "outputs": [],
   "source": [
    "class sp_audio_features:\n",
    "\n",
    "    def sp_features_audio(song_list):\n",
    "        ## Function that utilizes Spotify's audio_features method to return audio features (energy, tempo, etc)\n",
    "        audio_features_results = sp.audio_features(tracks = song_list)\n",
    "        audio_df = pd.DataFrame(audio_features_results)\n",
    "        return audio_df\n",
    "    \n",
    "    for i in range(len(sp_track_search.track_list)):\n",
    "        if i == 0:\n",
    "            audio_features_df = sp_features_audio(sp_track_search.track_list[i])\n",
    "        else:\n",
    "            new_audio_features_df = sp_features_audio(sp_track_search.track_list[i])\n",
    "            audio_features_df = audio_features_df.append(new_audio_features_df)\n",
    "            audio_features_df.reset_index(drop = True, inplace = True)    "
   ]
  },
  {
   "cell_type": "code",
   "execution_count": 11,
   "metadata": {},
   "outputs": [],
   "source": [
    "## Creating separate dataframes based on API limitations\n",
    "\n",
    "# hollywood_bowl_track_analysis = audio_features(hollywood_bowl.id)\n",
    "# greatest_hits_1_track_analysis = audio_features(greatest_hits_1.id)\n",
    "# let_it_be_track_analysis = audio_features(let_it_be.id)\n",
    "# abbey_road_track_analysis = audio_features(abbey_road.id)\n",
    "# yellow_sub_track_analysis = audio_features(yellow_sub.id)\n",
    "# the_beatles_track_analysis = audio_features(the_beatles.id)\n",
    "# magic_myst_tour_track_analysis = audio_features(magic_myst_tour.id)\n",
    "# sgt_peppers_deluxe_track_analysis = audio_features(sgt_peppers_deluxe.id)\n",
    "# sgt_peppers_remastered_track_analysis = audio_features(sgt_peppers_remastered.id)\n",
    "# revolver_track_analysis = audio_features(revolver.id)\n",
    "# rubber_soul_track_analysis = audio_features(rubber_soul.id)\n",
    "# help_album_track_analysis = audio_features(help_album.id)\n",
    "# beatles_for_sale_track_analysis = audio_features(beatles_for_sale.id)\n",
    "# hard_days_night_track_analysis = audio_features(hard_days_night.id)\n",
    "# with_the_beatles_track_analysis = audio_features(with_the_beatles.id)\n",
    "# please_please_me_track_analysis = audio_features(please_please_me.id)"
   ]
  },
  {
   "cell_type": "code",
   "execution_count": 12,
   "metadata": {},
   "outputs": [],
   "source": [
    "## List of all dataframes created above\n",
    "# audio_analysis_list = [hollywood_bowl_track_analysis, greatest_hits_1_track_analysis, let_it_be_track_analysis, abbey_road_track_analysis,\n",
    "# yellow_sub_track_analysis, the_beatles_track_analysis, magic_myst_tour_track_analysis, sgt_peppers_deluxe_track_analysis,\n",
    "# sgt_peppers_remastered_track_analysis, revolver_track_analysis, rubber_soul_track_analysis, help_album_track_analysis,\n",
    "# beatles_for_sale_track_analysis, hard_days_night_track_analysis, with_the_beatles_track_analysis, please_please_me_track_analysis]\n",
    "\n",
    "# ## Concatenate all data into a single dataframe\n",
    "# audio_analysis_df = pd.concat(audio_analysis_list)"
   ]
  },
  {
   "cell_type": "markdown",
   "metadata": {},
   "source": [
    "## Creating a dataframe of audio analysis for each song"
   ]
  },
  {
   "cell_type": "code",
   "execution_count": 8,
   "metadata": {},
   "outputs": [],
   "source": [
    "class sp_track_analysis:\n",
    "\n",
    "    def sp_analysis_track(song_list):\n",
    "        ## Function that utilizes Spotify's audio_features method to return audio features (energy, tempo, etc)\n",
    "        audio_analysis_list = []\n",
    "        for i in range(len(song_list)):\n",
    "            analysis_results = sp.audio_analysis(song_list[i])\n",
    "            audio_analysis_list.append(analysis_results)\n",
    "        analysis_df = pd.DataFrame(audio_analysis_list)\n",
    "        return analysis_df\n",
    "    \n",
    "    track_analysis_df = sp_analysis_track(sp_track_search.track_list)\n",
    "    track_analysis_df.drop(columns = ['meta', 'track'], inplace = True)"
   ]
  },
  {
   "cell_type": "code",
   "execution_count": 117,
   "metadata": {},
   "outputs": [],
   "source": [
    "## Function that utilizes Spotify's audio_features method to return audio features (energy, tempo, speechiness, etc)\n",
    "\n",
    "# def audio_track_analysis(song_list):\n",
    "#     audio_feat_list = []\n",
    "#     for i in range(len(song_list)):\n",
    "#         results = sp.audio_analysis(song_list[i])\n",
    "#         audio_feat_list.append(results)\n",
    "#     track_df = pd.DataFrame(audio_feat_list)\n",
    "#     return track_df"
   ]
  },
  {
   "cell_type": "code",
   "execution_count": 118,
   "metadata": {},
   "outputs": [],
   "source": [
    "## Creating separate dataframes based on API limitations\n",
    "\n",
    "# hollywood_bowl_audio_analysis = audio_track_analysis(hollywood_bowl.id)\n",
    "# greatest_hits_1_audio_analysis = audio_track_analysis(greatest_hits_1.id)\n",
    "# let_it_be_audio_analysis = audio_track_analysis(let_it_be.id)\n",
    "# abbey_road_audio_analysis = audio_track_analysis(abbey_road.id)\n",
    "# yellow_sub_audio_analysis = audio_track_analysis(yellow_sub.id)\n",
    "# the_beatles_audio_analysis = audio_track_analysis(the_beatles.id)\n",
    "# magic_myst_tour_audio_analysis = audio_track_analysis(magic_myst_tour.id)\n",
    "# sgt_peppers_deluxe_audio_analysis = audio_track_analysis(sgt_peppers_deluxe.id)\n",
    "# sgt_peppers_remastered_audio_analysis = audio_track_analysis(sgt_peppers_remastered.id)\n",
    "# revolver_audio_analysis = audio_track_analysis(revolver.id)\n",
    "# rubber_soul_audio_analysis = audio_track_analysis(rubber_soul.id)\n",
    "# help_album_audio_analysis = audio_track_analysis(help_album.id)\n",
    "# beatles_for_sale_audio_analysis = audio_track_analysis(beatles_for_sale.id)\n",
    "# hard_days_night_audio_analysis = audio_track_analysis(hard_days_night.id)\n",
    "# with_the_beatles_audio_analysis = audio_track_analysis(with_the_beatles.id)\n",
    "# please_please_me_audio_analysis = audio_track_analysis(please_please_me.id)"
   ]
  },
  {
   "cell_type": "code",
   "execution_count": null,
   "metadata": {},
   "outputs": [],
   "source": [
    "## List of all dataframes created above\n",
    "# audio_analysis_list = [hollywood_bowl_audio_analysis, greatest_hits_1_audio_analysis, let_it_be_audio_analysis, abbey_road_audio_analysis,\n",
    "# yellow_sub_audio_analysis, the_beatles_audio_analysis, magic_myst_tour_audio_analysis, sgt_peppers_deluxe_audio_analysis,\n",
    "# sgt_peppers_remastered_audio_analysis, revolver_audio_analysis, rubber_soul_audio_analysis, help_album_audio_analysis,\n",
    "# beatles_for_sale_audio_analysis, hard_days_night_audio_analysis, with_the_beatles_audio_analysis, please_please_me_audio_analysis]\n",
    "\n",
    "# ## Concatenate all data into a single dataframe\n",
    "# audio_track_analysis = pd.concat(audio_analysis_list)"
   ]
  },
  {
   "cell_type": "code",
   "execution_count": 37,
   "metadata": {},
   "outputs": [],
   "source": [
    "# audio_track_analysis.drop(columns = ['meta', 'track'], inplace = True)"
   ]
  },
  {
   "cell_type": "markdown",
   "metadata": {},
   "source": [
    "## Comparing length of audio tracks and audio analysis dataframes - should be equal"
   ]
  },
  {
   "cell_type": "code",
   "execution_count": 9,
   "metadata": {},
   "outputs": [
    {
     "name": "stdout",
     "output_type": "stream",
     "text": [
      "Length of album_track_df:  70\n",
      "Length of audio_features_df:  70\n",
      "Length of track_analysis_df:  70 \n",
      "\n",
      "Difference in length:  0\n"
     ]
    }
   ],
   "source": [
    "print('Length of album_track_df: ', len(sp_track_search.album_track_df))\n",
    "print('Length of audio_features_df: ', len(sp_audio_features.audio_features_df))\n",
    "print('Length of track_analysis_df: ', len(sp_track_analysis.track_analysis_df), '\\n')\n",
    "\n",
    "print('Difference in length: ', abs(len(sp_track_search.album_track_df) - len(sp_audio_features.audio_features_df)))"
   ]
  },
  {
   "cell_type": "code",
   "execution_count": 41,
   "metadata": {},
   "outputs": [],
   "source": [
    "album_tracks_df.to_csv(\"data/album_tracks_df.csv\")\n",
    "audio_analysis_df.to_csv(\"data/audio_analysis_df.csv\")\n",
    "audio_track_analysis.to_csv(\"data/audio_track_analysis.csv\")\n",
    "albums_df.to_csv(\"data/albums_df.csv\")"
   ]
  }
 ],
 "metadata": {
  "kernelspec": {
   "display_name": "Python 3",
   "language": "python",
   "name": "python3"
  },
  "language_info": {
   "codemirror_mode": {
    "name": "ipython",
    "version": 3
   },
   "file_extension": ".py",
   "mimetype": "text/x-python",
   "name": "python",
   "nbconvert_exporter": "python",
   "pygments_lexer": "ipython3",
   "version": "3.6.4"
  }
 },
 "nbformat": 4,
 "nbformat_minor": 2
}
