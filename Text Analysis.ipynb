{
 "cells": [
  {
   "cell_type": "code",
   "execution_count": 178,
   "metadata": {},
   "outputs": [],
   "source": [
    "## Basic Packages\n",
    "import pandas as pd\n",
    "import seaborn as sns\n",
    "import numpy as np\n",
    "import matplotlib.pyplot as plt\n",
    "import re\n",
    "from pprint import pprint\n",
    "\n",
    "## Import NLTK packages\n",
    "from nltk.corpus import stopwords\n",
    "from nltk import RegexpTokenizer\n",
    "from nltk import wordpunct_tokenize\n",
    "from nltk.stem.porter import PorterStemmer\n",
    "from nltk import pos_tag, word_tokenize\n",
    "from sklearn.feature_extraction.text import TfidfTransformer\n",
    "\n",
    "## Import Spacy\n",
    "import spacy\n",
    "\n",
    "## Import Gensim packages\n",
    "import gensim\n",
    "import gensim.corpora as corpora\n",
    "from gensim.utils import simple_preprocess\n",
    "from gensim.models import CoherenceModel, TfidfModel\n",
    "\n",
    "## Plotting Tools\n",
    "import pyLDAvis\n",
    "import pyLDAvis.gensim\n",
    "\n",
    "## Notebook display settings\n",
    "pd.options.display.max_columns = 999"
   ]
  },
  {
   "cell_type": "markdown",
   "metadata": {},
   "source": [
    "## Reading in data"
   ]
  },
  {
   "cell_type": "code",
   "execution_count": 179,
   "metadata": {},
   "outputs": [
    {
     "ename": "FileNotFoundError",
     "evalue": "File b'data//lyric_data.csv' does not exist",
     "output_type": "error",
     "traceback": [
      "\u001b[0;31m---------------------------------------------------------------------------\u001b[0m",
      "\u001b[0;31mFileNotFoundError\u001b[0m                         Traceback (most recent call last)",
      "\u001b[0;32m<ipython-input-179-3b7a4bd12fb6>\u001b[0m in \u001b[0;36m<module>\u001b[0;34m()\u001b[0m\n\u001b[0;32m----> 1\u001b[0;31m \u001b[0mlyrics_df\u001b[0m \u001b[0;34m=\u001b[0m \u001b[0mpd\u001b[0m\u001b[0;34m.\u001b[0m\u001b[0mread_csv\u001b[0m\u001b[0;34m(\u001b[0m\u001b[0;34m'data//lyric_data.csv'\u001b[0m\u001b[0;34m,\u001b[0m \u001b[0mencoding\u001b[0m \u001b[0;34m=\u001b[0m \u001b[0;34m'utf8'\u001b[0m\u001b[0;34m)\u001b[0m\u001b[0;34m\u001b[0m\u001b[0m\n\u001b[0m",
      "\u001b[0;32m~/anaconda3/lib/python3.6/site-packages/pandas/io/parsers.py\u001b[0m in \u001b[0;36mparser_f\u001b[0;34m(filepath_or_buffer, sep, delimiter, header, names, index_col, usecols, squeeze, prefix, mangle_dupe_cols, dtype, engine, converters, true_values, false_values, skipinitialspace, skiprows, nrows, na_values, keep_default_na, na_filter, verbose, skip_blank_lines, parse_dates, infer_datetime_format, keep_date_col, date_parser, dayfirst, iterator, chunksize, compression, thousands, decimal, lineterminator, quotechar, quoting, escapechar, comment, encoding, dialect, tupleize_cols, error_bad_lines, warn_bad_lines, skipfooter, skip_footer, doublequote, delim_whitespace, as_recarray, compact_ints, use_unsigned, low_memory, buffer_lines, memory_map, float_precision)\u001b[0m\n\u001b[1;32m    707\u001b[0m                     skip_blank_lines=skip_blank_lines)\n\u001b[1;32m    708\u001b[0m \u001b[0;34m\u001b[0m\u001b[0m\n\u001b[0;32m--> 709\u001b[0;31m         \u001b[0;32mreturn\u001b[0m \u001b[0m_read\u001b[0m\u001b[0;34m(\u001b[0m\u001b[0mfilepath_or_buffer\u001b[0m\u001b[0;34m,\u001b[0m \u001b[0mkwds\u001b[0m\u001b[0;34m)\u001b[0m\u001b[0;34m\u001b[0m\u001b[0m\n\u001b[0m\u001b[1;32m    710\u001b[0m \u001b[0;34m\u001b[0m\u001b[0m\n\u001b[1;32m    711\u001b[0m     \u001b[0mparser_f\u001b[0m\u001b[0;34m.\u001b[0m\u001b[0m__name__\u001b[0m \u001b[0;34m=\u001b[0m \u001b[0mname\u001b[0m\u001b[0;34m\u001b[0m\u001b[0m\n",
      "\u001b[0;32m~/anaconda3/lib/python3.6/site-packages/pandas/io/parsers.py\u001b[0m in \u001b[0;36m_read\u001b[0;34m(filepath_or_buffer, kwds)\u001b[0m\n\u001b[1;32m    447\u001b[0m \u001b[0;34m\u001b[0m\u001b[0m\n\u001b[1;32m    448\u001b[0m     \u001b[0;31m# Create the parser.\u001b[0m\u001b[0;34m\u001b[0m\u001b[0;34m\u001b[0m\u001b[0m\n\u001b[0;32m--> 449\u001b[0;31m     \u001b[0mparser\u001b[0m \u001b[0;34m=\u001b[0m \u001b[0mTextFileReader\u001b[0m\u001b[0;34m(\u001b[0m\u001b[0mfilepath_or_buffer\u001b[0m\u001b[0;34m,\u001b[0m \u001b[0;34m**\u001b[0m\u001b[0mkwds\u001b[0m\u001b[0;34m)\u001b[0m\u001b[0;34m\u001b[0m\u001b[0m\n\u001b[0m\u001b[1;32m    450\u001b[0m \u001b[0;34m\u001b[0m\u001b[0m\n\u001b[1;32m    451\u001b[0m     \u001b[0;32mif\u001b[0m \u001b[0mchunksize\u001b[0m \u001b[0;32mor\u001b[0m \u001b[0miterator\u001b[0m\u001b[0;34m:\u001b[0m\u001b[0;34m\u001b[0m\u001b[0m\n",
      "\u001b[0;32m~/anaconda3/lib/python3.6/site-packages/pandas/io/parsers.py\u001b[0m in \u001b[0;36m__init__\u001b[0;34m(self, f, engine, **kwds)\u001b[0m\n\u001b[1;32m    816\u001b[0m             \u001b[0mself\u001b[0m\u001b[0;34m.\u001b[0m\u001b[0moptions\u001b[0m\u001b[0;34m[\u001b[0m\u001b[0;34m'has_index_names'\u001b[0m\u001b[0;34m]\u001b[0m \u001b[0;34m=\u001b[0m \u001b[0mkwds\u001b[0m\u001b[0;34m[\u001b[0m\u001b[0;34m'has_index_names'\u001b[0m\u001b[0;34m]\u001b[0m\u001b[0;34m\u001b[0m\u001b[0m\n\u001b[1;32m    817\u001b[0m \u001b[0;34m\u001b[0m\u001b[0m\n\u001b[0;32m--> 818\u001b[0;31m         \u001b[0mself\u001b[0m\u001b[0;34m.\u001b[0m\u001b[0m_make_engine\u001b[0m\u001b[0;34m(\u001b[0m\u001b[0mself\u001b[0m\u001b[0;34m.\u001b[0m\u001b[0mengine\u001b[0m\u001b[0;34m)\u001b[0m\u001b[0;34m\u001b[0m\u001b[0m\n\u001b[0m\u001b[1;32m    819\u001b[0m \u001b[0;34m\u001b[0m\u001b[0m\n\u001b[1;32m    820\u001b[0m     \u001b[0;32mdef\u001b[0m \u001b[0mclose\u001b[0m\u001b[0;34m(\u001b[0m\u001b[0mself\u001b[0m\u001b[0;34m)\u001b[0m\u001b[0;34m:\u001b[0m\u001b[0;34m\u001b[0m\u001b[0m\n",
      "\u001b[0;32m~/anaconda3/lib/python3.6/site-packages/pandas/io/parsers.py\u001b[0m in \u001b[0;36m_make_engine\u001b[0;34m(self, engine)\u001b[0m\n\u001b[1;32m   1047\u001b[0m     \u001b[0;32mdef\u001b[0m \u001b[0m_make_engine\u001b[0m\u001b[0;34m(\u001b[0m\u001b[0mself\u001b[0m\u001b[0;34m,\u001b[0m \u001b[0mengine\u001b[0m\u001b[0;34m=\u001b[0m\u001b[0;34m'c'\u001b[0m\u001b[0;34m)\u001b[0m\u001b[0;34m:\u001b[0m\u001b[0;34m\u001b[0m\u001b[0m\n\u001b[1;32m   1048\u001b[0m         \u001b[0;32mif\u001b[0m \u001b[0mengine\u001b[0m \u001b[0;34m==\u001b[0m \u001b[0;34m'c'\u001b[0m\u001b[0;34m:\u001b[0m\u001b[0;34m\u001b[0m\u001b[0m\n\u001b[0;32m-> 1049\u001b[0;31m             \u001b[0mself\u001b[0m\u001b[0;34m.\u001b[0m\u001b[0m_engine\u001b[0m \u001b[0;34m=\u001b[0m \u001b[0mCParserWrapper\u001b[0m\u001b[0;34m(\u001b[0m\u001b[0mself\u001b[0m\u001b[0;34m.\u001b[0m\u001b[0mf\u001b[0m\u001b[0;34m,\u001b[0m \u001b[0;34m**\u001b[0m\u001b[0mself\u001b[0m\u001b[0;34m.\u001b[0m\u001b[0moptions\u001b[0m\u001b[0;34m)\u001b[0m\u001b[0;34m\u001b[0m\u001b[0m\n\u001b[0m\u001b[1;32m   1050\u001b[0m         \u001b[0;32melse\u001b[0m\u001b[0;34m:\u001b[0m\u001b[0;34m\u001b[0m\u001b[0m\n\u001b[1;32m   1051\u001b[0m             \u001b[0;32mif\u001b[0m \u001b[0mengine\u001b[0m \u001b[0;34m==\u001b[0m \u001b[0;34m'python'\u001b[0m\u001b[0;34m:\u001b[0m\u001b[0;34m\u001b[0m\u001b[0m\n",
      "\u001b[0;32m~/anaconda3/lib/python3.6/site-packages/pandas/io/parsers.py\u001b[0m in \u001b[0;36m__init__\u001b[0;34m(self, src, **kwds)\u001b[0m\n\u001b[1;32m   1693\u001b[0m         \u001b[0mkwds\u001b[0m\u001b[0;34m[\u001b[0m\u001b[0;34m'allow_leading_cols'\u001b[0m\u001b[0;34m]\u001b[0m \u001b[0;34m=\u001b[0m \u001b[0mself\u001b[0m\u001b[0;34m.\u001b[0m\u001b[0mindex_col\u001b[0m \u001b[0;32mis\u001b[0m \u001b[0;32mnot\u001b[0m \u001b[0;32mFalse\u001b[0m\u001b[0;34m\u001b[0m\u001b[0m\n\u001b[1;32m   1694\u001b[0m \u001b[0;34m\u001b[0m\u001b[0m\n\u001b[0;32m-> 1695\u001b[0;31m         \u001b[0mself\u001b[0m\u001b[0;34m.\u001b[0m\u001b[0m_reader\u001b[0m \u001b[0;34m=\u001b[0m \u001b[0mparsers\u001b[0m\u001b[0;34m.\u001b[0m\u001b[0mTextReader\u001b[0m\u001b[0;34m(\u001b[0m\u001b[0msrc\u001b[0m\u001b[0;34m,\u001b[0m \u001b[0;34m**\u001b[0m\u001b[0mkwds\u001b[0m\u001b[0;34m)\u001b[0m\u001b[0;34m\u001b[0m\u001b[0m\n\u001b[0m\u001b[1;32m   1696\u001b[0m \u001b[0;34m\u001b[0m\u001b[0m\n\u001b[1;32m   1697\u001b[0m         \u001b[0;31m# XXX\u001b[0m\u001b[0;34m\u001b[0m\u001b[0;34m\u001b[0m\u001b[0m\n",
      "\u001b[0;32mpandas/_libs/parsers.pyx\u001b[0m in \u001b[0;36mpandas._libs.parsers.TextReader.__cinit__\u001b[0;34m()\u001b[0m\n",
      "\u001b[0;32mpandas/_libs/parsers.pyx\u001b[0m in \u001b[0;36mpandas._libs.parsers.TextReader._setup_parser_source\u001b[0;34m()\u001b[0m\n",
      "\u001b[0;31mFileNotFoundError\u001b[0m: File b'data//lyric_data.csv' does not exist"
     ]
    }
   ],
   "source": [
    "lyrics_df = pd.read_csv('data//lyric_data.csv', encoding = 'utf8')"
   ]
  },
  {
   "cell_type": "code",
   "execution_count": 180,
   "metadata": {},
   "outputs": [
    {
     "ename": "NameError",
     "evalue": "name 'lyrics_df' is not defined",
     "output_type": "error",
     "traceback": [
      "\u001b[0;31m---------------------------------------------------------------------------\u001b[0m",
      "\u001b[0;31mNameError\u001b[0m                                 Traceback (most recent call last)",
      "\u001b[0;32m<ipython-input-180-a4c2fcb6ef33>\u001b[0m in \u001b[0;36m<module>\u001b[0;34m()\u001b[0m\n\u001b[0;32m----> 1\u001b[0;31m \u001b[0mbeatles_lyrics\u001b[0m \u001b[0;34m=\u001b[0m \u001b[0mlyrics_df\u001b[0m\u001b[0;34m[\u001b[0m\u001b[0mlyrics_df\u001b[0m\u001b[0;34m.\u001b[0m\u001b[0martist\u001b[0m \u001b[0;34m==\u001b[0m \u001b[0;34m'The Beatles'\u001b[0m\u001b[0;34m]\u001b[0m\u001b[0;34m\u001b[0m\u001b[0m\n\u001b[0m",
      "\u001b[0;31mNameError\u001b[0m: name 'lyrics_df' is not defined"
     ]
    }
   ],
   "source": [
    "beatles_lyrics = lyrics_df[lyrics_df.artist == 'The Beatles']"
   ]
  },
  {
   "cell_type": "code",
   "execution_count": null,
   "metadata": {},
   "outputs": [],
   "source": [
    "beatles_lyrics.drop(columns = ['link'], inplace = True)"
   ]
  },
  {
   "cell_type": "code",
   "execution_count": null,
   "metadata": {},
   "outputs": [],
   "source": [
    "beatles_lyrics.reset_index(drop = True, inplace = True)"
   ]
  },
  {
   "cell_type": "code",
   "execution_count": null,
   "metadata": {},
   "outputs": [],
   "source": [
    "beatles_lyrics.rename(columns = {'text' : 'lyrics'}, inplace = True)"
   ]
  },
  {
   "cell_type": "code",
   "execution_count": null,
   "metadata": {},
   "outputs": [],
   "source": [
    "beatles_lyrics.to_csv('data//beatles_lyrics.csv')"
   ]
  },
  {
   "cell_type": "markdown",
   "metadata": {},
   "source": [
    "## Text cleanup"
   ]
  },
  {
   "cell_type": "code",
   "execution_count": 2,
   "metadata": {},
   "outputs": [],
   "source": [
    "beatles_lyrics = pd.read_csv('data//beatles_lyrics.csv')"
   ]
  },
  {
   "cell_type": "code",
   "execution_count": 3,
   "metadata": {},
   "outputs": [],
   "source": [
    "## Creating a list of lyrics\n",
    "\n",
    "stripped_lyrics = beatles_lyrics.lyrics.values.tolist()\n",
    "stripped_lyrics = [x.lower() for x in stripped_lyrics]"
   ]
  },
  {
   "cell_type": "code",
   "execution_count": 4,
   "metadata": {},
   "outputs": [],
   "source": [
    "## Cleaning up the text - removing new lines, extra spaces, random characters\n",
    "\n",
    "stripped_lyrics = [re.sub('\\n', '', sent) for sent in stripped_lyrics]\n",
    "stripped_lyrics = [re.sub('\\s{2,}', ' ', sent) for sent in stripped_lyrics]\n",
    "stripped_lyrics = [re.sub(\"\\\\\\'\", '', sent) for sent in stripped_lyrics]"
   ]
  },
  {
   "cell_type": "code",
   "execution_count": 5,
   "metadata": {},
   "outputs": [
    {
     "data": {
      "text/plain": [
       "178"
      ]
     },
     "execution_count": 5,
     "metadata": {},
     "output_type": "execute_result"
    }
   ],
   "source": [
    "len(stripped_lyrics)"
   ]
  },
  {
   "cell_type": "code",
   "execution_count": 6,
   "metadata": {},
   "outputs": [],
   "source": [
    "## Importing a stop word list and including a few extra words\n",
    "\n",
    "stop_words = stopwords.words('english')\n",
    "stop_words.extend(['hey', 'nah', '[chorus]', 'la', 'na', 'ta', 'll'])"
   ]
  },
  {
   "cell_type": "code",
   "execution_count": 126,
   "metadata": {},
   "outputs": [],
   "source": [
    "## Tokenizing the lyrics in each song using RegexpTokenizer and removing stop words\n",
    "\n",
    "tokenizer = RegexpTokenizer(r'\\w+')\n",
    "porter = PorterStemmer()\n",
    "\n",
    "token_list = []\n",
    "\n",
    "for i in range(len(stripped_lyrics)):   \n",
    "    tokenized_list = []\n",
    "    #tokenized_list = tokenizer.tokenize(stripped_lyrics[i])\n",
    "    tokenized_list = word_tokenize(stripped_lyrics[i])\n",
    "    tokenized_list = [i for i in tokenized_list if i not in stop_words]\n",
    "    #tokenized_list = [pos_tag(word_tokenize(tokens), tagset='universal') for tokens in tokenized_list]\n",
    "    #tokenized_list = [porter.stem(tokens) for tokens in tokenized_list]\n",
    "    token_list.append(tokenized_list)"
   ]
  },
  {
   "cell_type": "code",
   "execution_count": 127,
   "metadata": {},
   "outputs": [],
   "source": [
    "longer_token_list = []\n",
    "\n",
    "for i in token_list:\n",
    "    iterate_list = []\n",
    "    for j in i:\n",
    "        if ((len(j) > 3) == True):\n",
    "            iterate_list.append(j)\n",
    "    longer_token_list.append(iterate_list)"
   ]
  },
  {
   "cell_type": "code",
   "execution_count": 128,
   "metadata": {},
   "outputs": [],
   "source": [
    "token_list = longer_token_list"
   ]
  },
  {
   "cell_type": "code",
   "execution_count": 104,
   "metadata": {},
   "outputs": [
    {
     "name": "stderr",
     "output_type": "stream",
     "text": [
      "/Users/justin/anaconda3/lib/python3.6/site-packages/msgpack_numpy.py:84: DeprecationWarning: The binary mode of fromstring is deprecated, as it behaves surprisingly on unicode inputs. Use frombuffer instead\n",
      "  dtype=np.dtype(descr)).reshape(obj[b'shape'])\n",
      "/Users/justin/anaconda3/lib/python3.6/site-packages/msgpack_numpy.py:88: DeprecationWarning: The binary mode of fromstring is deprecated, as it behaves surprisingly on unicode inputs. Use frombuffer instead\n",
      "  dtype=np.dtype(descr))[0]\n",
      "/Users/justin/anaconda3/lib/python3.6/site-packages/msgpack_numpy.py:84: DeprecationWarning: The binary mode of fromstring is deprecated, as it behaves surprisingly on unicode inputs. Use frombuffer instead\n",
      "  dtype=np.dtype(descr)).reshape(obj[b'shape'])\n",
      "/Users/justin/anaconda3/lib/python3.6/site-packages/msgpack_numpy.py:84: DeprecationWarning: The binary mode of fromstring is deprecated, as it behaves surprisingly on unicode inputs. Use frombuffer instead\n",
      "  dtype=np.dtype(descr)).reshape(obj[b'shape'])\n",
      "/Users/justin/anaconda3/lib/python3.6/site-packages/msgpack_numpy.py:88: DeprecationWarning: The binary mode of fromstring is deprecated, as it behaves surprisingly on unicode inputs. Use frombuffer instead\n",
      "  dtype=np.dtype(descr))[0]\n",
      "/Users/justin/anaconda3/lib/python3.6/site-packages/msgpack_numpy.py:84: DeprecationWarning: The binary mode of fromstring is deprecated, as it behaves surprisingly on unicode inputs. Use frombuffer instead\n",
      "  dtype=np.dtype(descr)).reshape(obj[b'shape'])\n",
      "/Users/justin/anaconda3/lib/python3.6/site-packages/msgpack_numpy.py:84: DeprecationWarning: The binary mode of fromstring is deprecated, as it behaves surprisingly on unicode inputs. Use frombuffer instead\n",
      "  dtype=np.dtype(descr)).reshape(obj[b'shape'])\n",
      "/Users/justin/anaconda3/lib/python3.6/site-packages/msgpack_numpy.py:88: DeprecationWarning: The binary mode of fromstring is deprecated, as it behaves surprisingly on unicode inputs. Use frombuffer instead\n",
      "  dtype=np.dtype(descr))[0]\n",
      "/Users/justin/anaconda3/lib/python3.6/site-packages/msgpack_numpy.py:84: DeprecationWarning: The binary mode of fromstring is deprecated, as it behaves surprisingly on unicode inputs. Use frombuffer instead\n",
      "  dtype=np.dtype(descr)).reshape(obj[b'shape'])\n",
      "/Users/justin/anaconda3/lib/python3.6/site-packages/msgpack_numpy.py:84: DeprecationWarning: The binary mode of fromstring is deprecated, as it behaves surprisingly on unicode inputs. Use frombuffer instead\n",
      "  dtype=np.dtype(descr)).reshape(obj[b'shape'])\n",
      "/Users/justin/anaconda3/lib/python3.6/site-packages/msgpack_numpy.py:88: DeprecationWarning: The binary mode of fromstring is deprecated, as it behaves surprisingly on unicode inputs. Use frombuffer instead\n",
      "  dtype=np.dtype(descr))[0]\n",
      "/Users/justin/anaconda3/lib/python3.6/site-packages/msgpack_numpy.py:84: DeprecationWarning: The binary mode of fromstring is deprecated, as it behaves surprisingly on unicode inputs. Use frombuffer instead\n",
      "  dtype=np.dtype(descr)).reshape(obj[b'shape'])\n",
      "/Users/justin/anaconda3/lib/python3.6/site-packages/msgpack_numpy.py:84: DeprecationWarning: The binary mode of fromstring is deprecated, as it behaves surprisingly on unicode inputs. Use frombuffer instead\n",
      "  dtype=np.dtype(descr)).reshape(obj[b'shape'])\n",
      "/Users/justin/anaconda3/lib/python3.6/site-packages/msgpack_numpy.py:88: DeprecationWarning: The binary mode of fromstring is deprecated, as it behaves surprisingly on unicode inputs. Use frombuffer instead\n",
      "  dtype=np.dtype(descr))[0]\n",
      "/Users/justin/anaconda3/lib/python3.6/site-packages/msgpack_numpy.py:84: DeprecationWarning: The binary mode of fromstring is deprecated, as it behaves surprisingly on unicode inputs. Use frombuffer instead\n",
      "  dtype=np.dtype(descr)).reshape(obj[b'shape'])\n",
      "/Users/justin/anaconda3/lib/python3.6/site-packages/msgpack_numpy.py:84: DeprecationWarning: The binary mode of fromstring is deprecated, as it behaves surprisingly on unicode inputs. Use frombuffer instead\n",
      "  dtype=np.dtype(descr)).reshape(obj[b'shape'])\n",
      "/Users/justin/anaconda3/lib/python3.6/site-packages/msgpack_numpy.py:88: DeprecationWarning: The binary mode of fromstring is deprecated, as it behaves surprisingly on unicode inputs. Use frombuffer instead\n",
      "  dtype=np.dtype(descr))[0]\n",
      "/Users/justin/anaconda3/lib/python3.6/site-packages/msgpack_numpy.py:84: DeprecationWarning: The binary mode of fromstring is deprecated, as it behaves surprisingly on unicode inputs. Use frombuffer instead\n",
      "  dtype=np.dtype(descr)).reshape(obj[b'shape'])\n",
      "/Users/justin/anaconda3/lib/python3.6/site-packages/msgpack_numpy.py:84: DeprecationWarning: The binary mode of fromstring is deprecated, as it behaves surprisingly on unicode inputs. Use frombuffer instead\n",
      "  dtype=np.dtype(descr)).reshape(obj[b'shape'])\n",
      "/Users/justin/anaconda3/lib/python3.6/site-packages/msgpack_numpy.py:84: DeprecationWarning: The binary mode of fromstring is deprecated, as it behaves surprisingly on unicode inputs. Use frombuffer instead\n",
      "  dtype=np.dtype(descr)).reshape(obj[b'shape'])\n",
      "/Users/justin/anaconda3/lib/python3.6/site-packages/msgpack_numpy.py:88: DeprecationWarning: The binary mode of fromstring is deprecated, as it behaves surprisingly on unicode inputs. Use frombuffer instead\n",
      "  dtype=np.dtype(descr))[0]\n",
      "/Users/justin/anaconda3/lib/python3.6/site-packages/msgpack_numpy.py:84: DeprecationWarning: The binary mode of fromstring is deprecated, as it behaves surprisingly on unicode inputs. Use frombuffer instead\n",
      "  dtype=np.dtype(descr)).reshape(obj[b'shape'])\n",
      "/Users/justin/anaconda3/lib/python3.6/site-packages/msgpack_numpy.py:84: DeprecationWarning: The binary mode of fromstring is deprecated, as it behaves surprisingly on unicode inputs. Use frombuffer instead\n",
      "  dtype=np.dtype(descr)).reshape(obj[b'shape'])\n",
      "/Users/justin/anaconda3/lib/python3.6/site-packages/msgpack_numpy.py:88: DeprecationWarning: The binary mode of fromstring is deprecated, as it behaves surprisingly on unicode inputs. Use frombuffer instead\n",
      "  dtype=np.dtype(descr))[0]\n",
      "/Users/justin/anaconda3/lib/python3.6/site-packages/msgpack_numpy.py:84: DeprecationWarning: The binary mode of fromstring is deprecated, as it behaves surprisingly on unicode inputs. Use frombuffer instead\n",
      "  dtype=np.dtype(descr)).reshape(obj[b'shape'])\n",
      "/Users/justin/anaconda3/lib/python3.6/site-packages/msgpack_numpy.py:84: DeprecationWarning: The binary mode of fromstring is deprecated, as it behaves surprisingly on unicode inputs. Use frombuffer instead\n",
      "  dtype=np.dtype(descr)).reshape(obj[b'shape'])\n",
      "/Users/justin/anaconda3/lib/python3.6/site-packages/msgpack_numpy.py:88: DeprecationWarning: The binary mode of fromstring is deprecated, as it behaves surprisingly on unicode inputs. Use frombuffer instead\n",
      "  dtype=np.dtype(descr))[0]\n",
      "/Users/justin/anaconda3/lib/python3.6/site-packages/msgpack_numpy.py:84: DeprecationWarning: The binary mode of fromstring is deprecated, as it behaves surprisingly on unicode inputs. Use frombuffer instead\n",
      "  dtype=np.dtype(descr)).reshape(obj[b'shape'])\n",
      "/Users/justin/anaconda3/lib/python3.6/site-packages/msgpack_numpy.py:84: DeprecationWarning: The binary mode of fromstring is deprecated, as it behaves surprisingly on unicode inputs. Use frombuffer instead\n",
      "  dtype=np.dtype(descr)).reshape(obj[b'shape'])\n",
      "/Users/justin/anaconda3/lib/python3.6/site-packages/msgpack_numpy.py:88: DeprecationWarning: The binary mode of fromstring is deprecated, as it behaves surprisingly on unicode inputs. Use frombuffer instead\n",
      "  dtype=np.dtype(descr))[0]\n",
      "/Users/justin/anaconda3/lib/python3.6/site-packages/msgpack_numpy.py:84: DeprecationWarning: The binary mode of fromstring is deprecated, as it behaves surprisingly on unicode inputs. Use frombuffer instead\n",
      "  dtype=np.dtype(descr)).reshape(obj[b'shape'])\n",
      "/Users/justin/anaconda3/lib/python3.6/site-packages/msgpack_numpy.py:84: DeprecationWarning: The binary mode of fromstring is deprecated, as it behaves surprisingly on unicode inputs. Use frombuffer instead\n",
      "  dtype=np.dtype(descr)).reshape(obj[b'shape'])\n",
      "/Users/justin/anaconda3/lib/python3.6/site-packages/msgpack_numpy.py:88: DeprecationWarning: The binary mode of fromstring is deprecated, as it behaves surprisingly on unicode inputs. Use frombuffer instead\n",
      "  dtype=np.dtype(descr))[0]\n",
      "/Users/justin/anaconda3/lib/python3.6/site-packages/msgpack_numpy.py:84: DeprecationWarning: The binary mode of fromstring is deprecated, as it behaves surprisingly on unicode inputs. Use frombuffer instead\n",
      "  dtype=np.dtype(descr)).reshape(obj[b'shape'])\n",
      "/Users/justin/anaconda3/lib/python3.6/site-packages/msgpack_numpy.py:84: DeprecationWarning: The binary mode of fromstring is deprecated, as it behaves surprisingly on unicode inputs. Use frombuffer instead\n",
      "  dtype=np.dtype(descr)).reshape(obj[b'shape'])\n",
      "/Users/justin/anaconda3/lib/python3.6/site-packages/msgpack_numpy.py:84: DeprecationWarning: The binary mode of fromstring is deprecated, as it behaves surprisingly on unicode inputs. Use frombuffer instead\n",
      "  dtype=np.dtype(descr)).reshape(obj[b'shape'])\n",
      "/Users/justin/anaconda3/lib/python3.6/site-packages/msgpack_numpy.py:84: DeprecationWarning: The binary mode of fromstring is deprecated, as it behaves surprisingly on unicode inputs. Use frombuffer instead\n",
      "  dtype=np.dtype(descr)).reshape(obj[b'shape'])\n"
     ]
    }
   ],
   "source": [
    "nlp = spacy.load('en', disable=['parser', 'ner'])"
   ]
  },
  {
   "cell_type": "code",
   "execution_count": 116,
   "metadata": {},
   "outputs": [],
   "source": [
    "def lemmatization(texts, allowed_postags=['NOUN', 'VERB', 'ADJ', 'ADV']):\n",
    "    \"\"\"https://spacy.io/api/annotation\"\"\"\n",
    "    texts_out = []\n",
    "    for sent in texts:\n",
    "        doc = nlp(\" \".join(sent)) \n",
    "        texts_out.append([token.lemma_ for token in doc if token.pos_ in allowed_postags])\n",
    "    return texts_out"
   ]
  },
  {
   "cell_type": "code",
   "execution_count": 117,
   "metadata": {},
   "outputs": [],
   "source": [
    "token_list = lemmatization(token_list, allowed_postags=['NOUN', 'VERB', 'ADJ', 'ADV'])"
   ]
  },
  {
   "cell_type": "code",
   "execution_count": 118,
   "metadata": {},
   "outputs": [
    {
     "name": "stderr",
     "output_type": "stream",
     "text": [
      "/Users/justin/anaconda3/lib/python3.6/site-packages/gensim/models/phrases.py:494: UserWarning: For a faster implementation, use the gensim.models.phrases.Phraser class\n",
      "  warnings.warn(\"For a faster implementation, use the gensim.models.phrases.Phraser class\")\n"
     ]
    }
   ],
   "source": [
    "# Build the bigram and trigram models\n",
    "bigram = gensim.models.Phrases(token_list, min_count=5, threshold=70) # higher threshold fewer phrases.\n",
    "trigram = gensim.models.Phrases(bigram[token_list], threshold=70)  \n",
    "\n",
    "# Faster way to get a sentence labeled as a trigram/bigram\n",
    "bigram_mod = gensim.models.phrases.Phraser(bigram)\n",
    "trigram_mod = gensim.models.phrases.Phraser(trigram)"
   ]
  },
  {
   "cell_type": "code",
   "execution_count": 129,
   "metadata": {},
   "outputs": [],
   "source": [
    "def make_bigrams(texts):\n",
    "    return [bigram_mod[doc] for doc in texts]\n",
    "\n",
    "def make_trigrams(texts):\n",
    "    return [trigram_mod[bigram_mod[doc]] for doc in texts]"
   ]
  },
  {
   "cell_type": "code",
   "execution_count": 130,
   "metadata": {},
   "outputs": [],
   "source": [
    "data_words_bigrams = make_bigrams(token_list)\n",
    "data_words_trigrams = make_trigrams(token_list)"
   ]
  },
  {
   "cell_type": "code",
   "execution_count": 131,
   "metadata": {},
   "outputs": [
    {
     "name": "stdout",
     "output_type": "stream",
     "text": [
      "[[(0, 1), (1, 1), (2, 1), (3, 2), (4, 1), (5, 3), (6, 4), (7, 3), (8, 2), (9, 3), (10, 3), (11, 1), (12, 3), (13, 3), (14, 6), (15, 1), (16, 1), (17, 3), (18, 1), (19, 6), (20, 2), (21, 1), (22, 1), (23, 5), (24, 3), (25, 1), (26, 2), (27, 3), (28, 2), (29, 1), (30, 3), (31, 1), (32, 1), (33, 7), (34, 2), (35, 3), (36, 3), (37, 3), (38, 4), (39, 5), (40, 3), (41, 5), (42, 1), (43, 7), (44, 1), (45, 1), (46, 1), (47, 3), (48, 3), (49, 9), (50, 3), (51, 3)]]\n"
     ]
    }
   ],
   "source": [
    "# Create Dictionary\n",
    "id2word = corpora.Dictionary(data_words_trigrams)\n",
    "\n",
    "# Create Corpus\n",
    "texts = data_words_trigrams\n",
    "\n",
    "# Term Document Frequency\n",
    "corpus = [id2word.doc2bow(text) for text in texts]\n",
    "\n",
    "# View\n",
    "print(corpus[:1])"
   ]
  },
  {
   "cell_type": "code",
   "execution_count": 132,
   "metadata": {},
   "outputs": [],
   "source": [
    "# Build LDA model\n",
    "lda_model = gensim.models.ldamodel.LdaModel(corpus=corpus,\n",
    "                                           id2word=id2word,\n",
    "                                           num_topics=5,\n",
    "                                           random_state=42,\n",
    "                                           update_every=10,\n",
    "                                           chunksize=50,\n",
    "                                           passes=4,\n",
    "                                           alpha='auto',\n",
    "                                           per_word_topics=True)"
   ]
  },
  {
   "cell_type": "code",
   "execution_count": 173,
   "metadata": {},
   "outputs": [],
   "source": [
    "tfidf_model = gensim.models.TfidfModel(corpus, id2word = id2word)\n",
    "\n",
    "lda_model = gensim.models.ldamodel.LdaModel(tfidf_model[corpus], id2word = id2word, num_topics = 13)"
   ]
  },
  {
   "cell_type": "code",
   "execution_count": 174,
   "metadata": {},
   "outputs": [
    {
     "name": "stdout",
     "output_type": "stream",
     "text": [
      "[(0,\n",
      "  '0.008*\"yeah\" + 0.004*\"sunshine\" + 0.004*\"hand\" + 0.004*\"wont\" + '\n",
      "  '0.004*\"commonwealth\" + 0.004*\"youve\" + 0.004*\"loving\" + 0.003*\"coming\" + '\n",
      "  '0.003*\"leave\" + 0.003*\"blackbird\"'),\n",
      " (1,\n",
      "  '0.005*\"hello\" + 0.004*\"help\" + 0.004*\"lucille\" + 0.004*\"well\" + '\n",
      "  '0.003*\"cross_town\" + 0.003*\"roll_mystery_tour\" + 0.003*\"never\" + '\n",
      "  '0.003*\"waited\" + 0.003*\"bulldog\" + 0.003*\"dreamers\"'),\n",
      " (2,\n",
      "  '0.005*\"christmas\" + 0.005*\"dear_prudence\" + 0.005*\"to-night\" + '\n",
      "  '0.004*\"tonight\" + 0.004*\"lucy\" + 0.004*\"diamonds\" + 0.003*\"black\" + '\n",
      "  '0.003*\"hands\" + 0.003*\"keep\" + 0.003*\"molly\"'),\n",
      " (3,\n",
      "  '0.007*\"better\" + 0.005*\"robert\" + 0.005*\"girl\" + 0.004*\"back\" + '\n",
      "  '0.004*\"together\" + 0.003*\"week\" + 0.003*\"thing\" + 0.003*\"cheat\" + '\n",
      "  '0.003*\"jude\" + 0.003*\"belonged\"'),\n",
      " (4,\n",
      "  '0.008*\"want\" + 0.005*\"money\" + 0.004*\"thats\" + 0.004*\"komm\" + '\n",
      "  '0.004*\"mister_moonlight\" + 0.004*\"guilty\" + 0.004*\"misery\" + '\n",
      "  '0.004*\"evrything\" + 0.003*\"love\" + 0.003*\"needed\"'),\n",
      " (5,\n",
      "  '0.005*\"rich\" + 0.004*\"bother\" + 0.004*\"tripper\" + 0.004*\"loved\" + '\n",
      "  '0.004*\"theyd\" + 0.003*\"anything\" + 0.003*\"spite\" + 0.003*\"youre\" + '\n",
      "  '0.003*\"lovely\" + 0.003*\"girl\"'),\n",
      " (6,\n",
      "  '0.005*\"honey\" + 0.004*\"dont\" + 0.004*\"paranoias\" + 0.004*\"cant\" + '\n",
      "  '0.004*\"goodbye\" + 0.004*\"ever\" + 0.004*\"right\" + 0.004*\"much\" + '\n",
      "  '0.004*\"nowhere\" + 0.004*\"mine\"'),\n",
      " (7,\n",
      "  '0.006*\"shes\" + 0.005*\"love\" + 0.004*\"must_pass\" + 0.004*\"driving\" + '\n",
      "  '0.004*\"blue_suede\" + 0.004*\"brian\" + 0.003*\"whoa\" + 0.003*\"shoes\" + '\n",
      "  '0.003*\"second\" + 0.003*\"want\"'),\n",
      " (8,\n",
      "  '0.004*\"yeah\" + 0.004*\"clarabella\" + 0.004*\"harp\" + 0.004*\"loser\" + '\n",
      "  '0.004*\"imagine\" + 0.003*\"ussr\" + 0.003*\"theres\" + 0.003*\"baby\" + '\n",
      "  '0.003*\"love\" + 0.003*\"john\"'),\n",
      " (9,\n",
      "  '0.005*\"long\" + 0.005*\"chains\" + 0.005*\"love\" + 0.004*\"dance\" + '\n",
      "  '0.004*\"birthday\" + 0.004*\"please\" + 0.004*\"baby\" + 0.004*\"need\" + '\n",
      "  '0.004*\"girl\" + 0.004*\"bonnie\"'),\n",
      " (10,\n",
      "  '0.006*\"dont\" + 0.005*\"carry_weight\" + 0.005*\"comes\" + 0.004*\"johnny\" + '\n",
      "  '0.004*\"free_bird\" + 0.004*\"child\" + 0.004*\"needed\" + 0.004*\"make\" + '\n",
      "  '0.004*\"brian\" + 0.003*\"little\"'),\n",
      " (11,\n",
      "  '0.004*\"call\" + 0.004*\"hallelujah\" + 0.003*\"sing\" + 0.003*\"whenever\" + '\n",
      "  '0.003*\"glad\" + 0.003*\"julia\" + 0.003*\"julia_julia\" + 0.003*\"lullaby\" + '\n",
      "  '0.003*\"break\" + 0.003*\"love\"'),\n",
      " (12,\n",
      "  '0.005*\"crying\" + 0.004*\"everybodys\" + 0.004*\"come\" + 0.004*\"night\" + '\n",
      "  '0.004*\"knew\" + 0.003*\"life\" + 0.003*\"sweet\" + 0.003*\"would\" + '\n",
      "  '0.003*\"martha\" + 0.003*\"wisdom\"')]\n"
     ]
    }
   ],
   "source": [
    "# Print the Keyword in the 5 topics\n",
    "pprint(lda_model.print_topics())\n",
    "doc_lda = lda_model[corpus]"
   ]
  },
  {
   "cell_type": "code",
   "execution_count": null,
   "metadata": {},
   "outputs": [],
   "source": []
  },
  {
   "cell_type": "code",
   "execution_count": 175,
   "metadata": {},
   "outputs": [
    {
     "name": "stdout",
     "output_type": "stream",
     "text": [
      "\n",
      "Perplexity:  -8.94584329035625\n",
      "\n",
      "Coherence Score:  0.5649375726137557\n"
     ]
    }
   ],
   "source": [
    "print('\\nPerplexity: ', lda_model.log_perplexity(corpus)) \n",
    "\n",
    "coherence_model_lda = CoherenceModel(model = lda_model, texts = texts, dictionary = id2word, coherence = 'c_v')\n",
    "coherence_lda = coherence_model_lda.get_coherence()\n",
    "\n",
    "print('\\nCoherence Score: ', coherence_lda)"
   ]
  },
  {
   "cell_type": "code",
   "execution_count": 176,
   "metadata": {},
   "outputs": [],
   "source": [
    "## Visualize the topics\n",
    "pyLDAvis.enable_notebook()\n",
    "vis = pyLDAvis.gensim.prepare(lda_model, corpus, id2word)"
   ]
  },
  {
   "cell_type": "code",
   "execution_count": 177,
   "metadata": {},
   "outputs": [
    {
     "data": {
      "text/html": [
       "\n",
       "<link rel=\"stylesheet\" type=\"text/css\" href=\"https://cdn.rawgit.com/bmabey/pyLDAvis/files/ldavis.v1.0.0.css\">\n",
       "\n",
       "\n",
       "<div id=\"ldavis_el5611122376384249178623286\"></div>\n",
       "<script type=\"text/javascript\">\n",
       "\n",
       "var ldavis_el5611122376384249178623286_data = {\"mdsDat\": {\"Freq\": [14.403443336486816, 12.408198356628418, 11.303028106689453, 9.94628620147705, 9.911358833312988, 6.915511131286621, 6.910462856292725, 5.960816383361816, 5.902705192565918, 5.299176216125488, 4.601442813873291, 3.7422702312469482, 2.6953063011169434], \"cluster\": [1, 1, 1, 1, 1, 1, 1, 1, 1, 1, 1, 1, 1], \"topics\": [1, 2, 3, 4, 5, 6, 7, 8, 9, 10, 11, 12, 13], \"x\": [-0.04100726248215209, -0.015999608661734256, -0.01166126401826828, 0.006023576337530089, 0.02770819288003014, -0.0025988278563381954, 0.00179933407573905, 0.0034923052713018575, 0.01575057535189703, 0.008877554677848148, 0.005673798810464241, 0.001577495241028269, 0.00036413037265395863], \"y\": [-0.032079658553773954, 0.028289236378657934, 0.02561160167149589, 0.005647638560390442, -0.014847872522320093, -0.000972700973223543, 0.004962168649389217, -0.006076500132481761, -0.010475622380409928, -0.003984766720773366, 0.004153603534565511, -0.00014613515939020542, -8.099235212615793e-05]}, \"tinfo\": {\"Category\": [\"Default\", \"Default\", \"Default\", \"Default\", \"Default\", \"Default\", \"Default\", \"Default\", \"Default\", \"Default\", \"Default\", \"Default\", \"Default\", \"Default\", \"Default\", \"Default\", \"Default\", \"Default\", \"Default\", \"Default\", \"Default\", \"Default\", \"Default\", \"Default\", \"Default\", \"Default\", \"Default\", \"Default\", \"Default\", \"Default\", \"Topic1\", \"Topic1\", \"Topic1\", \"Topic1\", \"Topic1\", \"Topic1\", \"Topic1\", \"Topic1\", \"Topic1\", \"Topic1\", \"Topic1\", \"Topic1\", \"Topic1\", \"Topic1\", \"Topic1\", \"Topic1\", \"Topic1\", \"Topic1\", \"Topic1\", \"Topic1\", \"Topic1\", \"Topic1\", \"Topic1\", \"Topic1\", \"Topic1\", \"Topic1\", \"Topic1\", \"Topic1\", \"Topic1\", \"Topic1\", \"Topic1\", \"Topic1\", \"Topic1\", \"Topic1\", \"Topic1\", \"Topic1\", \"Topic1\", \"Topic1\", \"Topic1\", \"Topic1\", \"Topic1\", \"Topic1\", \"Topic1\", \"Topic1\", \"Topic2\", \"Topic2\", \"Topic2\", \"Topic2\", \"Topic2\", \"Topic2\", \"Topic2\", \"Topic2\", \"Topic2\", \"Topic2\", \"Topic2\", \"Topic2\", \"Topic2\", \"Topic2\", \"Topic2\", \"Topic2\", \"Topic2\", \"Topic2\", \"Topic2\", \"Topic2\", \"Topic2\", \"Topic2\", \"Topic2\", \"Topic2\", \"Topic2\", \"Topic2\", \"Topic2\", \"Topic2\", \"Topic2\", \"Topic2\", \"Topic2\", \"Topic2\", \"Topic2\", \"Topic2\", \"Topic2\", \"Topic2\", \"Topic2\", \"Topic2\", \"Topic2\", \"Topic2\", \"Topic2\", \"Topic2\", \"Topic2\", \"Topic2\", \"Topic2\", \"Topic2\", \"Topic2\", \"Topic2\", \"Topic2\", \"Topic2\", \"Topic2\", \"Topic3\", \"Topic3\", \"Topic3\", \"Topic3\", \"Topic3\", \"Topic3\", \"Topic3\", \"Topic3\", \"Topic3\", \"Topic3\", \"Topic3\", \"Topic3\", \"Topic3\", \"Topic3\", \"Topic3\", \"Topic3\", \"Topic3\", \"Topic3\", \"Topic3\", \"Topic3\", \"Topic3\", \"Topic3\", \"Topic3\", \"Topic3\", \"Topic3\", \"Topic3\", \"Topic3\", \"Topic3\", \"Topic3\", \"Topic3\", \"Topic3\", \"Topic3\", \"Topic3\", \"Topic3\", \"Topic3\", \"Topic3\", \"Topic3\", \"Topic3\", \"Topic3\", \"Topic3\", \"Topic3\", \"Topic3\", \"Topic3\", \"Topic4\", \"Topic4\", \"Topic4\", \"Topic4\", \"Topic4\", \"Topic4\", \"Topic4\", \"Topic4\", \"Topic4\", \"Topic4\", \"Topic4\", \"Topic4\", \"Topic4\", \"Topic4\", \"Topic4\", \"Topic4\", \"Topic4\", \"Topic4\", \"Topic4\", \"Topic4\", \"Topic4\", \"Topic4\", \"Topic4\", \"Topic4\", \"Topic4\", \"Topic4\", \"Topic4\", \"Topic4\", \"Topic4\", \"Topic4\", \"Topic4\", \"Topic4\", \"Topic4\", \"Topic4\", \"Topic4\", \"Topic4\", \"Topic4\", \"Topic4\", \"Topic4\", \"Topic4\", \"Topic4\", \"Topic4\", \"Topic4\", \"Topic4\", \"Topic4\", \"Topic5\", \"Topic5\", \"Topic5\", \"Topic5\", \"Topic5\", \"Topic5\", \"Topic5\", \"Topic5\", \"Topic5\", \"Topic5\", \"Topic5\", \"Topic5\", \"Topic5\", \"Topic5\", \"Topic5\", \"Topic5\", \"Topic5\", \"Topic5\", \"Topic5\", \"Topic5\", \"Topic5\", \"Topic5\", \"Topic5\", \"Topic5\", \"Topic5\", \"Topic5\", \"Topic5\", \"Topic5\", \"Topic5\", \"Topic5\", \"Topic5\", \"Topic5\", \"Topic5\", \"Topic5\", \"Topic5\", \"Topic5\", \"Topic5\", \"Topic5\", \"Topic5\", \"Topic5\", \"Topic5\", \"Topic5\", \"Topic6\", \"Topic6\", \"Topic6\", \"Topic6\", \"Topic6\", \"Topic6\", \"Topic6\", \"Topic6\", \"Topic6\", \"Topic6\", \"Topic6\", \"Topic6\", \"Topic6\", \"Topic6\", \"Topic6\", \"Topic6\", \"Topic6\", \"Topic6\", \"Topic6\", \"Topic6\", \"Topic6\", \"Topic6\", \"Topic6\", \"Topic6\", \"Topic6\", \"Topic6\", \"Topic6\", \"Topic6\", \"Topic6\", \"Topic6\", \"Topic6\", \"Topic6\", \"Topic6\", \"Topic6\", \"Topic6\", \"Topic6\", \"Topic6\", \"Topic6\", \"Topic6\", \"Topic6\", \"Topic6\", \"Topic6\", \"Topic6\", \"Topic6\", \"Topic7\", \"Topic7\", \"Topic7\", \"Topic7\", \"Topic7\", \"Topic7\", \"Topic7\", \"Topic7\", \"Topic7\", \"Topic7\", \"Topic7\", \"Topic7\", \"Topic7\", \"Topic7\", \"Topic7\", \"Topic7\", \"Topic7\", \"Topic7\", \"Topic7\", \"Topic7\", \"Topic7\", \"Topic7\", \"Topic7\", \"Topic7\", \"Topic7\", \"Topic7\", \"Topic7\", \"Topic7\", \"Topic7\", \"Topic7\", \"Topic7\", \"Topic7\", \"Topic7\", \"Topic7\", \"Topic7\", \"Topic7\", \"Topic7\", \"Topic7\", \"Topic7\", \"Topic7\", \"Topic7\", \"Topic7\", \"Topic7\", \"Topic7\", \"Topic7\", \"Topic7\", \"Topic8\", \"Topic8\", \"Topic8\", \"Topic8\", \"Topic8\", \"Topic8\", \"Topic8\", \"Topic8\", \"Topic8\", \"Topic8\", \"Topic8\", \"Topic8\", \"Topic8\", \"Topic8\", \"Topic8\", \"Topic8\", \"Topic8\", \"Topic8\", \"Topic8\", \"Topic8\", \"Topic8\", \"Topic8\", \"Topic8\", \"Topic8\", \"Topic8\", \"Topic8\", \"Topic8\", \"Topic8\", \"Topic8\", \"Topic8\", \"Topic8\", \"Topic8\", \"Topic8\", \"Topic8\", \"Topic8\", \"Topic8\", \"Topic8\", \"Topic8\", \"Topic8\", \"Topic8\", \"Topic8\", \"Topic8\", \"Topic8\", \"Topic9\", \"Topic9\", \"Topic9\", \"Topic9\", \"Topic9\", \"Topic9\", \"Topic9\", \"Topic9\", \"Topic9\", \"Topic9\", \"Topic9\", \"Topic9\", \"Topic9\", \"Topic9\", \"Topic9\", \"Topic9\", \"Topic9\", \"Topic9\", \"Topic9\", \"Topic9\", \"Topic9\", \"Topic9\", \"Topic9\", \"Topic9\", \"Topic9\", \"Topic9\", \"Topic9\", \"Topic9\", \"Topic9\", \"Topic9\", \"Topic9\", \"Topic9\", \"Topic9\", \"Topic9\", \"Topic9\", \"Topic9\", \"Topic9\", \"Topic10\", \"Topic10\", \"Topic10\", \"Topic10\", \"Topic10\", \"Topic10\", \"Topic10\", \"Topic10\", \"Topic10\", \"Topic10\", \"Topic10\", \"Topic10\", \"Topic10\", \"Topic10\", \"Topic10\", \"Topic10\", \"Topic10\", \"Topic10\", \"Topic10\", \"Topic10\", \"Topic10\", \"Topic10\", \"Topic10\", \"Topic10\", \"Topic10\", \"Topic10\", \"Topic10\", \"Topic10\", \"Topic10\", \"Topic10\", \"Topic10\", \"Topic10\", \"Topic10\", \"Topic10\", \"Topic10\", \"Topic10\", \"Topic10\", \"Topic10\", \"Topic10\", \"Topic10\", \"Topic10\", \"Topic11\", \"Topic11\", \"Topic11\", \"Topic11\", \"Topic11\", \"Topic11\", \"Topic11\", \"Topic11\", \"Topic11\", \"Topic11\", \"Topic11\", \"Topic11\", \"Topic11\", \"Topic11\", \"Topic11\", \"Topic11\", \"Topic11\", \"Topic11\", \"Topic11\", \"Topic11\", \"Topic11\", \"Topic11\", \"Topic11\", \"Topic11\", \"Topic11\", \"Topic11\", \"Topic11\", \"Topic11\", \"Topic11\", \"Topic11\", \"Topic11\", \"Topic11\", \"Topic11\", \"Topic11\", \"Topic11\", \"Topic11\", \"Topic11\", \"Topic11\", \"Topic11\", \"Topic11\", \"Topic11\", \"Topic11\", \"Topic11\", \"Topic11\", \"Topic11\", \"Topic11\", \"Topic12\", \"Topic12\", \"Topic12\", \"Topic12\", \"Topic12\", \"Topic12\", \"Topic12\", \"Topic12\", \"Topic12\", \"Topic12\", \"Topic12\", \"Topic12\", \"Topic12\", \"Topic12\", \"Topic12\", \"Topic12\", \"Topic12\", \"Topic12\", \"Topic12\", \"Topic12\", \"Topic12\", \"Topic12\", \"Topic12\", \"Topic12\", \"Topic12\", \"Topic12\", \"Topic12\", \"Topic12\", \"Topic12\", \"Topic12\", \"Topic12\", \"Topic12\", \"Topic12\", \"Topic12\", \"Topic12\", \"Topic12\", \"Topic12\", \"Topic12\", \"Topic13\", \"Topic13\", \"Topic13\", \"Topic13\", \"Topic13\", \"Topic13\", \"Topic13\", \"Topic13\", \"Topic13\", \"Topic13\", \"Topic13\", \"Topic13\", \"Topic13\", \"Topic13\", \"Topic13\", \"Topic13\", \"Topic13\", \"Topic13\", \"Topic13\", \"Topic13\", \"Topic13\", \"Topic13\", \"Topic13\", \"Topic13\", \"Topic13\", \"Topic13\", \"Topic13\", \"Topic13\", \"Topic13\", \"Topic13\", \"Topic13\", \"Topic13\", \"Topic13\", \"Topic13\", \"Topic13\", \"Topic13\", \"Topic13\", \"Topic13\", \"Topic13\", \"Topic13\", \"Topic13\", \"Topic13\", \"Topic13\", \"Topic13\", \"Topic13\"], \"Freq\": [17.0, 27.0, 33.0, 11.0, 15.0, 17.0, 11.0, 6.0, 9.0, 11.0, 6.0, 10.0, 7.0, 14.0, 6.0, 11.0, 8.0, 24.0, 6.0, 10.0, 10.0, 10.0, 7.0, 6.0, 11.0, 10.0, 5.0, 13.0, 7.0, 6.0, 7.394159317016602, 6.0429511070251465, 5.962758541107178, 5.861035346984863, 6.858536720275879, 4.826510429382324, 6.099593162536621, 7.14980411529541, 4.6874284744262695, 6.330968856811523, 4.287984371185303, 4.2151947021484375, 4.215191841125488, 4.0870184898376465, 3.979767322540283, 4.466036796569824, 3.6178300380706787, 3.575371026992798, 9.819697380065918, 4.527400016784668, 4.495309352874756, 3.540167808532715, 4.727177619934082, 3.2398245334625244, 3.226914882659912, 3.1330249309539795, 3.2508833408355713, 3.3931074142456055, 3.6744632720947266, 2.9930734634399414, 7.1350884437561035, 6.644423961639404, 6.957005977630615, 7.120206356048584, 4.3450469970703125, 6.663923740386963, 4.628005027770996, 7.306648254394531, 7.6469807624816895, 4.982700824737549, 6.261972904205322, 5.189085960388184, 5.332762241363525, 4.320359706878662, 6.614371299743652, 5.525059223175049, 4.949631690979004, 4.9426679611206055, 4.142574310302734, 4.119344234466553, 4.987724781036377, 3.8885579109191895, 3.787193536758423, 6.132182598114014, 3.6799535751342773, 3.4200069904327393, 3.862494945526123, 3.2096190452575684, 3.2096171379089355, 3.173153877258301, 3.1731534004211426, 3.173153877258301, 3.0553932189941406, 2.9813687801361084, 2.891002655029297, 2.8352761268615723, 4.251480579376221, 2.6974403858184814, 3.0965685844421387, 2.539651393890381, 2.539651393890381, 2.4510204792022705, 2.436809539794922, 2.436807632446289, 12.50832748413086, 5.708547592163086, 5.5190749168396, 5.505046367645264, 4.958163261413574, 3.3495137691497803, 3.3976852893829346, 4.539397716522217, 4.4975504875183105, 3.478821039199829, 3.8790283203125, 3.8604860305786133, 4.6520891189575195, 3.9763519763946533, 3.9300918579101562, 4.17590856552124, 3.563491106033325, 3.4848148822784424, 3.741981267929077, 3.6352956295013428, 3.5017693042755127, 6.572152137756348, 4.671407222747803, 4.653133392333984, 5.9442362785339355, 4.372011184692383, 4.146883010864258, 3.9814133644104004, 3.8865277767181396, 3.8140718936920166, 4.804611682891846, 4.371023654937744, 2.7592151165008545, 5.0514445304870605, 4.171554088592529, 2.5163214206695557, 2.759214162826538, 4.481780052185059, 2.380525588989258, 2.3805251121520996, 2.380523204803467, 2.7875773906707764, 2.601017713546753, 3.041555404663086, 2.234769582748413, 3.85903000831604, 2.7183947563171387, 3.4839839935302734, 2.638761281967163, 3.8293049335479736, 4.832691192626953, 3.617849111557007, 4.731520175933838, 5.250903606414795, 3.546201467514038, 5.641191005706787, 4.007034778594971, 4.422196865081787, 3.638251304626465, 3.4133753776550293, 3.0988705158233643, 4.056291103363037, 3.3551149368286133, 3.2337899208068848, 5.805916786193848, 5.4823431968688965, 4.396635055541992, 4.5196380615234375, 4.024085521697998, 3.889019727706909, 3.723689556121826, 3.6016855239868164, 3.280512571334839, 3.0512919425964355, 2.830559253692627, 2.7223896980285645, 2.7131125926971436, 2.5330755710601807, 2.509949207305908, 2.702458143234253, 5.525148868560791, 2.7567713260650635, 2.818856954574585, 2.3443193435668945, 3.217146635055542, 3.4545252323150635, 2.667314291000366, 3.4848101139068604, 2.4175500869750977, 2.735340118408203, 2.4175515174865723, 1.9581900835037231, 2.994528293609619, 2.9010205268859863, 3.635716199874878, 5.84906530380249, 5.202812194824219, 5.188521385192871, 3.4895100593566895, 3.475695848464966, 4.7069220542907715, 5.716154098510742, 5.196097373962402, 3.0096380710601807, 3.836115598678589, 3.671261787414551, 2.9119744300842285, 3.0929863452911377, 3.0957586765289307, 4.861967086791992, 4.719769477844238, 4.6201701164245605, 4.405865669250488, 3.879594564437866, 6.062954902648926, 4.519881725311279, 3.5392448902130127, 3.176177740097046, 2.8614258766174316, 3.009953498840332, 2.8995814323425293, 3.2193236351013184, 2.615394353866577, 2.480431079864502, 4.295529365539551, 10.343077659606934, 2.3186163902282715, 3.6458277702331543, 2.2420430183410645, 3.7742395401000977, 2.158177137374878, 2.65458345413208, 1.889183521270752, 1.8891830444335938, 4.02208137512207, 5.017558574676514, 3.6741764545440674, 3.0077285766601562, 1.72356379032135, 4.114736080169678, 3.4615638256073, 3.2670676708221436, 2.9662649631500244, 2.8102660179138184, 3.562479257583618, 4.303287506103516, 3.567019462585449, 3.0785305500030518, 3.4332048892974854, 2.974482774734497, 3.0250930786132812, 3.6558375358581543, 3.4022555351257324, 3.397751808166504, 2.9340908527374268, 2.5629374980926514, 2.5263428688049316, 3.0743064880371094, 2.126613140106201, 2.097315549850464, 2.0606346130371094, 1.9353681802749634, 1.7993706464767456, 1.7993690967559814, 1.851496696472168, 1.933303952217102, 2.056370258331299, 1.9109530448913574, 1.5014241933822632, 1.4804713726043701, 1.422010898590088, 1.4220093488693237, 1.3735061883926392, 1.6405142545700073, 2.1817731857299805, 1.4835269451141357, 1.8146041631698608, 1.5263350009918213, 1.312773585319519, 1.218127965927124, 1.218127727508545, 2.593515157699585, 1.3658374547958374, 1.876430869102478, 1.8571056127548218, 2.804844379425049, 2.5085196495056152, 3.807173728942871, 1.6405142545700073, 1.6241419315338135, 2.349727153778076, 2.152848243713379, 2.2362327575683594, 2.7045576572418213, 2.6714212894439697, 4.170720100402832, 2.8940441608428955, 2.979057550430298, 2.8495752811431885, 2.831052541732788, 2.704556941986084, 2.534882068634033, 2.444732904434204, 2.2980902194976807, 6.069366455078125, 3.2580838203430176, 2.034821033477783, 2.034820795059204, 2.034820318222046, 2.2880897521972656, 1.9552477598190308, 1.7655117511749268, 1.606136441230774, 2.63820219039917, 2.940009593963623, 2.3905608654022217, 1.3401684761047363, 2.412045955657959, 1.6310372352600098, 1.2617014646530151, 1.6085729598999023, 1.1525930166244507, 1.1525927782058716, 1.152592658996582, 1.1525921821594238, 1.4127202033996582, 1.771877646446228, 3.7086033821105957, 1.4454569816589355, 4.091935157775879, 1.992806077003479, 2.085228443145752, 2.5910043716430664, 2.3755643367767334, 2.6117846965789795, 2.2239530086517334, 2.3194713592529297, 2.0266809463500977, 2.1765875816345215, 2.1403510570526123, 2.0354344844818115, 3.08854079246521, 2.571967601776123, 2.5443341732025146, 2.3063411712646484, 3.9081294536590576, 2.241384744644165, 2.3863630294799805, 3.263929605484009, 2.317514181137085, 1.6840732097625732, 1.667076587677002, 1.8390263319015503, 1.6932487487792969, 1.6036070585250854, 1.5768629312515259, 1.5149074792861938, 1.4956471920013428, 1.4265003204345703, 1.4491708278656006, 1.3090239763259888, 2.1332011222839355, 1.2897870540618896, 1.2878648042678833, 1.277756929397583, 1.212141990661621, 1.272638201713562, 1.1529929637908936, 1.0372425317764282, 1.0874004364013672, 0.9818377494812012, 1.055546522140503, 1.5066277980804443, 1.7793141603469849, 2.422445058822632, 2.8466436862945557, 1.9660564661026, 2.218784809112549, 1.8811599016189575, 1.4947538375854492, 2.107194423675537, 1.7474063634872437, 1.83652663230896, 1.473612904548645, 3.6240477561950684, 3.1381707191467285, 3.3382701873779297, 2.3675994873046875, 2.3093466758728027, 2.1312050819396973, 3.3429977893829346, 2.087266445159912, 1.8655928373336792, 3.0282914638519287, 1.770573616027832, 1.7599525451660156, 1.7599527835845947, 1.7599514722824097, 1.7599513530731201, 1.7582461833953857, 1.7582461833953857, 1.8178051710128784, 1.5293200016021729, 2.6100966930389404, 2.9761340618133545, 1.5570893287658691, 2.401097297668457, 1.2639349699020386, 1.386660099029541, 1.11017906665802, 1.1048128604888916, 2.147291898727417, 1.068745493888855, 1.0687453746795654, 2.184720039367676, 4.203149318695068, 2.8476402759552, 2.402642250061035, 1.767348051071167, 2.086278200149536, 1.5455461740493774, 2.891538381576538, 2.491598606109619, 2.6981215476989746, 2.0485687255859375, 2.1939616203308105, 1.8577083349227905, 2.104206085205078, 1.8264901638031006, 1.7997477054595947, 2.295050621032715, 1.9382132291793823, 2.4002883434295654, 3.814645528793335, 1.327324628829956, 1.3273234367370605, 1.3272706270217896, 1.3065123558044434, 1.3065118789672852, 1.2886841297149658, 1.4957630634307861, 1.185381531715393, 1.1415510177612305, 1.1854312419891357, 1.4288338422775269, 1.0465235710144043, 1.0331544876098633, 1.0331535339355469, 1.1519612073898315, 1.5890836715698242, 1.2444219589233398, 2.034144163131714, 1.8278772830963135, 1.6674197912216187, 1.8931519985198975, 3.357936143875122, 1.9972126483917236, 2.0741846561431885, 1.4620190858840942, 1.6498708724975586, 1.5525256395339966, 1.6314964294433594, 2.625617027282715, 2.543783187866211, 2.4569449424743652, 2.074108600616455, 1.9095927476882935, 1.5195609331130981, 2.2194483280181885, 1.345296025276184, 1.2509677410125732, 1.2179850339889526, 1.1714760065078735, 1.16445791721344, 1.16445791721344, 1.6520973443984985, 1.1126301288604736, 1.1861746311187744, 1.0800609588623047, 1.9786380529403687, 1.4046225547790527, 1.043771505355835, 0.9471518993377686, 0.9471518397331238, 0.8485695123672485, 1.3165967464447021, 0.9635387063026428, 0.7810591459274292, 0.7810591459274292, 0.873166024684906, 0.7640593647956848, 0.7338806390762329, 0.7338805794715881, 1.1960309743881226, 1.2984505891799927, 1.2240351438522339, 1.8360177278518677, 1.0747754573822021, 1.331246018409729, 1.533220887184143, 1.1711466312408447, 1.2578504085540771, 1.223448395729065, 1.5041835308074951, 1.2283045053482056, 1.2106274366378784, 1.1936417818069458, 1.1714812517166138, 2.4045956134796143, 2.312656879425049, 2.1378562450408936, 1.787996530532837, 1.787997841835022, 1.4947781562805176, 1.483834981918335, 1.3315391540527344, 1.3312482833862305, 1.2475425004959106, 1.3103018999099731, 1.5799695253372192, 1.9348938465118408, 1.5575683116912842, 0.8406556248664856, 0.8351839184761047, 0.8908535242080688, 0.8177846670150757, 0.8177840113639832, 1.5575674772262573, 0.7285890579223633, 0.7285881042480469, 0.72858726978302, 0.9636884331703186, 0.7046175599098206, 0.7333446145057678, 0.733344316482544, 1.056909203529358, 0.7213224172592163, 0.5408862233161926, 1.1600847244262695, 0.9179986119270325, 0.9469296932220459, 0.9844698309898376, 1.1739305257797241, 0.8376967906951904, 0.7967947125434875, 0.8135308623313904, 1.3546611070632935, 1.0793529748916626, 1.079351782798767, 1.0584182739257812, 0.8965662121772766, 0.8965657353401184, 1.1340548992156982, 0.7775763273239136, 0.7513313293457031, 0.6919108033180237, 1.0146478414535522, 0.739863932132721, 0.5641042590141296, 0.5641040802001953, 0.8860268592834473, 0.6919102668762207, 1.1440315246582031, 0.5826197862625122, 0.6417983174324036, 0.6656115055084229, 0.6718428134918213, 1.0856150388717651, 0.4724777340888977, 0.5359178781509399, 0.4457848370075226, 0.4457848072052002, 0.44578468799591064, 0.44578468799591064, 0.44578468799591064, 0.44578471779823303, 0.7884953022003174, 1.4784876108169556, 0.6417987942695618, 0.687242329120636, 0.6934004426002502, 0.5892758369445801, 0.6283783912658691, 0.7398651242256165, 0.797645628452301, 0.7124584913253784, 0.904920220375061, 0.9279767870903015, 0.6704381704330444, 0.6859375834465027, 0.6533836126327515], \"Term\": [\"better\", \"want\", \"yeah\", \"hello\", \"shes\", \"call\", \"john\", \"christmas\", \"brian\", \"needed\", \"dear_prudence\", \"anything\", \"carry_weight\", \"dance\", \"to-night\", \"help\", \"robert\", \"girl\", \"rich\", \"sing\", \"tonight\", \"comes\", \"johnny\", \"bother\", \"glad\", \"child\", \"hallelujah\", \"goodbye\", \"must_pass\", \"tripper\", \"paranoias\", \"insurance\", \"octopus_garden\", \"shuop\", \"nowhere\", \"rita\", \"falling\", \"goodbye\", \"even\", \"laugh\", \"i-i-me-me\", \"june\", \"moonlight\", \"calling\", \"meter\", \"wait\", \"declare\", \"weep\", \"honey\", \"boys\", \"name\", \"comb\", \"bird\", \"hung\", \"shuop_mbop\", \"maid\", \"shade\", \"shining\", \"real\", \"town\", \"ever\", \"loving\", \"much\", \"right\", \"round\", \"mine\", \"morning\", \"cant\", \"dont\", \"take\", \"baby\", \"tell\", \"know\", \"nothing\", \"sunshine\", \"commonwealth\", \"blackbird\", \"besame\", \"taste\", \"jealous\", \"coming\", \"kitten\", \"reply\", \"hand\", \"somethin\", \"return\", \"drive\", \"helter_skelter\", \"bottom\", \"beep\", \"beep_beep\", \"beepm\", \"arise\", \"mucho\", \"different\", \"enoch\", \"many\", \"tasting\", \"died\", \"helter_skelter_helter_skelter\", \"dancer\", \"powell\", \"motorcars\", \"bags\", \"yeah\", \"wont\", \"youve\", \"loving\", \"leave\", \"came\", \"looking\", \"better\", \"call\", \"changed\", \"hold\", \"true\", \"love\", \"time\", \"good\", \"baby\", \"alone\", \"send\", \"want\", \"honey\", \"home\", \"crying\", \"martha\", \"wisdom\", \"everybodys\", \"dizzy\", \"tired\", \"confidentially\", \"lizzy\", \"cachoo\", \"sweet\", \"wish\", \"suddenly\", \"knew\", \"tight\", \"repeat\", \"single\", \"easy\", \"affection\", \"lovers\", \"places\", \"hoping\", \"peace\", \"silly\", \"nice\", \"trying\", \"alright\", \"days\", \"realize\", \"give\", \"life\", \"sleep\", \"would\", \"night\", \"waiting\", \"come\", \"aint\", \"need\", \"didnt\", \"feeling\", \"dreams\", \"love\", \"good\", \"know\", \"chains\", \"birthday\", \"alan\", \"bonnie\", \"nothings\", \"give_peace_chance\", \"follow\", \"mother_sigh\", \"movies\", \"kansas\", \"guru_deva\", \"float\", \"naturally\", \"lazy\", \"rumour\", \"city\", \"dance\", \"enough\", \"saying\", \"crazy\", \"tomorrow\", \"george\", \"across\", \"bring\", \"wake\", \"party\", \"stream\", \"loose\", \"rain\", \"star\", \"going\", \"long\", \"please\", \"need\", \"hello\", \"world\", \"girl\", \"love\", \"baby\", \"happy\", \"yeah\", \"dont\", \"change\", \"nothing\", \"little\", \"komm\", \"mister_moonlight\", \"guilty\", \"evrything\", \"nobodys\", \"money\", \"misery\", \"along\", \"deine_hand\", \"dumb\", \"wandering\", \"steal\", \"pray\", \"kite\", \"satisfied\", \"needed\", \"want\", \"ye-ye-yeh\", \"belong\", \"thin\", \"anything\", \"mummys\", \"takes\", \"hendersons\", \"performs\", \"people\", \"thats\", \"lonely\", \"lover\", \"carol\", \"another\", \"send\", \"someone\", \"friend\", \"child\", \"like\", \"love\", \"cant\", \"dance\", \"dont\", \"cause\", \"baby\", \"clarabella\", \"harp\", \"loser\", \"ussr\", \"evrybody\", \"shaking\", \"imagine\", \"matchbox\", \"jingle\", \"stars\", \"broke\", \"sleigh\", \"bells\", \"brings\", \"trees\", \"leaves\", \"harm\", \"one-horse\", \"wack\", \"disappointment\", \"disappear\", \"dreamer\", \"clothes\", \"bright\", \"open\", \"shine\", \"appear\", \"whos\", \"matches\", \"poor\", \"john\", \"cried\", \"believe\", \"together_together_together_together\", \"theres\", \"feeling\", \"yeah\", \"hole\", \"girls\", \"please\", \"nothing\", \"never\", \"baby\", \"love\", \"robert\", \"cheat\", \"week\", \"jude\", \"belonged\", \"hurry\", \"eight\", \"secret\", \"admit\", \"better\", \"together\", \"information\", \"memphis\", \"tennessee\", \"instead\", \"closer\", \"jude_jude_jude_jude\", \"marie\", \"getting\", \"thing\", \"fast\", \"anytime\", \"youd\", \"babe\", \"jojo\", \"promise\", \"stare\", \"chip\", \"hearts\", \"bigger\", \"earth\", \"break\", \"back\", \"lucky\", \"girl\", \"days\", \"nobody\", \"every\", \"cause\", \"come\", \"little\", \"know\", \"make\", \"love\", \"yeah\", \"want\", \"lucille\", \"cross_town\", \"roll_mystery_tour\", \"dreamers\", \"hello\", \"roll\", \"waited\", \"help\", \"bulldog\", \"sisters\", \"held\", \"rodney\", \"rhythm\", \"norwegian\", \"conceive\", \"mystery_tour\", \"bliss\", \"wood\", \"great\", \"magical\", \"talk\", \"younger\", \"measured\", \"soul\", \"shot\", \"room\", \"quiet\", \"appreciate\", \"blues\", \"married\", \"happiness\", \"looked\", \"woman\", \"never\", \"well\", \"goodbye\", \"good\", \"dance\", \"thinking\", \"yeah\", \"know\", \"love\", \"shes\", \"carry_weight\", \"free_bird\", \"johnny\", \"bang\", \"pass\", \"robinson\", \"comes\", \"shoot\", \"mrs.\", \"child\", \"songs\", \"bien\", \"tres\", \"ensemble\", \"michelle\", \"madonna\", \"lady\", \"chance\", \"happiness_warm\", \"brian\", \"needed\", \"fade\", \"done\", \"belle\", \"manage\", \"superior\", \"goode\", \"darling\", \"bless\", \"jesus\", \"someone\", \"dont\", \"make\", \"little\", \"john\", \"love\", \"like\", \"must_pass\", \"blue_suede\", \"driving\", \"heavy\", \"shoes\", \"anna\", \"second\", \"worried\", \"devil\", \"whoa\", \"wondering\", \"brian\", \"shes\", \"supposed\", \"searchin\", \"giving\", \"troubles\", \"troubled\", \"angel\", \"trouble\", \"line\", \"grey\", \"breaks\", \"buys\", \"advantage\", \"deceive\", \"desert\", \"tear\", \"fine\", \"brown\", \"john\", \"heart\", \"always\", \"things\", \"love\", \"girl\", \"want\", \"hurt\", \"youre\", \"youve\", \"know\", \"rich\", \"bother\", \"tripper\", \"theyd\", \"spite\", \"onion\", \"loved\", \"glass\", \"sleeps\", \"read\", \"holes\", \"behave\", \"junior\", \"lovely\", \"dirty\", \"deep\", \"birds\", \"anything\", \"found\", \"news\", \"intention\", \"letting\", \"juniors\", \"today\", \"rock_roll\", \"danger\", \"heartache\", \"shop\", \"rock\", \"go-getter\", \"note\", \"moment\", \"looking\", \"place\", \"youre\", \"took\", \"look\", \"girl\", \"sweet\", \"true\", \"leave\", \"love\", \"wont\", \"shes\", \"yeah\", \"know\", \"christmas\", \"dear_prudence\", \"to-night\", \"diamonds\", \"lucy\", \"molly\", \"turkey\", \"bay-ee-a-by\", \"desmond\", \"thinks\", \"cold\", \"black\", \"tonight\", \"hands\", \"couple\", \"body\", \"uncle\", \"endear\", \"mattered\", \"keep\", \"everythings\", \"tall\", \"aunt\", \"babys\", \"built\", \"loud\", \"lifetime\", \"forever\", \"open\", \"brand\", \"tight\", \"dear\", \"blue\", \"hold\", \"baby\", \"tell\", \"john\", \"love\", \"hallelujah\", \"julia\", \"julia_julia\", \"lullaby\", \"dang\", \"gilly\", \"whenever\", \"lasted\", \"homeward\", \"behind\", \"break\", \"pretty\", \"aches\", \"longer\", \"song\", \"cried\", \"sing\", \"calls\", \"needs\", \"wants\", \"rodney\", \"glad\", \"surprise\", \"phone\", \"third\", \"form\", \"brighten\", \"swinging\", \"hempstead\", \"final\", \"says\", \"call\", \"sign\", \"goes\", \"silly\", \"heres\", \"pretend\", \"sleep\", \"heart\", \"darling\", \"back\", \"love\", \"john\", \"thats\", \"yeah\"], \"Total\": [17.0, 27.0, 33.0, 11.0, 15.0, 17.0, 11.0, 6.0, 9.0, 11.0, 6.0, 10.0, 7.0, 14.0, 6.0, 11.0, 8.0, 24.0, 6.0, 10.0, 10.0, 10.0, 7.0, 6.0, 11.0, 10.0, 5.0, 13.0, 7.0, 6.0, 11.280597686767578, 9.929377555847168, 9.849185943603516, 9.74746322631836, 11.480358123779297, 8.712929725646973, 11.279692649841309, 13.222536087036133, 8.716106414794922, 11.828154563903809, 8.17441177368164, 8.101615905761719, 8.101613998413086, 7.9734416007995605, 7.866185665130615, 8.84987735748291, 7.504251003265381, 7.461792469024658, 20.99468421936035, 9.797417640686035, 9.76142406463623, 7.702250003814697, 10.362061500549316, 7.126241683959961, 7.113337516784668, 7.019443511962891, 7.317677974700928, 7.659817695617676, 8.40158462524414, 6.879492282867432, 16.882970809936523, 16.13988494873047, 17.08557891845703, 18.186792373657227, 10.255912780761719, 17.324047088623047, 11.240405082702637, 22.653474807739258, 30.16473960876465, 16.128435134887695, 31.53179359436035, 18.714080810546875, 23.419998168945312, 14.9981689453125, 10.807852745056152, 9.474538803100586, 8.899112701416016, 8.892144203186035, 8.09205150604248, 8.068819999694824, 9.976163864135742, 7.838042259216309, 7.736666202545166, 12.572346687316895, 7.629429817199707, 7.36948299407959, 8.586544036865234, 7.159091949462891, 7.159090995788574, 7.122628211975098, 7.122627258300781, 7.122628211975098, 7.0048699378967285, 6.93084192276001, 6.8404741287231445, 6.784748554229736, 10.2775297164917, 6.646914958953857, 7.808701992034912, 6.489121913909912, 6.48912239074707, 6.400492191314697, 6.386279582977295, 6.386279106140137, 33.13644790649414, 16.19246482849121, 16.08095359802246, 16.13988494873047, 14.791464805603027, 9.169804573059082, 9.595998764038086, 17.530357360839844, 17.252872467041016, 10.122273445129395, 14.014352798461914, 14.539292335510254, 37.74553680419922, 19.192934036254883, 19.242931365966797, 31.53179359436035, 12.88778305053711, 11.748886108398438, 27.556650161743164, 20.99468421936035, 16.791244506835938, 10.851022720336914, 8.662503242492676, 8.644233703613281, 11.292856216430664, 8.36311149597168, 8.137980461120605, 7.972512245178223, 7.87762451171875, 7.8051676750183105, 11.317205429077148, 10.805078506469727, 6.857073783874512, 12.559657096862793, 10.654824256896973, 6.507415294647217, 7.230297088623047, 11.746278762817383, 6.371617317199707, 6.371616840362549, 6.371615886688232, 7.488003730773926, 7.052891254425049, 8.404539108276367, 6.225863456726074, 11.0108060836792, 7.851187705993652, 10.189550399780273, 7.754704475402832, 11.32317066192627, 14.403753280639648, 10.80820083618164, 15.40240478515625, 18.191579818725586, 11.213472366333008, 23.694355010986328, 15.25999641418457, 18.44535255432129, 13.062494277954102, 12.61010456085205, 10.030935287475586, 37.74553680419922, 19.242931365966797, 23.419998168945312, 9.841662406921387, 10.218170166015625, 8.432363510131836, 8.81851863861084, 8.05981159210205, 7.924741268157959, 7.866180419921875, 7.6374077796936035, 7.316236972808838, 7.0870161056518555, 6.866279602050781, 6.758110046386719, 6.748833179473877, 6.5687947273254395, 6.545672416687012, 7.218355655670166, 14.931327819824219, 7.595536708831787, 7.8444085121154785, 6.570286273956299, 9.031825065612793, 9.734264373779297, 7.556339263916016, 10.036866188049316, 6.968682289123535, 7.985397815704346, 7.153348922729492, 5.993910312652588, 9.305835723876953, 9.226556777954102, 11.759795188903809, 19.771392822265625, 18.201684951782227, 18.44535255432129, 11.582832336425781, 12.636293411254883, 24.153841018676758, 37.74553680419922, 31.53179359436035, 10.34616470336914, 33.13644790649414, 30.16473960876465, 9.50859546661377, 14.9981689453125, 18.078248977661133, 8.904452323913574, 8.762242317199707, 8.662635803222656, 8.448331832885742, 7.922057628631592, 12.551647186279297, 10.043795585632324, 7.888629913330078, 7.2186479568481445, 6.9038872718811035, 7.296403884887695, 7.117374420166016, 7.952049255371094, 6.657853603363037, 6.522893905639648, 11.412220001220703, 27.556650161743164, 6.361082077026367, 10.07595443725586, 6.284505367279053, 10.638195037841797, 6.200636386871338, 7.758304595947266, 5.931640625, 5.931640625, 13.044011116027832, 16.2971248626709, 11.988226890563965, 9.866266250610352, 5.766022682189941, 13.814274787902832, 11.748886108398438, 11.498980522155762, 10.451072692871094, 10.117219924926758, 17.30025291442871, 37.74553680419922, 22.653474807739258, 14.931327819824219, 30.16473960876465, 17.725997924804688, 31.53179359436035, 8.092787742614746, 7.571841716766357, 7.567338943481445, 7.103673934936523, 6.732522010803223, 6.695923328399658, 8.88650894165039, 6.296191692352295, 6.26689338684082, 6.2302165031433105, 6.104949951171875, 5.968946933746338, 5.968947410583496, 6.2847394943237305, 6.613166332244873, 7.349580764770508, 7.206691741943359, 5.671000957489014, 5.650047302246094, 5.591587543487549, 5.591586589813232, 5.543083190917969, 6.711126804351807, 8.977622985839844, 6.1878981590271, 7.733005046844482, 6.5213422775268555, 5.795104503631592, 5.3877034187316895, 5.387703895568848, 11.676980972290039, 6.0901713371276855, 8.61559772491455, 8.551953315734863, 14.264058113098145, 12.61010456085205, 33.13644790649414, 7.51532506942749, 7.3781232833862305, 18.201684951782227, 14.9981689453125, 17.458736419677734, 31.53179359436035, 37.74553680419922, 8.329862594604492, 7.053180694580078, 7.296990394592285, 7.00870943069458, 6.990190029144287, 7.436074733734131, 7.035968780517578, 6.833953380584717, 6.4572224617004395, 17.530357360839844, 9.736416816711426, 6.1939496994018555, 6.1939496994018555, 6.193950176239014, 7.018215656280518, 6.114379405975342, 5.924639701843262, 5.765266418457031, 9.533952713012695, 10.773160934448242, 9.5873384475708, 5.499297142028809, 9.959615707397461, 6.999663352966309, 5.420830726623535, 7.159985542297363, 5.3117194175720215, 5.311718940734863, 5.311718940734863, 5.311718940734863, 6.591521739959717, 8.397778511047363, 19.444194793701172, 6.889362335205078, 24.153841018676758, 10.189550399780273, 11.172896385192871, 15.599865913391113, 17.725997924804688, 23.694355010986328, 18.078248977661133, 23.419998168945312, 19.237274169921875, 37.74553680419922, 33.13644790649414, 27.556650161743164, 7.288174629211426, 6.7715888023376465, 6.743959903717041, 6.5059685707092285, 11.582832336425781, 6.932185649871826, 7.549559116363525, 11.039556503295898, 7.971899032592773, 5.883695125579834, 5.866695404052734, 6.573330879211426, 6.073241233825684, 5.803225517272949, 5.776479721069336, 5.714531898498535, 5.695267677307129, 5.806493759155273, 5.961536407470703, 5.508646011352539, 9.025434494018555, 5.489405632019043, 5.487480640411377, 5.477375507354736, 5.411757469177246, 6.148441791534424, 5.673908710479736, 5.2368574142456055, 5.645843029022217, 5.181455135345459, 5.585439205169678, 8.34499740600586, 10.225387573242188, 17.458736419677734, 22.373817443847656, 13.222536087036133, 19.242931365966797, 14.931327819824219, 8.823281288146973, 33.13644790649414, 23.419998168945312, 37.74553680419922, 15.845965385437012, 7.8314104080200195, 7.345504283905029, 7.904427528381348, 6.574925899505615, 6.516669750213623, 6.338529109954834, 10.20309066772461, 6.63421106338501, 6.072911739349365, 10.117219924926758, 5.977896213531494, 5.967276573181152, 5.967277526855469, 5.9672770500183105, 5.9672770500183105, 6.247694969177246, 6.247695446014404, 6.540542125701904, 5.736640930175781, 9.873761177062988, 11.412220001220703, 6.017062664031982, 9.772187232971191, 5.471256256103516, 6.190657615661621, 5.317499160766602, 5.312133312225342, 10.511197090148926, 5.276063442230225, 5.276063442230225, 11.498980522155762, 30.16473960876465, 19.237274169921875, 18.078248977661133, 11.676980972290039, 37.74553680419922, 17.30025291442871, 7.104207992553711, 6.704274654388428, 8.01931381225586, 6.542198181152344, 7.012488842010498, 6.070374488830566, 6.945950508117676, 6.03915548324585, 6.012416839599609, 8.311227798461914, 7.0887017250061035, 9.873761177062988, 15.845965385437012, 5.539988040924072, 5.5399885177612305, 5.539935111999512, 5.5191755294799805, 5.5191755294799805, 5.501349449157715, 6.480066299438477, 5.539740562438965, 5.354213237762451, 5.767929553985596, 7.059330463409424, 5.259185314178467, 5.245815277099609, 5.245815753936768, 5.908501625061035, 8.335010528564453, 6.7272419929504395, 11.676980972290039, 12.812112808227539, 11.208620071411133, 13.891107559204102, 37.74553680419922, 24.153841018676758, 27.556650161743164, 11.063422203063965, 19.355968475341797, 16.08095359802246, 23.419998168945312, 6.888064384460449, 6.806227207183838, 6.71938943862915, 6.336540222167969, 6.172035217285156, 5.781993389129639, 8.527467727661133, 5.714489459991455, 5.513396739959717, 5.644493579864502, 5.433901786804199, 5.426884651184082, 5.426884651184082, 8.114960670471191, 5.707913398742676, 6.251307487487793, 5.729252338409424, 10.638195037841797, 7.602747917175293, 5.699678897857666, 5.209578990936279, 5.209578990936279, 5.110994815826416, 8.01336669921875, 5.9759368896484375, 5.043488502502441, 5.043488502502441, 5.886961460113525, 5.158050060272217, 4.996305465698242, 4.996305465698242, 8.655465126037598, 9.595998764038086, 9.255508422851562, 19.355968475341797, 8.625467300415039, 13.734450340270996, 24.153841018676758, 11.317205429077148, 14.539292335510254, 14.791464805603027, 37.74553680419922, 16.19246482849121, 15.845965385437012, 33.13644790649414, 23.419998168945312, 6.697299480438232, 6.605364799499512, 6.430569171905518, 6.305906772613525, 6.560869216918945, 5.787469863891602, 5.776528358459473, 5.624233245849609, 5.623936653137207, 5.5402374267578125, 5.889491558074951, 7.194324493408203, 10.251433372497559, 8.591497421264648, 5.133342266082764, 5.127871513366699, 5.5548810958862305, 5.110470771789551, 5.110471248626709, 10.524394989013672, 5.021275043487549, 5.021275520324707, 5.021276473999023, 6.760948657989502, 4.9973039627075195, 5.583368301391602, 5.675134658813477, 8.716756820678711, 6.1878981590271, 4.833573341369629, 10.654824256896973, 8.387392044067383, 9.127318382263184, 14.014352798461914, 31.53179359436035, 18.714080810546875, 11.676980972290039, 37.74553680419922, 5.696728229522705, 5.421418190002441, 5.421420097351074, 5.400485515594482, 5.238629341125488, 5.238629341125488, 6.643471717834473, 5.119637966156006, 5.0933966636657715, 5.602319240570068, 8.397778511047363, 6.297790050506592, 4.906162738800049, 4.906163215637207, 7.720547199249268, 6.0901713371276855, 10.071555137634277, 5.256923675537109, 6.050046920776367, 6.359531402587891, 6.573330879211426, 11.026860237121582, 4.814537525177002, 5.47428035736084, 4.787842273712158, 4.787842750549316, 4.787842273712158, 4.787842273712158, 4.787842273712158, 4.787842273712158, 8.571569442749023, 17.252872467041016, 7.077066898345947, 7.926673412322998, 8.404539108276367, 6.889947891235352, 7.70753812789917, 10.80820083618164, 12.812112808227539, 10.511197090148926, 19.444194793701172, 37.74553680419922, 11.676980972290039, 16.2971248626709, 33.13644790649414], \"loglift\": [30.0, 29.0, 28.0, 27.0, 26.0, 25.0, 24.0, 23.0, 22.0, 21.0, 20.0, 19.0, 18.0, 17.0, 16.0, 15.0, 14.0, 13.0, 12.0, 11.0, 10.0, 9.0, 8.0, 7.0, 6.0, 5.0, 4.0, 3.0, 2.0, 1.0, 1.5153000354766846, 1.441100001335144, 1.4357999563217163, 1.4290000200271606, 1.4226000308990479, 1.347000002861023, 1.3229000568389893, 1.3229000568389893, 1.3173999786376953, 1.3127000331878662, 1.2925000190734863, 1.2842999696731567, 1.2842999696731567, 1.2694000005722046, 1.2563999891281128, 1.2538000345230103, 1.2080999612808228, 1.2020000219345093, 1.1778000593185425, 1.1656999588012695, 1.1622999906539917, 1.1604000329971313, 1.152899980545044, 1.149399995803833, 1.1473000049591064, 1.13100004196167, 1.1262999773025513, 1.1234999895095825, 1.110700011253357, 1.1054999828338623, 1.0764000415802002, 1.0501999855041504, 1.039199948310852, 0.9998999834060669, 1.0788999795913696, 0.9822999835014343, 1.0503000020980835, 0.8062000274658203, 0.5652999877929688, 0.7631000280380249, 0.32120001316070557, 0.6549999713897705, 0.4580000042915344, 0.6930999755859375, 1.5958000421524048, 1.5475000143051147, 1.5002000331878662, 1.499500036239624, 1.417199969291687, 1.4144999980926514, 1.3935999870300293, 1.3859000205993652, 1.372499942779541, 1.368899941444397, 1.357699990272522, 1.319100022315979, 1.2878999710083008, 1.284600019454956, 1.284600019454956, 1.2783000469207764, 1.2783000469207764, 1.2783000469207764, 1.257099986076355, 1.2431999444961548, 1.225600004196167, 1.2143000364303589, 1.2041000127792358, 1.184999942779541, 1.1619000434875488, 1.1486999988555908, 1.1486999988555908, 1.1268999576568604, 1.1233999729156494, 1.1232999563217163, 1.1125999689102173, 1.0441999435424805, 1.0174000263214111, 1.011199951171875, 0.9937999844551086, 1.079699993133545, 1.0485999584197998, 0.7357000112533569, 0.7423999905586243, 1.0188000202178955, 0.802299976348877, 0.7608000040054321, -0.0066999997943639755, 0.5126000046730042, 0.4982999861240387, 0.06509999930858612, 0.8012999892234802, 0.8715000152587891, 0.09019999951124191, 0.33320000767707825, 0.5192000269889832, 1.6786999702453613, 1.562600016593933, 1.5607000589370728, 1.5384000539779663, 1.531499981880188, 1.5059000253677368, 1.485700011253357, 1.4736000299453735, 1.4639999866485596, 1.3234000205993652, 1.2750999927520752, 1.2697999477386475, 1.2692999839782715, 1.242400050163269, 1.2300000190734863, 1.2167999744415283, 1.216599941253662, 1.1956000328063965, 1.1956000328063965, 1.1956000328063965, 1.1920000314712524, 1.1826000213623047, 1.163699984550476, 1.155500054359436, 1.131600022315979, 1.1195000410079956, 1.1068999767303467, 1.1021000146865845, 1.095900058746338, 1.0880000591278076, 1.0857000350952148, 0.9998000264167786, 0.9375, 1.0289000272750854, 0.7450000047683716, 0.8428999781608582, 0.7519000172615051, 0.9018999934196472, 0.8733000159263611, 1.0054999589920044, -0.05050000175833702, 0.4334000051021576, 0.20020000636577606, 1.7802000045776367, 1.6852999925613403, 1.6567000150680542, 1.6395000219345093, 1.6133999824523926, 1.5960999727249146, 1.5600999593734741, 1.5563000440597534, 1.5059000253677368, 1.4652999639511108, 1.4218000173568726, 1.3986999988555908, 1.3967000246047974, 1.3551000356674194, 1.3494000434875488, 1.3255000114440918, 1.3137999773025513, 1.2944999933242798, 1.284500002861023, 1.277400016784668, 1.2756999731063843, 1.2719999551773071, 1.266700029373169, 1.250100016593933, 1.2493000030517578, 1.2366000413894653, 1.223099946975708, 1.1892000436782837, 1.1741000413894653, 1.1509000062942505, 1.1340999603271484, 1.090000033378601, 1.0556999444961548, 1.0396000146865845, 1.108199954032898, 1.017199993133545, 0.6725999712944031, 0.4203999936580658, 0.5048999786376953, 1.073199987411499, 0.1518000066280365, 0.20180000364780426, 1.1246000528335571, 0.729200005531311, 0.5432999730110168, 1.7064000368118286, 1.6928000450134277, 1.6828999519348145, 1.6605000495910645, 1.597599983215332, 1.583799958229065, 1.5130000114440918, 1.5099999904632568, 1.4904999732971191, 1.4306999444961548, 1.4259999990463257, 1.4134999513626099, 1.4071999788284302, 1.3770999908447266, 1.344599962234497, 1.3344000577926636, 1.3315999507904053, 1.302299976348877, 1.2948999404907227, 1.2807999849319458, 1.2752000093460083, 1.256100058555603, 1.2389999628067017, 1.1672999858856201, 1.1672999858856201, 1.1349999904632568, 1.1333999633789062, 1.1289000511169434, 1.1236000061035156, 1.1038999557495117, 1.1003999710083008, 1.0894999504089355, 1.0530999898910522, 1.0520999431610107, 1.030500054359436, 0.7311999797821045, 0.14000000059604645, 0.4629000127315521, 0.7325000166893005, 0.13830000162124634, 0.5264999866485596, -0.032600000500679016, 1.8767999410629272, 1.871399998664856, 1.8707000017166138, 1.7871999740600586, 1.7056000232696533, 1.6966999769210815, 1.6098999977111816, 1.5859999656677246, 1.576799988746643, 1.565000057220459, 1.5226000547409058, 1.4723000526428223, 1.4723000526428223, 1.4493000507354736, 1.44159996509552, 1.3976999521255493, 1.343999981880188, 1.3424999713897705, 1.3321000337600708, 1.3021999597549438, 1.3021999597549438, 1.2762000560760498, 1.2625999450683594, 1.2568000555038452, 1.2431999444961548, 1.2217999696731567, 1.2192000150680542, 1.1864999532699585, 1.1845999956130981, 1.1845999956130981, 1.1668000221252441, 1.1764999628067017, 1.1471999883651733, 1.1442999839782715, 1.0449999570846558, 1.0565999746322632, 0.5077000260353088, 1.1495000123977661, 1.1578999757766724, 0.6241999864578247, 0.7303000092506409, 0.6164000034332275, 0.21529999375343323, 0.023099999874830246, 1.9803999662399292, 1.7812999486923218, 1.7762999534606934, 1.7721999883651733, 1.7683000564575195, 1.6606999635696411, 1.6512000560760498, 1.6441999673843384, 1.6390000581741333, 1.6115000247955322, 1.5773999691009521, 1.559000015258789, 1.559000015258789, 1.559000015258789, 1.551300048828125, 1.531999945640564, 1.4615000486373901, 1.3940999507904053, 1.3874000310897827, 1.3734999895095825, 1.2832000255584717, 1.2603000402450562, 1.25409996509552, 1.215499997138977, 1.2143000364303589, 1.1790000200271606, 1.1441999673843384, 1.1441999673843384, 1.1441999673843384, 1.1441999673843384, 1.1318999528884888, 1.1161999702453613, 1.0152000188827515, 1.1105999946594238, 0.8967000246047974, 1.0403000116348267, 0.9934999942779541, 0.8769000172615051, 0.6622999906539917, 0.4668999910354614, 0.57669997215271, 0.35989999771118164, 0.42170000076293945, -0.1809999942779541, -0.06750000268220901, 0.066600002348423, 1.961400032043457, 1.8518999814987183, 1.8451999425888062, 1.7828999757766724, 1.7335000038146973, 1.6908999681472778, 1.6682000160217285, 1.6014000177383423, 1.5844999551773071, 1.569000005722046, 1.5616999864578247, 1.5462000370025635, 1.5427000522613525, 1.5338000059127808, 1.5216000080108643, 1.492300033569336, 1.4829000234603882, 1.416200041770935, 1.4055999517440796, 1.3828999996185303, 1.377500057220459, 1.3716000318527222, 1.3704999685287476, 1.364400029182434, 1.323799967765808, 1.2448999881744385, 1.2264000177383423, 1.2007999420166016, 1.1727999448776245, 1.156499981880188, 1.1539000272750854, 1.108199954032898, 1.0713000297546387, 0.8449000120162964, 0.7581999897956848, 0.9140999913215637, 0.6597999930381775, 0.7483999729156494, 1.0444999933242798, 0.06469999998807907, 0.22450000047683716, -0.2029999941587448, 0.4447999894618988, 2.0592000484466553, 1.9793000221252441, 1.9678000211715698, 1.80840003490448, 1.7924000024795532, 1.739799976348877, 1.7138999700546265, 1.6734000444412231, 1.6495000123977661, 1.6234999895095825, 1.6130000352859497, 1.6088000535964966, 1.6088000535964966, 1.6088000535964966, 1.6088000535964966, 1.561900019645691, 1.561900019645691, 1.549399971961975, 1.507699966430664, 1.4993000030517578, 1.485700011253357, 1.4780000448226929, 1.4261000156402588, 1.3645000457763672, 1.3336000442504883, 1.2632999420166016, 1.2594000101089478, 1.2415000200271606, 1.2331000566482544, 1.2331000566482544, 1.1690000295639038, 0.8589000105857849, 0.9193999767303467, 0.8116000294685364, 0.9416000247001648, -0.065700002014637, 0.41440001130104065, 2.0387001037597656, 1.9478000402450562, 1.8482999801635742, 1.7764999866485596, 1.7755999565124512, 1.753499984741211, 1.743399977684021, 1.7417999505996704, 1.7314000129699707, 1.6507999897003174, 1.6409000158309937, 1.523300051689148, 1.5135999917984009, 1.5088000297546387, 1.5088000297546387, 1.5088000297546387, 1.4967999458312988, 1.4967999458312988, 1.486199975013733, 1.471500039100647, 1.3956999778747559, 1.3920999765396118, 1.3553999662399292, 1.3401000499725342, 1.323099970817566, 1.3128000497817993, 1.3128000497817993, 1.3027000427246094, 1.2803000211715698, 1.250100016593933, 1.1900999546051025, 0.9904000163078308, 1.0321999788284302, 0.944599986076355, 0.5181000232696533, 0.4449000060558319, 0.35089999437332153, 0.9138000011444092, 0.47530001401901245, 0.5999000072479248, 0.273499995470047, 2.114300012588501, 2.094599962234497, 2.072700023651123, 1.9620000123977661, 1.9056999683380127, 1.7424999475479126, 1.732800006866455, 1.6324000358581543, 1.5954999923706055, 1.545300006866455, 1.5443999767303467, 1.5397000312805176, 1.5397000312805176, 1.4871000051498413, 1.4436999559402466, 1.416700005531311, 1.4101999998092651, 1.3968000411987305, 1.3901000022888184, 1.3811999559402466, 1.3739999532699585, 1.3739999532699585, 1.2832000255584717, 1.2726999521255493, 1.2539000511169434, 1.2136000394821167, 1.2136000394821167, 1.1704000234603882, 1.169100046157837, 1.1606999635696411, 1.1606999635696411, 1.0995999574661255, 1.0786000490188599, 1.0556999444961548, 0.7233999967575073, 0.9962000250816345, 0.7450000047683716, 0.32170000672340393, 0.8105000257492065, 0.6312999725341797, 0.5863999724388123, -0.14380000531673431, 0.4999000132083893, 0.5070000290870667, -0.24480000138282776, 0.08349999785423279, 2.261199951171875, 2.2360000610351562, 2.1842000484466553, 2.025099992752075, 1.9854999780654907, 1.9318000078201294, 1.926300048828125, 1.8446999788284302, 1.844599962234497, 1.794600009918213, 1.7826000452041626, 1.7696000337600708, 1.6181000471115112, 1.5778000354766846, 1.476099967956543, 1.4707000255584717, 1.455199956893921, 1.4529999494552612, 1.4529999494552612, 1.374899983406067, 1.3551000356674194, 1.3551000356674194, 1.3551000356674194, 1.3372999429702759, 1.3265000581741333, 1.2554999589920044, 1.2391999959945679, 1.1756000518798828, 1.136199951171875, 1.0952999591827393, 1.0679999589920044, 1.073199987411499, 1.019700050354004, 0.6297000050544739, -0.005200000014156103, 0.17910000681877136, 0.6007000207901001, -0.551800012588501, 2.177299976348877, 1.9996999502182007, 1.9996999502182007, 1.9838999509811401, 1.8483999967575073, 1.8483999967575073, 1.8458000421524048, 1.7289999723434448, 1.6998000144958496, 1.5221999883651733, 1.5002000331878662, 1.4722000360488892, 1.450700044631958, 1.450600028038025, 1.448799967765808, 1.4386999607086182, 1.4385000467300415, 1.4139000177383423, 1.3701000213623047, 1.3566999435424805, 1.332900047302246, 1.2955000400543213, 1.2922999858856201, 1.2898000478744507, 1.2396999597549438, 1.2396999597549438, 1.2396999597549438, 1.2396999597549438, 1.2396999597549438, 1.2396999597549438, 1.2275999784469604, 1.1567000150680542, 1.2132999897003174, 1.1684000492095947, 1.1187000274658203, 1.1547000408172607, 1.1067999601364136, 0.9320999979972839, 0.8371999859809875, 0.9222000241279602, 0.5461999773979187, -0.09200000017881393, 0.7562000155448914, 0.4456999897956848, -0.3125999867916107], \"logprob\": [30.0, 29.0, 28.0, 27.0, 26.0, 25.0, 24.0, 23.0, 22.0, 21.0, 20.0, 19.0, 18.0, 17.0, 16.0, 15.0, 14.0, 13.0, 12.0, 11.0, 10.0, 9.0, 8.0, 7.0, 6.0, 5.0, 4.0, 3.0, 2.0, 1.0, -5.500800132751465, -5.702600002288818, -5.716000080108643, -5.7332000732421875, -5.576000213623047, -5.9274001121521, -5.693299770355225, -5.53439998626709, -5.956600189208984, -5.656099796295166, -6.0457000732421875, -6.06279993057251, -6.06279993057251, -6.093699932098389, -6.120299816131592, -6.005000114440918, -6.21560001373291, -6.227499961853027, -5.217100143432617, -5.991399765014648, -5.998499870300293, -6.237400054931641, -5.948200225830078, -6.326000213623047, -6.329999923706055, -6.359499931335449, -6.3225998878479, -6.279799938201904, -6.200099945068359, -6.405200004577637, -5.536499977111816, -5.607699871063232, -5.561800003051758, -5.538599967956543, -6.03249979019165, -5.604800224304199, -5.969399929046631, -5.512700080871582, -5.467199802398682, -5.895599842071533, -5.666999816894531, -5.855000019073486, -5.827700138092041, -6.0381999015808105, -5.463200092315674, -5.643099784851074, -5.7530999183654785, -5.754499912261963, -5.931099891662598, -5.936699867248535, -5.7453999519348145, -5.9944000244140625, -6.0208001136779785, -5.538899898529053, -6.049499988555908, -6.122799873352051, -6.001100063323975, -6.186299800872803, -6.186299800872803, -6.197700023651123, -6.197700023651123, -6.197700023651123, -6.235499858856201, -6.260000228881836, -6.290800094604492, -6.310299873352051, -5.905099868774414, -6.360099792480469, -6.222099781036377, -6.420400142669678, -6.420400142669678, -6.455900192260742, -6.461699962615967, -6.461699962615967, -4.826000213623047, -5.610400199890137, -5.644199848175049, -5.646699905395508, -5.751399993896484, -6.143599987030029, -6.129300117492676, -5.839600086212158, -5.848899841308594, -6.1057000160217285, -5.996799945831299, -6.0015997886657715, -5.815100193023682, -5.9720001220703125, -5.983799934387207, -5.923099994659424, -6.081699848175049, -6.104000091552734, -6.032800197601318, -6.061699867248535, -6.099100112915039, -5.376299858093262, -5.717700004577637, -5.72160005569458, -5.4766998291015625, -5.783899784088135, -5.8368000984191895, -5.877500057220459, -5.901599884033203, -5.920400142669678, -5.689599990844727, -5.78410005569458, -6.244200229644775, -5.639500141143799, -5.8308000564575195, -6.336299896240234, -6.244200229644775, -5.759099960327148, -6.3917999267578125, -6.3917999267578125, -6.3917999267578125, -6.234000205993652, -6.303199768066406, -6.1468000411987305, -6.454999923706055, -5.908699989318848, -6.259099960327148, -6.011000156402588, -6.28879976272583, -5.916399955749512, -5.683700084686279, -5.973199844360352, -5.704899787902832, -5.6006999015808105, -5.993299961090088, -5.5289998054504395, -5.871099948883057, -5.772500038146973, -5.967599868774414, -6.031400203704834, -6.1280999183654785, -5.85890007019043, -6.048600196838379, -6.0854997634887695, -5.372399806976318, -5.429699897766113, -5.650400161743164, -5.622799873352051, -5.738999843597412, -5.773099899291992, -5.816500186920166, -5.849899768829346, -5.943299770355225, -6.015699863433838, -6.090799808502197, -6.129700183868408, -6.133200168609619, -6.2017998695373535, -6.210999965667725, -6.1371002197265625, -5.421899795532227, -6.117199897766113, -6.094900131225586, -6.279300212860107, -5.962800025939941, -5.891600131988525, -6.150199890136719, -5.882800102233887, -6.248499870300293, -6.125, -6.248499870300293, -6.459199905395508, -6.0345001220703125, -6.066199779510498, -5.8404998779296875, -5.364999771118164, -5.482100009918213, -5.484799861907959, -5.881499767303467, -5.885499954223633, -5.582200050354004, -5.388000011444092, -5.48330020904541, -6.029399871826172, -5.786799907684326, -5.830699920654297, -6.062399864196777, -6.002099990844727, -6.001200199127197, -5.546299934387207, -5.576000213623047, -5.597300052642822, -5.644800186157227, -5.771999835968018, -5.325500011444092, -5.61929988861084, -5.863800048828125, -5.972099781036377, -6.076399803161621, -6.0258002281188965, -6.063199996948242, -5.958600044250488, -6.166299819946289, -6.219299793243408, -5.670199871063232, -4.791399955749512, -6.286799907684326, -5.834199905395508, -6.320400238037109, -5.799499988555908, -6.358500003814697, -6.151500225067139, -6.491600036621094, -6.491600036621094, -5.735899925231934, -5.514800071716309, -5.826399803161621, -6.026599884033203, -6.5833001136779785, -5.713200092315674, -5.886000156402588, -5.94379997253418, -6.04040002822876, -6.0945000648498535, -5.8572998046875, -5.668399810791016, -5.855999946594238, -6.003300189971924, -5.894199848175049, -6.037700176239014, -6.0208001136779785, -5.471499919891357, -5.543399810791016, -5.5447001457214355, -5.691400051116943, -5.826700210571289, -5.841100215911865, -5.644700050354004, -6.013299942016602, -6.027200222015381, -6.0447998046875, -6.107500076293945, -6.1803998947143555, -6.1803998947143555, -6.151800155639648, -6.10860013961792, -6.046899795532227, -6.120200157165527, -6.361400127410889, -6.375500202178955, -6.415800094604492, -6.415800094604492, -6.450500011444092, -6.272799968719482, -5.98769998550415, -6.3734002113342285, -6.171999931335449, -6.34499979019165, -6.495699882507324, -6.570499897003174, -6.570499897003174, -5.814799785614014, -6.456099987030029, -6.138500213623047, -6.148799896240234, -5.736499786376953, -5.848100185394287, -5.4309000968933105, -6.272799968719482, -6.282800197601318, -5.91349983215332, -6.000999927520752, -5.9629998207092285, -5.772900104522705, -5.785200119018555, -5.339000225067139, -5.704400062561035, -5.67549991607666, -5.719900131225586, -5.726399898529053, -5.772200107574463, -5.836900234222412, -5.873199939727783, -5.934999942779541, -4.963799953460693, -5.585999965667725, -6.056700229644775, -6.056700229644775, -6.056700229644775, -5.9394001960754395, -6.09660005569458, -6.198699951171875, -6.293300151824951, -5.796999931335449, -5.688700199127197, -5.895599842071533, -6.474299907684326, -5.886600017547607, -6.277900218963623, -6.534599781036377, -6.2916998863220215, -6.625100135803223, -6.625100135803223, -6.625100135803223, -6.625100135803223, -6.421599864959717, -6.195099830627441, -5.456399917602539, -6.39870023727417, -5.358099937438965, -6.077600002288818, -6.032199859619141, -5.815000057220459, -5.901899814605713, -5.80709981918335, -5.967800140380859, -5.92579984664917, -6.060699939727783, -5.989299774169922, -6.006100177764893, -6.056399822235107, -5.491600036621094, -5.674600124359131, -5.685400009155273, -5.783599853515625, -5.256199836730957, -5.81220006942749, -5.749499797821045, -5.436299800872803, -5.778800010681152, -6.0980000495910645, -6.1082000732421875, -6.010000228881836, -6.092599868774414, -6.146999835968018, -6.16379976272583, -6.20389986038208, -6.216700077056885, -6.263999938964844, -6.248300075531006, -6.349999904632568, -5.861599922180176, -6.364799976348877, -6.366300106048584, -6.374199867248535, -6.4268999099731445, -6.378200054168701, -6.476900100708008, -6.582699775695801, -6.5355000495910645, -6.637599945068359, -6.565199851989746, -6.209400177001953, -6.043000221252441, -5.734499931335449, -5.5731000900268555, -5.94320011138916, -5.822299957275391, -5.987400054931641, -6.217299938201904, -5.873899936676025, -6.061100006103516, -6.01140022277832, -6.231500148773193, -5.321899890899658, -5.465799808502197, -5.4039998054504395, -5.747600078582764, -5.772500038146973, -5.852799892425537, -5.402599811553955, -5.873600006103516, -5.985899925231934, -5.501500129699707, -6.0381999015808105, -6.0441999435424805, -6.0441999435424805, -6.0441999435424805, -6.0441999435424805, -6.045199871063232, -6.045199871063232, -6.0117998123168945, -6.184599876403809, -5.650100231170654, -5.518799781799316, -6.166600227355957, -5.733500003814697, -6.375199794769287, -6.282599925994873, -6.504899978637695, -6.509799957275391, -5.845300197601318, -6.543000221252441, -6.543000221252441, -5.828000068664551, -5.173600196838379, -5.563000202178955, -5.732900142669678, -6.039999961853027, -5.874100208282471, -6.174099922180176, -5.439799785614014, -5.588699817657471, -5.509099960327148, -5.7845001220703125, -5.71589994430542, -5.882299900054932, -5.757699966430664, -5.899199962615967, -5.914000034332275, -5.670899868011475, -5.839799880981445, -5.625999927520752, -5.162799835205078, -6.218400001525879, -6.218400001525879, -6.218500137329102, -6.2342000007629395, -6.2342000007629395, -6.248000144958496, -6.098999977111816, -6.331500053405762, -6.369200229644775, -6.331500053405762, -6.144800186157227, -6.456099987030029, -6.468999862670898, -6.468999862670898, -6.360099792480469, -6.03849983215332, -6.282899856567383, -5.791500091552734, -5.898499965667725, -5.990300178527832, -5.863399982452393, -5.290299892425537, -5.809899806976318, -5.771999835968018, -6.121799945831299, -6.000899791717529, -6.061699867248535, -6.0121002197265625, -5.395100116729736, -5.426799774169922, -5.46150016784668, -5.630899906158447, -5.713500022888184, -5.941999912261963, -5.563199996948242, -6.063799858093262, -6.136499881744385, -6.1631999015808105, -6.202199935913086, -6.208199977874756, -6.208199977874756, -5.858399868011475, -6.253699779510498, -6.189700126647949, -6.283400058746338, -5.677999973297119, -6.020699977874756, -6.317599773406982, -6.414700031280518, -6.414700031280518, -6.524600028991699, -6.085400104522705, -6.397600173950195, -6.607500076293945, -6.607500076293945, -6.496099948883057, -6.629499912261963, -6.6697998046875, -6.6697998046875, -6.181399822235107, -6.099299907684326, -6.158299922943115, -5.752799987792969, -6.288300037384033, -6.0742998123168945, -5.93310022354126, -6.202400207519531, -6.13100004196167, -6.15880012512207, -5.952199935913086, -6.154799938201904, -6.169300079345703, -6.1834001541137695, -6.202199935913086, -5.276400089263916, -5.315400123596191, -5.393899917602539, -5.572700023651123, -5.572700023651123, -5.751800060272217, -5.759099960327148, -5.867400169372559, -5.867599964141846, -5.932600021362305, -5.883500099182129, -5.696300029754639, -5.49370002746582, -5.710599899291992, -6.327300071716309, -6.333899974822998, -6.2692999839782715, -6.354899883270264, -6.354899883270264, -5.710599899291992, -6.470399856567383, -6.470399856567383, -6.470399856567383, -6.190700054168701, -6.503799915313721, -6.463900089263916, -6.463900089263916, -6.098400115966797, -6.480400085449219, -6.7683000564575195, -6.005300045013428, -6.239299774169922, -6.2083001136779785, -6.169400215148926, -5.9934000968933105, -6.3308000564575195, -6.380899906158447, -6.360099792480469, -5.521999835968018, -5.749199867248535, -5.749199867248535, -5.768799781799316, -5.934800148010254, -5.934800148010254, -5.69980001449585, -6.077099800109863, -6.111499786376953, -6.193900108337402, -5.810999870300293, -6.1269001960754395, -6.398099899291992, -6.398099899291992, -5.946599960327148, -6.193900108337402, -5.690999984741211, -6.365799903869629, -6.269000053405762, -6.232600212097168, -6.223299980163574, -5.7434000968933105, -6.575300216674805, -6.4492998123168945, -6.633500099182129, -6.633500099182129, -6.633500099182129, -6.633500099182129, -6.633500099182129, -6.633500099182129, -6.063199996948242, -5.434500217437744, -6.269000053405762, -6.2006001472473145, -6.191699981689453, -6.354400157928467, -6.290200233459473, -6.1269001960754395, -6.051700115203857, -6.164599895477295, -5.92549991607666, -5.900300025939941, -6.225399971008301, -6.202499866485596, -6.251200199127197]}, \"token.table\": {\"Topic\": [1, 2, 13, 1, 2, 4, 1, 2, 7, 1, 2, 10, 1, 2, 3, 1, 2, 3, 4, 5, 6, 7, 12, 1, 2, 4, 1, 2, 3, 5, 6, 7, 8, 10, 11, 1, 2, 5, 9, 1, 2, 3, 8, 9, 1, 2, 3, 4, 5, 6, 7, 8, 9, 10, 11, 1, 2, 10, 1, 2, 10, 1, 2, 3, 5, 8, 11, 1, 2, 5, 10, 11, 1, 2, 7, 1, 2, 6, 1, 2, 8, 1, 2, 1, 2, 12, 1, 2, 7, 8, 10, 1, 2, 3, 4, 5, 6, 7, 8, 9, 10, 11, 12, 13, 1, 2, 4, 10, 12, 1, 2, 3, 4, 5, 6, 7, 8, 10, 13, 1, 2, 1, 2, 9, 1, 2, 12, 1, 2, 1, 2, 1, 2, 1, 2, 11, 1, 2, 6, 13, 1, 2, 4, 6, 7, 8, 10, 1, 2, 9, 1, 2, 6, 1, 2, 4, 5, 8, 1, 2, 7, 1, 2, 1, 2, 3, 4, 5, 7, 10, 1, 2, 9, 1, 2, 7, 1, 2, 4, 8, 9, 1, 2, 5, 11, 1, 2, 4, 1, 2, 12, 1, 2, 1, 2, 9, 1, 2, 8, 1, 2, 3, 4, 8, 9, 10, 11, 12, 1, 2, 10, 1, 2, 8, 11, 1, 2, 12, 1, 2, 4, 1, 2, 11, 1, 2, 1, 2, 5, 6, 8, 1, 2, 12, 1, 2, 4, 7, 9, 13, 1, 2, 10, 13, 1, 2, 6, 9, 10, 1, 2, 6, 1, 2, 1, 2, 4, 10, 1, 2, 6, 1, 2, 6, 1, 2, 10, 11, 1, 2, 12, 1, 2, 8, 1, 2, 10, 1, 2, 3, 1, 2, 3, 4, 5, 7, 9, 13, 1, 2, 1, 2, 4, 13, 1, 2, 4, 5, 7, 8, 1, 2, 3, 4, 5, 7, 8, 9, 10, 12, 1, 2, 5, 1, 2, 9, 1, 2, 3, 4, 5, 6, 7, 8, 9, 10, 11, 1, 2, 4, 1, 2, 3, 9, 1, 2, 3, 4, 8, 10, 1, 2, 3, 8, 10, 1, 2, 7, 1, 2, 5, 9, 1, 2, 7, 1, 2, 12, 1, 2, 3, 4, 1, 2, 6, 1, 2, 7, 1, 2, 6, 11, 1, 2, 9, 12, 1, 2, 1, 2, 3, 4, 5, 6, 7, 8, 9, 11, 1, 2, 3, 5, 6, 9, 1, 2, 7, 8, 9, 1, 2, 1, 2, 8, 1, 2, 3, 1, 2, 12, 1, 2, 4, 1, 2, 6, 13, 1, 2, 8, 1, 2, 3, 11, 1, 2, 4, 5, 8, 9, 1, 2, 1, 2, 13, 1, 2, 11, 1, 2, 4, 6, 9, 13, 1, 2, 3, 5, 7, 8, 10, 1, 2, 3, 6, 9, 12, 1, 2, 12, 1, 2, 10, 1, 2, 1, 2, 6, 11, 1, 2, 5, 1, 2, 10, 1, 2, 12, 1, 2, 10, 1, 2, 12, 1, 2, 3, 6, 8, 9, 12, 1, 2, 5, 6, 1, 2, 1, 2, 11, 1, 2, 6, 1, 2, 6, 1, 2, 3, 1, 2, 3, 4, 5, 6, 9, 1, 2, 3, 4, 5, 6, 7, 8, 9, 10, 11, 1, 2, 6, 1, 2, 8, 1, 2, 3, 8, 1, 2, 5, 9, 1, 2, 3, 4, 10, 1, 2, 5, 1, 2, 3, 7, 1, 2, 3, 4, 6, 11, 12, 1, 2, 7, 1, 2, 12, 1, 2, 1, 2, 4, 7, 1, 2, 9, 1, 2, 1, 2, 4, 6, 7, 8, 9, 10, 11, 12, 1, 2, 3, 5, 7, 10, 11, 1, 2, 3, 4, 1, 2, 12, 1, 2, 6, 1, 2, 5, 1, 2, 9, 10, 1, 2, 3, 6, 1, 2, 7, 9, 1, 2, 3, 4, 6, 7, 8, 12, 1, 2, 1, 2, 3, 4, 5, 7, 8, 10, 1, 2, 4, 1, 2, 4, 1, 2, 3, 7, 9, 12, 1, 2, 1, 2, 3, 7, 11, 1, 2, 9, 1, 2, 4, 5, 6, 7, 9, 1, 2, 4, 8, 9, 1, 2, 5, 7, 1, 2, 13, 1, 2, 3, 4, 5, 7, 8, 10, 11, 12, 1, 2, 5, 6, 7, 1, 2, 3, 5, 6, 7, 10, 1, 2, 4, 1, 2, 10, 1, 2, 4, 6, 10, 11, 13, 1, 2, 11, 1, 2, 11, 1, 2, 4, 6, 8, 9, 12, 13, 1, 2, 3, 4, 7, 9, 10, 1, 2, 3, 4, 5, 6, 7, 8, 9, 10, 11, 1, 2, 7, 8, 1, 2, 9, 1, 2, 8, 10, 1, 2, 10, 1, 2, 5, 1, 2, 4, 1, 2, 13, 1, 2, 3, 4, 8, 1, 2, 3, 5, 8, 9, 12, 1, 2, 8, 9, 1, 2, 9, 1, 2, 4, 6, 7, 1, 2, 3, 6, 1, 2, 6, 1, 2, 3, 5, 6, 7, 8, 10, 11, 13, 1, 2, 11, 1, 2, 7, 1, 2, 10, 1, 2, 8, 1, 2, 4, 6, 8, 1, 2, 3, 7, 8, 9, 1, 2, 1, 2, 1, 2, 1, 2, 5, 1, 2, 8, 9, 11, 13, 1, 2, 3, 4, 5, 6, 7, 9, 12, 1, 2, 5, 6, 11, 1, 2, 11, 1, 2, 3, 4, 5, 6, 7, 9, 12, 13, 1, 2, 13, 1, 2, 3, 4, 6, 10, 1, 2, 3, 8, 1, 2, 1, 2, 7, 1, 2, 3, 9, 10, 1, 2, 1, 2, 6, 1, 2, 7, 1, 2, 4, 7, 1, 2, 1, 2, 11, 1, 2, 1, 2, 9, 1, 2, 6, 1, 2, 4, 6, 8, 9, 10, 12, 13, 1, 2, 9, 11, 1, 2, 7, 1, 2, 7, 1, 2, 7, 1, 2, 13, 1, 2, 13, 1, 2, 1, 2, 11, 1, 2, 11, 1, 2, 4, 1, 2, 3, 5, 6, 11, 12, 1, 2, 5, 1, 2, 1, 2, 3, 8, 9, 1, 2, 3, 4, 5, 6, 7, 8, 9, 10, 11, 1, 2, 5, 1, 2, 9, 1, 2, 13, 1, 2, 6, 8, 1, 2, 4, 1, 2, 3, 4, 6, 7, 11, 13, 1, 2, 6, 10, 11, 1, 2, 11, 1, 2, 3, 4, 5, 6, 9, 10, 1, 2, 9, 12, 1, 2, 3, 4, 5, 6, 8, 9, 10, 1, 2, 10, 1, 2, 3, 4, 5, 6, 7, 8, 9, 10, 1, 2, 3, 1, 2, 3, 4, 5, 7, 8, 9, 11, 12, 1, 2, 3, 4, 5, 6, 7, 8, 9, 11, 12, 1, 2, 13, 1, 2, 3, 4, 5, 6, 11, 1, 2, 3, 8, 1, 2, 5, 7, 11, 1, 2, 4, 1, 2, 6, 1, 2, 5, 12, 1, 2, 3, 4, 5, 6, 7, 8, 9, 10, 11, 12, 13, 1, 2, 3, 7, 9, 11, 12, 1, 2, 11, 1, 2, 3, 5, 6, 8, 1, 2, 3, 1, 2, 6, 1, 2, 8, 1, 2, 6, 7, 1, 2, 3, 12, 1, 2, 13, 1, 2, 9, 1, 2, 8, 1, 2, 1, 2, 3, 4, 6, 7, 9, 1, 2, 4, 9, 1, 2, 4, 7, 1, 2, 7, 1, 2, 8, 1, 2, 3, 1, 2, 6, 1, 2, 6, 1, 2, 12, 1, 2, 8, 1, 2, 7, 1, 2, 1, 2, 9, 1, 2, 3, 5, 6, 7, 8, 9, 10, 12, 1, 2, 5, 6, 8, 1, 2, 5, 1, 2, 12, 1, 2, 8, 11, 1, 2, 3, 5, 6, 7, 9, 10, 1, 2, 1, 2, 4, 8, 9, 10, 1, 2, 4, 1, 2, 1, 2, 4, 1, 2, 9, 1, 2, 3, 5, 7, 8, 9, 1, 2, 1, 2, 5, 1, 2, 10, 1, 2, 8, 1, 2, 3, 5, 12, 1, 2, 4, 1, 2, 3, 4, 5, 6, 7, 8, 9, 1, 2, 5, 8, 9, 1, 2, 6, 13, 1, 2, 3, 4, 5, 6, 7, 8, 9, 11, 12, 1, 2, 6, 11, 1, 2, 3, 1, 2, 3, 4, 5, 8, 9, 11, 1, 2, 5, 7, 9, 1, 2, 5, 1, 2, 8, 1, 2, 11, 1, 2, 4, 6, 7, 11, 1, 2, 4, 1, 2, 4, 1, 2, 1, 2, 6, 1, 2, 11, 1, 2, 6, 12, 1, 2, 1, 2, 4, 6, 7, 1, 2, 9, 1, 2, 3, 6, 1, 2, 3, 5, 6, 7, 9, 11, 1, 2, 5, 1, 2, 6, 7, 13, 1, 2, 4, 5, 9, 11, 1, 2, 3, 1, 2, 3, 4, 5, 6, 7, 8, 9, 10, 11, 1, 2, 6, 1, 2, 1, 2, 5, 9, 1, 2, 4, 13, 1, 2, 3, 4, 9, 12, 13, 1, 2, 3, 7, 1, 2, 8, 9, 1, 2, 3, 4, 5, 6, 11, 1, 2, 11, 1, 2, 5, 1, 2, 3, 6, 1, 2, 3, 1, 2, 1, 2, 1, 2, 8, 1, 2, 11, 1, 2, 3, 5, 6, 7, 8, 9, 11, 12, 1, 2, 1, 2, 7, 1, 2, 9, 1, 2, 11, 1, 2, 3, 8, 11, 1, 2, 8, 13, 1, 2, 5, 8, 1, 2, 8, 1, 2, 5, 8, 1, 2, 4, 7, 9, 12, 1, 2, 4, 1, 2, 5, 1, 2, 4, 1, 2, 8, 10, 13, 1, 2, 10, 1, 2, 5, 10, 1, 2, 7, 9, 1, 2, 4, 5, 9, 1, 2, 1, 2, 6, 1, 2, 4, 5, 6, 7, 8, 10, 11, 1, 2, 3, 6, 1, 2, 1, 2, 8, 10, 1, 2, 7, 9, 1, 2, 11, 1, 2, 8, 1, 2, 1, 2, 1, 2, 9, 13, 1, 2, 3, 5, 9, 13, 1, 2, 4, 5, 6, 8, 12, 13, 1, 2, 3, 7, 1, 2, 8, 1, 2, 3, 8, 13, 1, 2, 11, 1, 2, 6, 1, 2, 5, 6, 7, 9, 10, 1, 2, 1, 2, 4, 6, 7, 12, 13, 1, 2, 9, 1, 2, 8, 1, 2, 11, 1, 2, 4, 1, 2, 7, 1, 2, 6, 1, 2, 5, 1, 2, 4, 1, 2, 3, 1, 2, 6, 1, 2, 9, 1, 2, 10, 1, 2, 1, 2, 3, 4, 7, 11, 12, 1, 2, 1, 2, 3, 4, 5, 6, 7, 8, 9, 10, 1, 2, 5, 11, 12, 1, 2, 7, 8, 1, 2, 12, 1, 2, 1, 2, 1, 2, 3, 10, 1, 2, 3, 4, 5, 6, 7, 8, 12, 1, 2, 7, 1, 2, 3, 4, 5, 6, 7, 8, 9, 13, 1, 2, 4, 5, 6, 7, 9, 1, 2, 11, 1, 2, 5, 1, 2, 3, 7, 8, 9, 10, 1, 2, 3, 5, 7, 8, 9, 10, 13, 1, 2, 4, 5, 7, 8, 9, 1, 2, 12, 1, 2, 1, 2, 3, 4, 5, 8, 12, 1, 2, 3, 4, 5, 6, 7, 8, 9, 10, 12, 13, 1, 2, 3, 1, 2, 12, 1, 2, 5, 6, 7, 8, 11, 1, 2, 3, 4, 7, 12, 1, 2, 6, 1, 2, 3, 4, 6, 1, 2, 5, 6, 9, 12, 1, 2, 3, 7, 11, 1, 2, 1, 2, 6, 1, 2, 9, 1, 2, 11, 1, 2, 3, 10, 1, 2, 10, 1, 2, 10, 1, 2, 3, 4, 5, 7, 8, 10, 11, 1, 2, 3, 5, 6, 7, 11, 13, 1, 2, 12, 1, 2, 7, 12, 1, 2, 6, 1, 2, 6, 1, 2, 12, 1, 2, 6, 8, 1, 2, 3, 4, 7, 8, 9, 1, 2, 3, 4, 1, 2, 5, 6, 1, 2, 3, 4, 5, 6, 7, 8, 9, 10, 11, 13, 1, 2, 5, 13, 1, 2, 7, 1, 2, 1, 2, 3, 4, 5, 6, 7, 8, 9, 10, 11, 1, 2, 12, 13, 1, 2, 4, 10, 1, 2, 6, 10, 1, 2, 3, 1, 2, 3, 5, 12, 1, 2, 7, 8, 9, 1, 2, 6, 10, 1, 2, 3, 4, 5, 6, 8, 9, 10, 11, 12, 1, 2, 8, 1, 2, 3, 4, 5, 6, 7, 10, 1, 2, 10, 1, 2, 3, 4, 6, 7, 11, 1, 2, 5, 1, 2, 3, 4, 6, 7, 8, 9, 10, 11, 12, 13, 1, 2, 3, 5, 6, 7, 10, 1, 2, 8, 1, 2, 3, 4, 5, 6, 7, 8, 9, 10, 11, 1, 2, 3, 5, 7, 9, 10], \"Freq\": [0.20382528007030487, 0.20382528007030487, 0.20382528007030487, 0.132339209318161, 0.132339209318161, 0.39701762795448303, 0.1548653542995453, 0.1548653542995453, 0.3097307085990906, 0.19014352560043335, 0.19014352560043335, 0.19014352560043335, 0.15694601833820343, 0.15694601833820343, 0.31389203667640686, 0.2621232569217682, 0.1310616284608841, 0.2621232569217682, 0.06553081423044205, 0.06553081423044205, 0.06553081423044205, 0.06553081423044205, 0.06553081423044205, 0.11859071254730225, 0.11859071254730225, 0.474362850189209, 0.155185729265213, 0.310371458530426, 0.155185729265213, 0.0775928646326065, 0.0775928646326065, 0.0775928646326065, 0.0775928646326065, 0.0775928646326065, 0.0775928646326065, 0.12676472961902618, 0.12676472961902618, 0.5070589184761047, 0.12676472961902618, 0.12736926972866058, 0.12736926972866058, 0.38210779428482056, 0.12736926972866058, 0.12736926972866058, 0.08921705186367035, 0.08921705186367035, 0.08921705186367035, 0.08921705186367035, 0.1784341037273407, 0.08921705186367035, 0.08921705186367035, 0.08921705186367035, 0.08921705186367035, 0.1784341037273407, 0.08921705186367035, 0.1817735880613327, 0.1817735880613327, 0.1817735880613327, 0.16473448276519775, 0.16473448276519775, 0.3294689655303955, 0.07238888740539551, 0.07238888740539551, 0.21716666221618652, 0.28955554962158203, 0.07238888740539551, 0.07238888740539551, 0.094000905752182, 0.094000905752182, 0.376003623008728, 0.094000905752182, 0.188001811504364, 0.1818414181470871, 0.1818414181470871, 0.1818414181470871, 0.15334266424179077, 0.15334266424179077, 0.30668532848358154, 0.19095420837402344, 0.19095420837402344, 0.19095420837402344, 0.1427578181028366, 0.428273469209671, 0.19915254414081573, 0.19915254414081573, 0.19915254414081573, 0.14286401867866516, 0.14286401867866516, 0.2857280373573303, 0.14286401867866516, 0.14286401867866516, 0.1902841329574585, 0.12685608863830566, 0.09514206647872925, 0.15857011079788208, 0.09514206647872925, 0.09514206647872925, 0.06342804431915283, 0.031714022159576416, 0.031714022159576416, 0.031714022159576416, 0.031714022159576416, 0.031714022159576416, 0.031714022159576416, 0.14790824055671692, 0.14790824055671692, 0.29581648111343384, 0.14790824055671692, 0.14790824055671692, 0.10285846143960953, 0.10285846143960953, 0.10285846143960953, 0.1542876958847046, 0.051429230719804764, 0.10285846143960953, 0.20571692287921906, 0.051429230719804764, 0.051429230719804764, 0.051429230719804764, 0.1565857082605362, 0.3131714165210724, 0.15209296345710754, 0.15209296345710754, 0.3041859269142151, 0.17780201137065887, 0.17780201137065887, 0.17780201137065887, 0.14039760828018188, 0.42119282484054565, 0.14039763808250427, 0.42119288444519043, 0.14039760828018188, 0.42119282484054565, 0.1842677891254425, 0.1842677891254425, 0.1842677891254425, 0.17849750816822052, 0.17849750816822052, 0.17849750816822052, 0.17849750816822052, 0.11606855690479279, 0.11606855690479279, 0.11606855690479279, 0.23213711380958557, 0.11606855690479279, 0.11606855690479279, 0.11606855690479279, 0.1827733814716339, 0.1827733814716339, 0.1827733814716339, 0.1675337255001068, 0.1675337255001068, 0.3350674510002136, 0.09924618154764175, 0.1984923630952835, 0.09924618154764175, 0.396984726190567, 0.09924618154764175, 0.14305762946605682, 0.14305762946605682, 0.4291728734970093, 0.11245881766080856, 0.562294065952301, 0.057043902575969696, 0.2852195203304291, 0.057043902575969696, 0.11408780515193939, 0.057043902575969696, 0.34226343035697937, 0.057043902575969696, 0.16758063435554504, 0.16758063435554504, 0.3351612687110901, 0.1882629692554474, 0.1882629692554474, 0.1882629692554474, 0.4825294613838196, 0.09650589525699615, 0.09650589525699615, 0.09650589525699615, 0.09650589525699615, 0.1745428442955017, 0.1745428442955017, 0.1745428442955017, 0.1745428442955017, 0.09786488115787506, 0.09786488115787506, 0.4893243908882141, 0.13899846374988556, 0.2779969274997711, 0.2779969274997711, 0.11237075179815292, 0.5618537664413452, 0.1895352452993393, 0.1895352452993393, 0.1895352452993393, 0.17558437585830688, 0.17558437585830688, 0.17558437585830688, 0.10956120491027832, 0.10956120491027832, 0.10956120491027832, 0.10956120491027832, 0.10956120491027832, 0.10956120491027832, 0.10956120491027832, 0.10956120491027832, 0.10956120491027832, 0.1491585671901703, 0.1491585671901703, 0.2983171343803406, 0.17712146043777466, 0.17712146043777466, 0.17712146043777466, 0.17712146043777466, 0.19501268863677979, 0.19501268863677979, 0.19501268863677979, 0.11339773237705231, 0.11339773237705231, 0.5669886469841003, 0.14692427217960358, 0.14692427217960358, 0.4407728314399719, 0.13968253135681152, 0.41904762387275696, 0.510338544845581, 0.10206770896911621, 0.10206770896911621, 0.10206770896911621, 0.10206770896911621, 0.20688627660274506, 0.20688627660274506, 0.20688627660274506, 0.1190791130065918, 0.1190791130065918, 0.1190791130065918, 0.2381582260131836, 0.1190791130065918, 0.1190791130065918, 0.17337243258953094, 0.17337243258953094, 0.17337243258953094, 0.17337243258953094, 0.10127852857112885, 0.10127852857112885, 0.10127852857112885, 0.30383557081222534, 0.2025570571422577, 0.33416417241096497, 0.11138805747032166, 0.2227761149406433, 0.20886234939098358, 0.20886234939098358, 0.19926539063453674, 0.09963269531726837, 0.2988980710506439, 0.09963269531726837, 0.15911558270454407, 0.15911558270454407, 0.31823116540908813, 0.16380150616168976, 0.16380150616168976, 0.3276030123233795, 0.14864933490753174, 0.14864933490753174, 0.14864933490753174, 0.14864933490753174, 0.2001079022884369, 0.2001079022884369, 0.2001079022884369, 0.12544062733650208, 0.25088125467300415, 0.25088125467300415, 0.28331297636032104, 0.14165648818016052, 0.14165648818016052, 0.12812024354934692, 0.12812024354934692, 0.5124809741973877, 0.2318454533815384, 0.2318454533815384, 0.0579613633453846, 0.0579613633453846, 0.1738840937614441, 0.0579613633453846, 0.0579613633453846, 0.0579613633453846, 0.5016654133796692, 0.1254163533449173, 0.19022531807422638, 0.19022531807422638, 0.19022531807422638, 0.19022531807422638, 0.10905357450246811, 0.3271607458591461, 0.10905357450246811, 0.10905357450246811, 0.10905357450246811, 0.10905357450246811, 0.3090033531188965, 0.08828667551279068, 0.08828667551279068, 0.08828667551279068, 0.17657335102558136, 0.08828667551279068, 0.04414333775639534, 0.04414333775639534, 0.04414333775639534, 0.04414333775639534, 0.17342977225780487, 0.17342977225780487, 0.34685954451560974, 0.12769092619419098, 0.12769092619419098, 0.5107637047767639, 0.05641431361436844, 0.16924293339252472, 0.11282862722873688, 0.11282862722873688, 0.16924293339252472, 0.05641431361436844, 0.11282862722873688, 0.05641431361436844, 0.05641431361436844, 0.05641431361436844, 0.05641431361436844, 0.10160885006189346, 0.10160885006189346, 0.609653115272522, 0.15289252996444702, 0.15289252996444702, 0.15289252996444702, 0.30578505992889404, 0.10516799986362457, 0.10516799986362457, 0.10516799986362457, 0.3155040144920349, 0.10516799986362457, 0.10516799986362457, 0.09879203885793686, 0.29637610912323, 0.09879203885793686, 0.09879203885793686, 0.09879203885793686, 0.14178000390529633, 0.14178000390529633, 0.42534002661705017, 0.09884138405323029, 0.09884138405323029, 0.29652413725852966, 0.29652413725852966, 0.1882629692554474, 0.1882629692554474, 0.1882629692554474, 0.14931391179561615, 0.14931391179561615, 0.2986278235912323, 0.13853570818901062, 0.13853570818901062, 0.13853570818901062, 0.41560712456703186, 0.12356681376695633, 0.12356681376695633, 0.4942672550678253, 0.16354890167713165, 0.16354890167713165, 0.3270978033542633, 0.14900627732276917, 0.14900627732276917, 0.29801255464553833, 0.14900627732276917, 0.16979394853115082, 0.16979394853115082, 0.16979394853115082, 0.16979394853115082, 0.519328773021698, 0.1298321932554245, 0.16881658136844635, 0.12661243975162506, 0.2532248795032501, 0.08440829068422318, 0.08440829068422318, 0.04220414534211159, 0.12661243975162506, 0.04220414534211159, 0.04220414534211159, 0.04220414534211159, 0.09800951927900314, 0.09800951927900314, 0.09800951927900314, 0.09800951927900314, 0.09800951927900314, 0.29402855038642883, 0.10023893415927887, 0.5011946558952332, 0.10023893415927887, 0.10023893415927887, 0.10023893415927887, 0.10554603487253189, 0.6332762241363525, 0.1731158196926117, 0.1731158196926117, 0.3462316393852234, 0.12543097138404846, 0.12543097138404846, 0.5017238855361938, 0.1948048621416092, 0.1948048621416092, 0.1948048621416092, 0.1522003710269928, 0.1522003710269928, 0.3044007420539856, 0.16419899463653564, 0.16419899463653564, 0.16419899463653564, 0.16419899463653564, 0.14767582714557648, 0.14767582714557648, 0.4430274963378906, 0.09215721487998962, 0.09215721487998962, 0.645100474357605, 0.09215721487998962, 0.06697327643632889, 0.06697327643632889, 0.4018396735191345, 0.20091983675956726, 0.13394655287265778, 0.06697327643632889, 0.15410403907299042, 0.46231213212013245, 0.1908896267414093, 0.1908896267414093, 0.1908896267414093, 0.19827546179294586, 0.19827546179294586, 0.19827546179294586, 0.19027328491210938, 0.09513664245605469, 0.09513664245605469, 0.09513664245605469, 0.19027328491210938, 0.09513664245605469, 0.09813975542783737, 0.09813975542783737, 0.2944192588329315, 0.09813975542783737, 0.19627951085567474, 0.09813975542783737, 0.09813975542783737, 0.11922657489776611, 0.11922657489776611, 0.23845314979553223, 0.11922657489776611, 0.11922657489776611, 0.11922657489776611, 0.15139208734035492, 0.15139208734035492, 0.30278417468070984, 0.19062814116477966, 0.19062814116477966, 0.19062814116477966, 0.5330312252044678, 0.13325780630111694, 0.15996652841567993, 0.15996652841567993, 0.15996652841567993, 0.15996652841567993, 0.13853009045124054, 0.13853009045124054, 0.4155902862548828, 0.19062812626361847, 0.19062812626361847, 0.19062812626361847, 0.1778113842010498, 0.1778113842010498, 0.1778113842010498, 0.1663224697113037, 0.1663224697113037, 0.3326449394226074, 0.15858148038387299, 0.15858148038387299, 0.31716296076774597, 0.15311011672019958, 0.22966517508029938, 0.30622023344039917, 0.07655505836009979, 0.07655505836009979, 0.07655505836009979, 0.07655505836009979, 0.12806226313114166, 0.3841867744922638, 0.12806226313114166, 0.12806226313114166, 0.14618869125843048, 0.43856608867645264, 0.1751953661441803, 0.1751953661441803, 0.1751953661441803, 0.17884011566638947, 0.17884011566638947, 0.17884011566638947, 0.17884008586406708, 0.17884008586406708, 0.17884008586406708, 0.1195727214217186, 0.1195727214217186, 0.4782908856868744, 0.1023312360048294, 0.1023312360048294, 0.1023312360048294, 0.1023312360048294, 0.1023312360048294, 0.1023312360048294, 0.2046624720096588, 0.2652103006839752, 0.0663025751709938, 0.0663025751709938, 0.1326051503419876, 0.099453866481781, 0.0331512875854969, 0.0663025751709938, 0.0331512875854969, 0.1326051503419876, 0.0331512875854969, 0.0331512875854969, 0.18040502071380615, 0.18040502071380615, 0.18040502071380615, 0.15370501577854156, 0.15370501577854156, 0.30741003155708313, 0.09969159960746765, 0.29907479882240295, 0.29907479882240295, 0.09969159960746765, 0.11646129190921783, 0.46584516763687134, 0.11646129190921783, 0.11646129190921783, 0.1246989518404007, 0.1246989518404007, 0.1246989518404007, 0.1246989518404007, 0.3740968406200409, 0.14484593272209167, 0.14484593272209167, 0.434537798166275, 0.15171003341674805, 0.15171003341674805, 0.3034200668334961, 0.15171003341674805, 0.08513334393501282, 0.17026668787002563, 0.34053337574005127, 0.08513334393501282, 0.08513334393501282, 0.08513334393501282, 0.08513334393501282, 0.14212684333324432, 0.14212684333324432, 0.4263805150985718, 0.19567668437957764, 0.19567668437957764, 0.19567668437957764, 0.14738939702510834, 0.4421682059764862, 0.13165625929832458, 0.13165625929832458, 0.39496880769729614, 0.13165625929832458, 0.16758061945438385, 0.16758061945438385, 0.3351612389087677, 0.5736506581306458, 0.11473012715578079, 0.41461896896362305, 0.11846256256103516, 0.05923128128051758, 0.05923128128051758, 0.05923128128051758, 0.05923128128051758, 0.05923128128051758, 0.05923128128051758, 0.05923128128051758, 0.05923128128051758, 0.25641244649887085, 0.19230934977531433, 0.12820622324943542, 0.06410311162471771, 0.19230934977531433, 0.06410311162471771, 0.06410311162471771, 0.08855155855417252, 0.08855155855417252, 0.5313093662261963, 0.17710311710834503, 0.1991526037454605, 0.1991526037454605, 0.1991526037454605, 0.14853274822235107, 0.14853274822235107, 0.4455982446670532, 0.11836656183004379, 0.11836656183004379, 0.47346624732017517, 0.16619405150413513, 0.16619405150413513, 0.33238810300827026, 0.16619405150413513, 0.5319293737411499, 0.08865489810705185, 0.08865489810705185, 0.08865489810705185, 0.1043042317032814, 0.3129127025604248, 0.2086084634065628, 0.1043042317032814, 0.07930148392915726, 0.15860296785831451, 0.23790444433689117, 0.07930148392915726, 0.23790444433689117, 0.07930148392915726, 0.07930148392915726, 0.07930148392915726, 0.20886234939098358, 0.20886234939098358, 0.11997584998607635, 0.11997584998607635, 0.11997584998607635, 0.11997584998607635, 0.11997584998607635, 0.11997584998607635, 0.11997584998607635, 0.2399516999721527, 0.14797036349773407, 0.14797036349773407, 0.443911075592041, 0.12712650001049042, 0.12712650001049042, 0.5085060000419617, 0.22944313287734985, 0.11472156643867493, 0.11472156643867493, 0.11472156643867493, 0.11472156643867493, 0.11472156643867493, 0.2088623344898224, 0.2088623344898224, 0.13153138756752014, 0.13153138756752014, 0.13153138756752014, 0.13153138756752014, 0.13153138756752014, 0.1361376941204071, 0.1361376941204071, 0.4084130823612213, 0.09568395465612411, 0.09568395465612411, 0.09568395465612411, 0.28705188632011414, 0.09568395465612411, 0.09568395465612411, 0.09568395465612411, 0.1027299016714096, 0.1027299016714096, 0.3081896901130676, 0.1027299016714096, 0.1027299016714096, 0.3146648705005646, 0.10488829016685486, 0.10488829016685486, 0.3146648705005646, 0.1908896267414093, 0.1908896267414093, 0.1908896267414093, 0.08280256390571594, 0.08280256390571594, 0.12420384585857391, 0.20700640976428986, 0.12420384585857391, 0.16560512781143188, 0.04140128195285797, 0.08280256390571594, 0.08280256390571594, 0.04140128195285797, 0.1355358213186264, 0.1355358213186264, 0.1355358213186264, 0.2710716426372528, 0.1355358213186264, 0.088314488530159, 0.088314488530159, 0.353257954120636, 0.176628977060318, 0.088314488530159, 0.088314488530159, 0.088314488530159, 0.12618708610534668, 0.12618708610534668, 0.5047483444213867, 0.18050752580165863, 0.18050752580165863, 0.18050752580165863, 0.09068764746189117, 0.27206292748451233, 0.09068764746189117, 0.09068764746189117, 0.09068764746189117, 0.09068764746189117, 0.09068764746189117, 0.17499375343322754, 0.17499375343322754, 0.17499375343322754, 0.20014789700508118, 0.20014789700508118, 0.20014789700508118, 0.12615633010864258, 0.12615633010864258, 0.12615633010864258, 0.12615633010864258, 0.12615633010864258, 0.12615633010864258, 0.12615633010864258, 0.12615633010864258, 0.17007099092006683, 0.08503549546003342, 0.08503549546003342, 0.34014198184013367, 0.17007099092006683, 0.08503549546003342, 0.08503549546003342, 0.2078685313463211, 0.2078685313463211, 0.15590140223503113, 0.051967132836580276, 0.051967132836580276, 0.051967132836580276, 0.051967132836580276, 0.10393426567316055, 0.051967132836580276, 0.051967132836580276, 0.051967132836580276, 0.5293992161750793, 0.07562845945358276, 0.07562845945358276, 0.15125691890716553, 0.18824829161167145, 0.18824829161167145, 0.18824829161167145, 0.16774199903011322, 0.16774199903011322, 0.16774199903011322, 0.16774199903011322, 0.1867688000202179, 0.1867688000202179, 0.1867688000202179, 0.1154383048415184, 0.1154383048415184, 0.5771915316581726, 0.14563927054405212, 0.14563927054405212, 0.43691784143447876, 0.17553935945034027, 0.17553935945034027, 0.17553935945034027, 0.07953964918851852, 0.47723788022994995, 0.07953964918851852, 0.07953964918851852, 0.07953964918851852, 0.11639414727687836, 0.11639414727687836, 0.11639414727687836, 0.11639414727687836, 0.11639414727687836, 0.11639414727687836, 0.2327882945537567, 0.179036945104599, 0.179036945104599, 0.179036945104599, 0.179036945104599, 0.17431804537773132, 0.17431804537773132, 0.34863609075546265, 0.19330835342407227, 0.09665417671203613, 0.2899625301361084, 0.09665417671203613, 0.09665417671203613, 0.13875992596149445, 0.13875992596149445, 0.13875992596149445, 0.2775198519229889, 0.13206826150417328, 0.13206826150417328, 0.39620479941368103, 0.0780511423945427, 0.0780511423945427, 0.1561022847890854, 0.1561022847890854, 0.0780511423945427, 0.0780511423945427, 0.0780511423945427, 0.1561022847890854, 0.0780511423945427, 0.0780511423945427, 0.19827546179294586, 0.19827546179294586, 0.19827546179294586, 0.1882629692554474, 0.1882629692554474, 0.1882629692554474, 0.1528538167476654, 0.1528538167476654, 0.3057076334953308, 0.17045371234416962, 0.17045371234416962, 0.34090742468833923, 0.08633466809988022, 0.08633466809988022, 0.25900399684906006, 0.08633466809988022, 0.3453386723995209, 0.09058334678411484, 0.09058334678411484, 0.18116669356822968, 0.18116669356822968, 0.2717500329017639, 0.09058334678411484, 0.13968251645565033, 0.4190475642681122, 0.1541040539741516, 0.46231216192245483, 0.20886234939098358, 0.20886234939098358, 0.16858741641044617, 0.16858741641044617, 0.33717483282089233, 0.14513897895812988, 0.14513897895812988, 0.14513897895812988, 0.14513897895812988, 0.14513897895812988, 0.14513897895812988, 0.0713554173707962, 0.2854216694831848, 0.1427108347415924, 0.0713554173707962, 0.1427108347415924, 0.0713554173707962, 0.1427108347415924, 0.0713554173707962, 0.0713554173707962, 0.13306143879890442, 0.13306143879890442, 0.26612287759780884, 0.26612287759780884, 0.13306143879890442, 0.18402983248233795, 0.18402983248233795, 0.18402983248233795, 0.23821939527988434, 0.23821939527988434, 0.11910969763994217, 0.11910969763994217, 0.059554848819971085, 0.059554848819971085, 0.059554848819971085, 0.059554848819971085, 0.059554848819971085, 0.059554848819971085, 0.1963326334953308, 0.1963326334953308, 0.1963326334953308, 0.476311057806015, 0.1905244141817093, 0.04763110354542732, 0.09526220709085464, 0.09526220709085464, 0.04763110354542732, 0.13354694843292236, 0.13354694843292236, 0.4006408154964447, 0.13354694843292236, 0.42097926139831543, 0.14032642543315887, 0.1344795525074005, 0.1344795525074005, 0.40343865752220154, 0.09038794785737991, 0.27116382122039795, 0.18077589571475983, 0.09038794785737991, 0.09038794785737991, 0.48933184146881104, 0.12233296036720276, 0.11253012716770172, 0.22506025433540344, 0.33759039640426636, 0.16144786775112152, 0.16144786775112152, 0.32289573550224304, 0.1424863636493683, 0.1424863636493683, 0.1424863636493683, 0.2849727272987366, 0.6042674779891968, 0.10071124881505966, 0.1919540911912918, 0.1919540911912918, 0.1919540911912918, 0.12393385916948318, 0.49573543667793274, 0.1895352452993393, 0.1895352452993393, 0.1895352452993393, 0.1595686972141266, 0.1595686972141266, 0.3191373944282532, 0.08563857525587082, 0.08563857525587082, 0.08563857525587082, 0.25691571831703186, 0.08563857525587082, 0.17127715051174164, 0.17127715051174164, 0.08563857525587082, 0.08563857525587082, 0.1265113800764084, 0.1265113800764084, 0.37953412532806396, 0.1265113800764084, 0.18447357416152954, 0.18447357416152954, 0.18447357416152954, 0.1426796168088913, 0.1426796168088913, 0.4280388653278351, 0.16878663003444672, 0.16878663003444672, 0.33757326006889343, 0.1844535768032074, 0.1844535768032074, 0.1844535768032074, 0.18445351719856262, 0.18445351719856262, 0.18445351719856262, 0.4937286674976349, 0.12343216687440872, 0.1842677891254425, 0.1842677891254425, 0.1842677891254425, 0.19565662741661072, 0.19565662741661072, 0.19565662741661072, 0.1411031037569046, 0.1411031037569046, 0.423309326171875, 0.09501733630895615, 0.09501733630895615, 0.1900346726179123, 0.1900346726179123, 0.09501733630895615, 0.09501733630895615, 0.1900346726179123, 0.1501985490322113, 0.1501985490322113, 0.4505956768989563, 0.1275828778743744, 0.5103315114974976, 0.07962001115083694, 0.1592400223016739, 0.3981000483036041, 0.07962001115083694, 0.07962001115083694, 0.213492751121521, 0.08539710193872452, 0.12809565663337708, 0.08539710193872452, 0.04269855096936226, 0.04269855096936226, 0.08539710193872452, 0.08539710193872452, 0.04269855096936226, 0.08539710193872452, 0.04269855096936226, 0.11230336874723434, 0.11230336874723434, 0.5615168213844299, 0.16005901992321014, 0.16005901992321014, 0.3201180398464203, 0.1953263133764267, 0.1953263133764267, 0.1953263133764267, 0.507264256477356, 0.08454404026269913, 0.08454404026269913, 0.08454404026269913, 0.15223492681980133, 0.15223492681980133, 0.4567047953605652, 0.06760655343532562, 0.3380327820777893, 0.06760655343532562, 0.06760655343532562, 0.06760655343532562, 0.06760655343532562, 0.06760655343532562, 0.06760655343532562, 0.13606218993663788, 0.13606218993663788, 0.27212437987327576, 0.13606218993663788, 0.13606218993663788, 0.1919540911912918, 0.1919540911912918, 0.1919540911912918, 0.20827904343605042, 0.13885270059108734, 0.34713175892829895, 0.06942635029554367, 0.06942635029554367, 0.06942635029554367, 0.06942635029554367, 0.06942635029554367, 0.1762072741985321, 0.1762072741985321, 0.1762072741985321, 0.1762072741985321, 0.17340786755084991, 0.05780262500047684, 0.17340786755084991, 0.05780262500047684, 0.23121050000190735, 0.05780262500047684, 0.05780262500047684, 0.11560525000095367, 0.05780262500047684, 0.1805138736963272, 0.1805138736963272, 0.1805138736963272, 0.11063018441200256, 0.05531509220600128, 0.11063018441200256, 0.16594527661800385, 0.11063018441200256, 0.05531509220600128, 0.11063018441200256, 0.05531509220600128, 0.11063018441200256, 0.05531509220600128, 0.12694181501865387, 0.12694181501865387, 0.5077672600746155, 0.08341517299413681, 0.08341517299413681, 0.08341517299413681, 0.08341517299413681, 0.33366069197654724, 0.08341517299413681, 0.08341517299413681, 0.08341517299413681, 0.08341517299413681, 0.08341517299413681, 0.050578124821186066, 0.1517343819141388, 0.050578124821186066, 0.3034687638282776, 0.050578124821186066, 0.10115624964237213, 0.050578124821186066, 0.050578124821186066, 0.050578124821186066, 0.050578124821186066, 0.050578124821186066, 0.20382526516914368, 0.20382526516914368, 0.20382526516914368, 0.1456192284822464, 0.218428835272789, 0.1456192284822464, 0.0728096142411232, 0.1456192284822464, 0.0728096142411232, 0.0728096142411232, 0.11983226984739304, 0.11983226984739304, 0.11983226984739304, 0.23966453969478607, 0.10421010106801987, 0.312630295753479, 0.10421010106801987, 0.10421010106801987, 0.10421010106801987, 0.1668359935283661, 0.1668359935283661, 0.3336719870567322, 0.13214685022830963, 0.13214685022830963, 0.3964405357837677, 0.17910335958003998, 0.17910335958003998, 0.17910335958003998, 0.17910335958003998, 0.10597279667854309, 0.13246598839759827, 0.10597279667854309, 0.15895919501781464, 0.10597279667854309, 0.07947959750890732, 0.052986398339271545, 0.052986398339271545, 0.052986398339271545, 0.07947959750890732, 0.052986398339271545, 0.026493199169635773, 0.026493199169635773, 0.11726810783147812, 0.11726810783147812, 0.11726810783147812, 0.11726810783147812, 0.11726810783147812, 0.23453621566295624, 0.11726810783147812, 0.369687557220459, 0.12322918325662613, 0.24645836651325226, 0.10135546326637268, 0.20271092653274536, 0.10135546326637268, 0.30406638979911804, 0.10135546326637268, 0.10135546326637268, 0.15694603323936462, 0.15694603323936462, 0.31389206647872925, 0.43370816111564636, 0.3717498481273651, 0.06195830926299095, 0.13720856606960297, 0.13720856606960297, 0.4116257131099701, 0.1451513171195984, 0.1451513171195984, 0.1451513171195984, 0.1451513171195984, 0.1524188220500946, 0.1524188220500946, 0.1524188220500946, 0.3048376441001892, 0.1851685345172882, 0.1851685345172882, 0.1851685345172882, 0.16005903482437134, 0.16005903482437134, 0.3201180696487427, 0.1815328150987625, 0.1815328150987625, 0.1815328150987625, 0.42738431692123413, 0.14246143400669098, 0.1559472531080246, 0.1559472531080246, 0.1559472531080246, 0.1559472531080246, 0.051982417702674866, 0.10396483540534973, 0.1559472531080246, 0.16153372824192047, 0.16153372824192047, 0.16153372824192047, 0.16153372824192047, 0.09729964286088943, 0.38919857144355774, 0.09729964286088943, 0.19459928572177887, 0.17345252633094788, 0.17345252633094788, 0.34690505266189575, 0.19299598038196564, 0.19299598038196564, 0.19299598038196564, 0.11544007062911987, 0.11544007062911987, 0.5772003531455994, 0.15882617235183716, 0.15882617235183716, 0.3176523447036743, 0.18560783565044403, 0.18560783565044403, 0.18560783565044403, 0.19567666947841644, 0.19567666947841644, 0.19567666947841644, 0.18223299086093903, 0.18223299086093903, 0.18223299086093903, 0.16144786775112152, 0.16144786775112152, 0.32289573550224304, 0.508505642414093, 0.12712641060352325, 0.16758061945438385, 0.16758061945438385, 0.3351612389087677, 0.4040626287460327, 0.11544646322727203, 0.11544646322727203, 0.05772323161363602, 0.05772323161363602, 0.05772323161363602, 0.05772323161363602, 0.05772323161363602, 0.05772323161363602, 0.05772323161363602, 0.09956395626068115, 0.09956395626068115, 0.49781978130340576, 0.09956395626068115, 0.09956395626068115, 0.1141260415315628, 0.1141260415315628, 0.5706301927566528, 0.17278707027435303, 0.17278707027435303, 0.17278707027435303, 0.11553394049406052, 0.34660181403160095, 0.11553394049406052, 0.11553394049406052, 0.07967081665992737, 0.07967081665992737, 0.07967081665992737, 0.4780248999595642, 0.07967081665992737, 0.07967081665992737, 0.07967081665992737, 0.07967081665992737, 0.49372878670692444, 0.12343219667673111, 0.44482383131980896, 0.08896476775407791, 0.08896476775407791, 0.08896476775407791, 0.08896476775407791, 0.08896476775407791, 0.130934476852417, 0.130934476852417, 0.523737907409668, 0.156585693359375, 0.31317138671875, 0.13668228685855865, 0.13668228685855865, 0.41004684567451477, 0.16466565430164337, 0.16466565430164337, 0.32933130860328674, 0.40970224142074585, 0.11705778539180756, 0.05852889269590378, 0.11705778539180756, 0.05852889269590378, 0.05852889269590378, 0.05852889269590378, 0.14428260922431946, 0.43284785747528076, 0.1612737625837326, 0.1612737625837326, 0.3225475251674652, 0.14076164364814758, 0.14076164364814758, 0.42228493094444275, 0.17499245703220367, 0.17499245703220367, 0.34998491406440735, 0.4097762703895569, 0.10244406759738922, 0.10244406759738922, 0.10244406759738922, 0.10244406759738922, 0.1481737643480301, 0.1481737643480301, 0.4445212781429291, 0.054214198142290115, 0.10842839628458023, 0.21685679256916046, 0.2710709869861603, 0.054214198142290115, 0.054214198142290115, 0.054214198142290115, 0.054214198142290115, 0.054214198142290115, 0.08762536942958832, 0.08762536942958832, 0.35050147771835327, 0.08762536942958832, 0.26287612318992615, 0.16528797149658203, 0.16528797149658203, 0.16528797149658203, 0.16528797149658203, 0.11455582827329636, 0.11455582827329636, 0.11455582827329636, 0.05727791413664818, 0.05727791413664818, 0.11455582827329636, 0.05727791413664818, 0.11455582827329636, 0.05727791413664818, 0.05727791413664818, 0.05727791413664818, 0.175448477268219, 0.175448477268219, 0.175448477268219, 0.175448477268219, 0.1606202870607376, 0.1606202870607376, 0.3212405741214752, 0.21988195180892944, 0.10994097590446472, 0.2748524248600006, 0.05497048795223236, 0.10994097590446472, 0.05497048795223236, 0.05497048795223236, 0.05497048795223236, 0.2685069143772125, 0.08950230479240417, 0.17900460958480835, 0.17900460958480835, 0.08950230479240417, 0.12622983753681183, 0.12622983753681183, 0.5049193501472473, 0.1723179668188095, 0.1723179668188095, 0.344635933637619, 0.20014789700508118, 0.20014789700508118, 0.20014789700508118, 0.2666992247104645, 0.06667480617761612, 0.20002441108226776, 0.13334961235523224, 0.06667480617761612, 0.06667480617761612, 0.12407238036394119, 0.12407238036394119, 0.49628952145576477, 0.6097370982170105, 0.08710529655218124, 0.08710529655218124, 0.6091874241828918, 0.10153123736381531, 0.17633570730686188, 0.17633570730686188, 0.35267141461372375, 0.17295072972774506, 0.17295072972774506, 0.3459014594554901, 0.16160576045513153, 0.16160576045513153, 0.16160576045513153, 0.16160576045513153, 0.6205344796180725, 0.08864778280258179, 0.12522856891155243, 0.12522856891155243, 0.3756857216358185, 0.12522856891155243, 0.12522856891155243, 0.15345261991024017, 0.15345261991024017, 0.30690523982048035, 0.14178583025932312, 0.14178583025932312, 0.425357460975647, 0.14178583025932312, 0.0766635313630104, 0.0766635313630104, 0.1533270627260208, 0.3066541254520416, 0.0766635313630104, 0.1533270627260208, 0.0766635313630104, 0.0766635313630104, 0.16858741641044617, 0.16858741641044617, 0.33717483282089233, 0.1826724112033844, 0.1826724112033844, 0.1826724112033844, 0.1826724112033844, 0.1826724112033844, 0.10804376751184464, 0.10804376751184464, 0.10804376751184464, 0.10804376751184464, 0.10804376751184464, 0.10804376751184464, 0.156946063041687, 0.156946063041687, 0.313892126083374, 0.05493997037410736, 0.05493997037410736, 0.16481991112232208, 0.2746998369693756, 0.05493997037410736, 0.10987994074821472, 0.05493997037410736, 0.05493997037410736, 0.05493997037410736, 0.05493997037410736, 0.05493997037410736, 0.18560782074928284, 0.18560782074928284, 0.18560782074928284, 0.15623798966407776, 0.3124759793281555, 0.1257537454366684, 0.1257537454366684, 0.3772612512111664, 0.1257537454366684, 0.12974311411380768, 0.25948622822761536, 0.12974311411380768, 0.12974311411380768, 0.1587858647108078, 0.1587858647108078, 0.1587858647108078, 0.1587858647108078, 0.1587858647108078, 0.1587858647108078, 0.1587858647108078, 0.13966508209705353, 0.13966508209705353, 0.27933016419410706, 0.27933016419410706, 0.17624534666538239, 0.17624534666538239, 0.17624534666538239, 0.17624534666538239, 0.10745944827795029, 0.10745944827795029, 0.10745944827795029, 0.32237836718559265, 0.10745944827795029, 0.10745944827795029, 0.10745944827795029, 0.17716380953788757, 0.17716380953788757, 0.17716380953788757, 0.4761006534099579, 0.11902516335248947, 0.11902516335248947, 0.1289539784193039, 0.1289539784193039, 0.3868619501590729, 0.1289539784193039, 0.15367084741592407, 0.15367084741592407, 0.4610125422477722, 0.12925463914871216, 0.5170185565948486, 0.1356947273015976, 0.407084196805954, 0.16465672850608826, 0.16465672850608826, 0.3293134570121765, 0.1451786607503891, 0.1451786607503891, 0.4355359971523285, 0.3848946988582611, 0.10996991395950317, 0.05498495697975159, 0.10996991395950317, 0.05498495697975159, 0.05498495697975159, 0.05498495697975159, 0.05498495697975159, 0.05498495697975159, 0.05498495697975159, 0.5738598108291626, 0.11477195471525192, 0.12004999816417694, 0.12004999816417694, 0.48019999265670776, 0.15776531398296356, 0.15776531398296356, 0.3155306279659271, 0.19387170672416687, 0.19387170672416687, 0.19387170672416687, 0.16733777523040771, 0.16733777523040771, 0.16733777523040771, 0.16733777523040771, 0.16733777523040771, 0.1521298736333847, 0.1521298736333847, 0.3042597472667694, 0.1521298736333847, 0.1442546546459198, 0.1442546546459198, 0.1442546546459198, 0.2885093092918396, 0.14828082919120789, 0.14828082919120789, 0.44484248757362366, 0.16264283657073975, 0.16264283657073975, 0.16264283657073975, 0.16264283657073975, 0.39001891016960144, 0.09750472754240036, 0.09750472754240036, 0.09750472754240036, 0.09750472754240036, 0.09750472754240036, 0.1527726948261261, 0.1527726948261261, 0.4583180844783783, 0.15330618619918823, 0.15330618619918823, 0.30661237239837646, 0.12747934460639954, 0.12747934460639954, 0.3824380040168762, 0.11666475236415863, 0.23332950472831726, 0.11666475236415863, 0.11666475236415863, 0.11666475236415863, 0.18050578236579895, 0.18050578236579895, 0.18050578236579895, 0.14396877586841583, 0.14396877586841583, 0.14396877586841583, 0.28793755173683167, 0.1463281810283661, 0.1463281810283661, 0.2926563620567322, 0.1463281810283661, 0.08511444926261902, 0.25534334778785706, 0.08511444926261902, 0.25534334778785706, 0.08511444926261902, 0.4099661111831665, 0.13665537536144257, 0.14934460818767548, 0.14934460818767548, 0.44803380966186523, 0.06310755014419556, 0.06310755014419556, 0.1262151002883911, 0.06310755014419556, 0.1262151002883911, 0.06310755014419556, 0.06310755014419556, 0.2524302005767822, 0.06310755014419556, 0.1293158382177353, 0.1293158382177353, 0.1293158382177353, 0.2586316764354706, 0.39165422320365906, 0.13055141270160675, 0.14260272681713104, 0.14260272681713104, 0.14260272681713104, 0.2852054536342621, 0.1507338285446167, 0.1507338285446167, 0.1507338285446167, 0.3014676570892334, 0.1698669195175171, 0.1698669195175171, 0.1698669195175171, 0.18478286266326904, 0.18478286266326904, 0.18478286266326904, 0.6155447959899902, 0.10259079188108444, 0.4217429459095001, 0.14058098196983337, 0.1413014829158783, 0.2826029658317566, 0.1413014829158783, 0.1413014829158783, 0.11898332089185715, 0.11898332089185715, 0.35694998502731323, 0.11898332089185715, 0.11898332089185715, 0.11898332089185715, 0.19857905805110931, 0.09928952902555466, 0.09928952902555466, 0.09928952902555466, 0.09928952902555466, 0.09928952902555466, 0.09928952902555466, 0.09928952902555466, 0.1383069008588791, 0.1383069008588791, 0.41492071747779846, 0.1383069008588791, 0.16996121406555176, 0.16996121406555176, 0.3399224281311035, 0.2775669991970062, 0.09252233803272247, 0.3700893521308899, 0.09252233803272247, 0.09252233803272247, 0.1813763976097107, 0.1813763976097107, 0.1813763976097107, 0.167533740401268, 0.167533740401268, 0.335067480802536, 0.08696423470973969, 0.08696423470973969, 0.26089268922805786, 0.08696423470973969, 0.08696423470973969, 0.17392846941947937, 0.08696423470973969, 0.13107138872146606, 0.5242855548858643, 0.12952449917793274, 0.12952449917793274, 0.12952449917793274, 0.12952449917793274, 0.12952449917793274, 0.12952449917793274, 0.12952449917793274, 0.16728292405605316, 0.16728292405605316, 0.3345658481121063, 0.18256919085979462, 0.18256919085979462, 0.18256919085979462, 0.16202111542224884, 0.16202111542224884, 0.3240422308444977, 0.10838279128074646, 0.3251483738422394, 0.3251483738422394, 0.1882629543542862, 0.1882629543542862, 0.1882629543542862, 0.16050806641578674, 0.16050806641578674, 0.3210161328315735, 0.1405012458562851, 0.1405012458562851, 0.4215037524700165, 0.13979466259479523, 0.13979466259479523, 0.27958932518959045, 0.1458348035812378, 0.1458348035812378, 0.4375044107437134, 0.09252531826496124, 0.6476772427558899, 0.09252531826496124, 0.18805833160877228, 0.18805833160877228, 0.18805833160877228, 0.18050581216812134, 0.18050581216812134, 0.18050581216812134, 0.20770427584648132, 0.20770427584648132, 0.08836103975772858, 0.08836103975772858, 0.4418051838874817, 0.08836103975772858, 0.08836103975772858, 0.08836103975772858, 0.08836103975772858, 0.20886234939098358, 0.20886234939098358, 0.31001147627830505, 0.12400458753108978, 0.12400458753108978, 0.06200229376554489, 0.06200229376554489, 0.06200229376554489, 0.06200229376554489, 0.06200229376554489, 0.06200229376554489, 0.06200229376554489, 0.1288941353559494, 0.1288941353559494, 0.3866824209690094, 0.1288941353559494, 0.1288941353559494, 0.22159597277641296, 0.11079798638820648, 0.11079798638820648, 0.22159597277641296, 0.19915258884429932, 0.19915258884429932, 0.19915258884429932, 0.12357805669307709, 0.49431222677230835, 0.15044572949409485, 0.45133718848228455, 0.16924764215946198, 0.16924764215946198, 0.16924764215946198, 0.16924764215946198, 0.2671785056591034, 0.16030709445476532, 0.10687139630317688, 0.10687139630317688, 0.05343569815158844, 0.05343569815158844, 0.05343569815158844, 0.05343569815158844, 0.05343569815158844, 0.16144785284996033, 0.16144785284996033, 0.32289570569992065, 0.12272103130817413, 0.12272103130817413, 0.06136051565408707, 0.06136051565408707, 0.30680257081985474, 0.06136051565408707, 0.06136051565408707, 0.06136051565408707, 0.06136051565408707, 0.06136051565408707, 0.1402125507593155, 0.1402125507593155, 0.21031883358955383, 0.1402125507593155, 0.21031883358955383, 0.07010627537965775, 0.07010627537965775, 0.15781483054161072, 0.15781483054161072, 0.31562966108322144, 0.15912151336669922, 0.15912151336669922, 0.31824302673339844, 0.18564653396606445, 0.09282326698303223, 0.09282326698303223, 0.2784698009490967, 0.09282326698303223, 0.09282326698303223, 0.09282326698303223, 0.14397700130939484, 0.07198850065469742, 0.14397700130939484, 0.14397700130939484, 0.07198850065469742, 0.07198850065469742, 0.07198850065469742, 0.14397700130939484, 0.07198850065469742, 0.22667303681373596, 0.11333651840686798, 0.11333651840686798, 0.11333651840686798, 0.11333651840686798, 0.11333651840686798, 0.11333651840686798, 0.1804976761341095, 0.1804976761341095, 0.1804976761341095, 0.20886234939098358, 0.20886234939098358, 0.09385419636964798, 0.09385419636964798, 0.3754167854785919, 0.09385419636964798, 0.09385419636964798, 0.09385419636964798, 0.09385419636964798, 0.15630751848220825, 0.20841003954410553, 0.05210250988602638, 0.15630751848220825, 0.05210250988602638, 0.05210250988602638, 0.05210250988602638, 0.05210250988602638, 0.05210250988602638, 0.05210250988602638, 0.05210250988602638, 0.05210250988602638, 0.12288060784339905, 0.12288060784339905, 0.4915224313735962, 0.15550723671913147, 0.15550723671913147, 0.31101447343826294, 0.12479149550199509, 0.12479149550199509, 0.12479149550199509, 0.12479149550199509, 0.12479149550199509, 0.12479149550199509, 0.12479149550199509, 0.10270719230175018, 0.10270719230175018, 0.10270719230175018, 0.10270719230175018, 0.30812156200408936, 0.10270719230175018, 0.35079705715179443, 0.11693234741687775, 0.2338646948337555, 0.11071959137916565, 0.2214391827583313, 0.11071959137916565, 0.33215877413749695, 0.11071959137916565, 0.09754733741283417, 0.19509467482566833, 0.09754733741283417, 0.09754733741283417, 0.09754733741283417, 0.19509467482566833, 0.23187150061130524, 0.11593575030565262, 0.23187150061130524, 0.11593575030565262, 0.11593575030565262, 0.4360786974430084, 0.1453595608472824, 0.15121349692344666, 0.15121349692344666, 0.3024269938468933, 0.16758060455322266, 0.16758060455322266, 0.3351612091064453, 0.14882305264472961, 0.14882305264472961, 0.29764610528945923, 0.1543194055557251, 0.1543194055557251, 0.1543194055557251, 0.1543194055557251, 0.1811864823102951, 0.1811864823102951, 0.1811864823102951, 0.1811864823102951, 0.1811864823102951, 0.1811864823102951, 0.06877914071083069, 0.27511656284332275, 0.13755828142166138, 0.06877914071083069, 0.06877914071083069, 0.06877914071083069, 0.06877914071083069, 0.06877914071083069, 0.06877914071083069, 0.09081987291574478, 0.09081987291574478, 0.3632794916629791, 0.18163974583148956, 0.09081987291574478, 0.09081987291574478, 0.09081987291574478, 0.09081987291574478, 0.1731143593788147, 0.1731143593788147, 0.1731143593788147, 0.18002185225486755, 0.18002185225486755, 0.18002185225486755, 0.18002185225486755, 0.14077222347259521, 0.14077222347259521, 0.42231667041778564, 0.17698967456817627, 0.17698967456817627, 0.17698967456817627, 0.45198366045951843, 0.11299591511487961, 0.11299591511487961, 0.13245806097984314, 0.13245806097984314, 0.13245806097984314, 0.2649161219596863, 0.08917844295501709, 0.17835688591003418, 0.35671377182006836, 0.08917844295501709, 0.08917844295501709, 0.08917844295501709, 0.08917844295501709, 0.14349915087223053, 0.14349915087223053, 0.14349915087223053, 0.28699830174446106, 0.13705381751060486, 0.13705381751060486, 0.4111614525318146, 0.13705381751060486, 0.10886664688587189, 0.14515551924705505, 0.07257775962352753, 0.03628887981176376, 0.36288881301879883, 0.03628887981176376, 0.07257775962352753, 0.03628887981176376, 0.03628887981176376, 0.07257775962352753, 0.03628887981176376, 0.03628887981176376, 0.15724429488182068, 0.15724429488182068, 0.15724429488182068, 0.15724429488182068, 0.1370428055524826, 0.1370428055524826, 0.4111284017562866, 0.5360642075538635, 0.13401605188846588, 0.17878039181232452, 0.08939019590616226, 0.08939019590616226, 0.08939019590616226, 0.1340852975845337, 0.08939019590616226, 0.04469509795308113, 0.1340852975845337, 0.04469509795308113, 0.04469509795308113, 0.04469509795308113, 0.15052370727062225, 0.15052370727062225, 0.15052370727062225, 0.15052370727062225, 0.12031916528940201, 0.12031916528940201, 0.12031916528940201, 0.24063833057880402, 0.1725594401359558, 0.1725594401359558, 0.1725594401359558, 0.1725594401359558, 0.11568405479192734, 0.11568405479192734, 0.5784202814102173, 0.09254907071590424, 0.09254907071590424, 0.37019628286361694, 0.09254907071590424, 0.09254907071590424, 0.3911832273006439, 0.09779580682516098, 0.09779580682516098, 0.19559161365032196, 0.09779580682516098, 0.14106956124305725, 0.14106956124305725, 0.14106956124305725, 0.2821391224861145, 0.12351424247026443, 0.3705427348613739, 0.06175712123513222, 0.12351424247026443, 0.06175712123513222, 0.06175712123513222, 0.06175712123513222, 0.06175712123513222, 0.06175712123513222, 0.06175712123513222, 0.06175712123513222, 0.17222097516059875, 0.17222097516059875, 0.17222097516059875, 0.15827426314353943, 0.07913713157176971, 0.07913713157176971, 0.23741139471530914, 0.15827426314353943, 0.07913713157176971, 0.07913713157176971, 0.07913713157176971, 0.16558606922626495, 0.16558606922626495, 0.3311721384525299, 0.1947747766971588, 0.0649249255657196, 0.324624627828598, 0.1298498511314392, 0.0649249255657196, 0.0649249255657196, 0.0649249255657196, 0.1572059541940689, 0.1572059541940689, 0.3144119083881378, 0.0905347466468811, 0.3923172354698181, 0.0301782488822937, 0.1207129955291748, 0.1207129955291748, 0.0603564977645874, 0.0603564977645874, 0.0301782488822937, 0.0301782488822937, 0.0301782488822937, 0.0301782488822937, 0.0301782488822937, 0.20081095397472382, 0.10040547698736191, 0.10040547698736191, 0.10040547698736191, 0.10040547698736191, 0.20081095397472382, 0.10040547698736191, 0.1821690797805786, 0.1821690797805786, 0.1821690797805786, 0.15499095618724823, 0.15499095618724823, 0.10332730412483215, 0.10332730412483215, 0.10332730412483215, 0.05166365206241608, 0.05166365206241608, 0.05166365206241608, 0.05166365206241608, 0.10332730412483215, 0.10332730412483215, 0.24874146282672882, 0.37311220169067383, 0.062185365706682205, 0.062185365706682205, 0.062185365706682205, 0.062185365706682205, 0.12437073141336441], \"Term\": [\"aches\", \"aches\", \"aches\", \"across\", \"across\", \"across\", \"admit\", \"admit\", \"admit\", \"advantage\", \"advantage\", \"advantage\", \"affection\", \"affection\", \"affection\", \"aint\", \"aint\", \"aint\", \"aint\", \"aint\", \"aint\", \"aint\", \"aint\", \"alan\", \"alan\", \"alan\", \"alone\", \"alone\", \"alone\", \"alone\", \"alone\", \"alone\", \"alone\", \"alone\", \"alone\", \"along\", \"along\", \"along\", \"along\", \"alright\", \"alright\", \"alright\", \"alright\", \"alright\", \"always\", \"always\", \"always\", \"always\", \"always\", \"always\", \"always\", \"always\", \"always\", \"always\", \"always\", \"angel\", \"angel\", \"angel\", \"anna\", \"anna\", \"anna\", \"another\", \"another\", \"another\", \"another\", \"another\", \"another\", \"anything\", \"anything\", \"anything\", \"anything\", \"anything\", \"anytime\", \"anytime\", \"anytime\", \"appear\", \"appear\", \"appear\", \"appreciate\", \"appreciate\", \"appreciate\", \"arise\", \"arise\", \"aunt\", \"aunt\", \"aunt\", \"babe\", \"babe\", \"babe\", \"babe\", \"babe\", \"baby\", \"baby\", \"baby\", \"baby\", \"baby\", \"baby\", \"baby\", \"baby\", \"baby\", \"baby\", \"baby\", \"baby\", \"baby\", \"babys\", \"babys\", \"babys\", \"babys\", \"babys\", \"back\", \"back\", \"back\", \"back\", \"back\", \"back\", \"back\", \"back\", \"back\", \"back\", \"bags\", \"bags\", \"bang\", \"bang\", \"bang\", \"bay-ee-a-by\", \"bay-ee-a-by\", \"bay-ee-a-by\", \"beep\", \"beep\", \"beep_beep\", \"beep_beep\", \"beepm\", \"beepm\", \"behave\", \"behave\", \"behave\", \"behind\", \"behind\", \"behind\", \"behind\", \"believe\", \"believe\", \"believe\", \"believe\", \"believe\", \"believe\", \"believe\", \"belle\", \"belle\", \"belle\", \"bells\", \"bells\", \"bells\", \"belong\", \"belong\", \"belong\", \"belong\", \"belong\", \"belonged\", \"belonged\", \"belonged\", \"besame\", \"besame\", \"better\", \"better\", \"better\", \"better\", \"better\", \"better\", \"better\", \"bien\", \"bien\", \"bien\", \"bigger\", \"bigger\", \"bigger\", \"bird\", \"bird\", \"bird\", \"bird\", \"bird\", \"birds\", \"birds\", \"birds\", \"birds\", \"birthday\", \"birthday\", \"birthday\", \"black\", \"black\", \"black\", \"blackbird\", \"blackbird\", \"bless\", \"bless\", \"bless\", \"bliss\", \"bliss\", \"bliss\", \"blue\", \"blue\", \"blue\", \"blue\", \"blue\", \"blue\", \"blue\", \"blue\", \"blue\", \"blue_suede\", \"blue_suede\", \"blue_suede\", \"blues\", \"blues\", \"blues\", \"blues\", \"body\", \"body\", \"body\", \"bonnie\", \"bonnie\", \"bonnie\", \"bother\", \"bother\", \"bother\", \"bottom\", \"bottom\", \"boys\", \"boys\", \"boys\", \"boys\", \"boys\", \"brand\", \"brand\", \"brand\", \"break\", \"break\", \"break\", \"break\", \"break\", \"break\", \"breaks\", \"breaks\", \"breaks\", \"breaks\", \"brian\", \"brian\", \"brian\", \"brian\", \"brian\", \"bright\", \"bright\", \"bright\", \"brighten\", \"brighten\", \"bring\", \"bring\", \"bring\", \"bring\", \"brings\", \"brings\", \"brings\", \"broke\", \"broke\", \"broke\", \"brown\", \"brown\", \"brown\", \"brown\", \"built\", \"built\", \"built\", \"bulldog\", \"bulldog\", \"bulldog\", \"buys\", \"buys\", \"buys\", \"cachoo\", \"cachoo\", \"cachoo\", \"call\", \"call\", \"call\", \"call\", \"call\", \"call\", \"call\", \"call\", \"calling\", \"calling\", \"calls\", \"calls\", \"calls\", \"calls\", \"came\", \"came\", \"came\", \"came\", \"came\", \"came\", \"cant\", \"cant\", \"cant\", \"cant\", \"cant\", \"cant\", \"cant\", \"cant\", \"cant\", \"cant\", \"carol\", \"carol\", \"carol\", \"carry_weight\", \"carry_weight\", \"carry_weight\", \"cause\", \"cause\", \"cause\", \"cause\", \"cause\", \"cause\", \"cause\", \"cause\", \"cause\", \"cause\", \"cause\", \"chains\", \"chains\", \"chains\", \"chance\", \"chance\", \"chance\", \"chance\", \"change\", \"change\", \"change\", \"change\", \"change\", \"change\", \"changed\", \"changed\", \"changed\", \"changed\", \"changed\", \"cheat\", \"cheat\", \"cheat\", \"child\", \"child\", \"child\", \"child\", \"chip\", \"chip\", \"chip\", \"christmas\", \"christmas\", \"christmas\", \"city\", \"city\", \"city\", \"city\", \"clarabella\", \"clarabella\", \"clarabella\", \"closer\", \"closer\", \"closer\", \"clothes\", \"clothes\", \"clothes\", \"clothes\", \"cold\", \"cold\", \"cold\", \"cold\", \"comb\", \"comb\", \"come\", \"come\", \"come\", \"come\", \"come\", \"come\", \"come\", \"come\", \"come\", \"come\", \"comes\", \"comes\", \"comes\", \"comes\", \"comes\", \"comes\", \"coming\", \"coming\", \"coming\", \"coming\", \"coming\", \"commonwealth\", \"commonwealth\", \"conceive\", \"conceive\", \"conceive\", \"confidentially\", \"confidentially\", \"confidentially\", \"couple\", \"couple\", \"couple\", \"crazy\", \"crazy\", \"crazy\", \"cried\", \"cried\", \"cried\", \"cried\", \"cross_town\", \"cross_town\", \"cross_town\", \"crying\", \"crying\", \"crying\", \"crying\", \"dance\", \"dance\", \"dance\", \"dance\", \"dance\", \"dance\", \"dancer\", \"dancer\", \"dang\", \"dang\", \"dang\", \"danger\", \"danger\", \"danger\", \"darling\", \"darling\", \"darling\", \"darling\", \"darling\", \"darling\", \"days\", \"days\", \"days\", \"days\", \"days\", \"days\", \"days\", \"dear\", \"dear\", \"dear\", \"dear\", \"dear\", \"dear\", \"dear_prudence\", \"dear_prudence\", \"dear_prudence\", \"deceive\", \"deceive\", \"deceive\", \"declare\", \"declare\", \"deep\", \"deep\", \"deep\", \"deep\", \"deine_hand\", \"deine_hand\", \"deine_hand\", \"desert\", \"desert\", \"desert\", \"desmond\", \"desmond\", \"desmond\", \"devil\", \"devil\", \"devil\", \"diamonds\", \"diamonds\", \"diamonds\", \"didnt\", \"didnt\", \"didnt\", \"didnt\", \"didnt\", \"didnt\", \"didnt\", \"died\", \"died\", \"died\", \"died\", \"different\", \"different\", \"dirty\", \"dirty\", \"dirty\", \"disappear\", \"disappear\", \"disappear\", \"disappointment\", \"disappointment\", \"disappointment\", \"dizzy\", \"dizzy\", \"dizzy\", \"done\", \"done\", \"done\", \"done\", \"done\", \"done\", \"done\", \"dont\", \"dont\", \"dont\", \"dont\", \"dont\", \"dont\", \"dont\", \"dont\", \"dont\", \"dont\", \"dont\", \"dreamer\", \"dreamer\", \"dreamer\", \"dreamers\", \"dreamers\", \"dreamers\", \"dreams\", \"dreams\", \"dreams\", \"dreams\", \"drive\", \"drive\", \"drive\", \"drive\", \"driving\", \"driving\", \"driving\", \"driving\", \"driving\", \"dumb\", \"dumb\", \"dumb\", \"earth\", \"earth\", \"earth\", \"earth\", \"easy\", \"easy\", \"easy\", \"easy\", \"easy\", \"easy\", \"easy\", \"eight\", \"eight\", \"eight\", \"endear\", \"endear\", \"endear\", \"enoch\", \"enoch\", \"enough\", \"enough\", \"enough\", \"enough\", \"ensemble\", \"ensemble\", \"ensemble\", \"even\", \"even\", \"ever\", \"ever\", \"ever\", \"ever\", \"ever\", \"ever\", \"ever\", \"ever\", \"ever\", \"ever\", \"every\", \"every\", \"every\", \"every\", \"every\", \"every\", \"every\", \"everybodys\", \"everybodys\", \"everybodys\", \"everybodys\", \"everythings\", \"everythings\", \"everythings\", \"evrybody\", \"evrybody\", \"evrybody\", \"evrything\", \"evrything\", \"evrything\", \"fade\", \"fade\", \"fade\", \"fade\", \"falling\", \"falling\", \"falling\", \"falling\", \"fast\", \"fast\", \"fast\", \"fast\", \"feeling\", \"feeling\", \"feeling\", \"feeling\", \"feeling\", \"feeling\", \"feeling\", \"feeling\", \"final\", \"final\", \"fine\", \"fine\", \"fine\", \"fine\", \"fine\", \"fine\", \"fine\", \"fine\", \"float\", \"float\", \"float\", \"follow\", \"follow\", \"follow\", \"forever\", \"forever\", \"forever\", \"forever\", \"forever\", \"forever\", \"form\", \"form\", \"found\", \"found\", \"found\", \"found\", \"found\", \"free_bird\", \"free_bird\", \"free_bird\", \"friend\", \"friend\", \"friend\", \"friend\", \"friend\", \"friend\", \"friend\", \"george\", \"george\", \"george\", \"george\", \"george\", \"getting\", \"getting\", \"getting\", \"getting\", \"gilly\", \"gilly\", \"gilly\", \"girl\", \"girl\", \"girl\", \"girl\", \"girl\", \"girl\", \"girl\", \"girl\", \"girl\", \"girl\", \"girls\", \"girls\", \"girls\", \"girls\", \"girls\", \"give\", \"give\", \"give\", \"give\", \"give\", \"give\", \"give\", \"give_peace_chance\", \"give_peace_chance\", \"give_peace_chance\", \"giving\", \"giving\", \"giving\", \"glad\", \"glad\", \"glad\", \"glad\", \"glad\", \"glad\", \"glad\", \"glass\", \"glass\", \"glass\", \"go-getter\", \"go-getter\", \"go-getter\", \"goes\", \"goes\", \"goes\", \"goes\", \"goes\", \"goes\", \"goes\", \"goes\", \"going\", \"going\", \"going\", \"going\", \"going\", \"going\", \"going\", \"good\", \"good\", \"good\", \"good\", \"good\", \"good\", \"good\", \"good\", \"good\", \"good\", \"good\", \"goodbye\", \"goodbye\", \"goodbye\", \"goodbye\", \"goode\", \"goode\", \"goode\", \"great\", \"great\", \"great\", \"great\", \"grey\", \"grey\", \"grey\", \"guilty\", \"guilty\", \"guilty\", \"guru_deva\", \"guru_deva\", \"guru_deva\", \"hallelujah\", \"hallelujah\", \"hallelujah\", \"hand\", \"hand\", \"hand\", \"hand\", \"hand\", \"hands\", \"hands\", \"hands\", \"hands\", \"hands\", \"hands\", \"hands\", \"happiness\", \"happiness\", \"happiness\", \"happiness\", \"happiness_warm\", \"happiness_warm\", \"happiness_warm\", \"happy\", \"happy\", \"happy\", \"happy\", \"happy\", \"harm\", \"harm\", \"harm\", \"harm\", \"harp\", \"harp\", \"harp\", \"heart\", \"heart\", \"heart\", \"heart\", \"heart\", \"heart\", \"heart\", \"heart\", \"heart\", \"heart\", \"heartache\", \"heartache\", \"heartache\", \"hearts\", \"hearts\", \"hearts\", \"heavy\", \"heavy\", \"heavy\", \"held\", \"held\", \"held\", \"hello\", \"hello\", \"hello\", \"hello\", \"hello\", \"help\", \"help\", \"help\", \"help\", \"help\", \"help\", \"helter_skelter\", \"helter_skelter\", \"helter_skelter_helter_skelter\", \"helter_skelter_helter_skelter\", \"hempstead\", \"hempstead\", \"hendersons\", \"hendersons\", \"hendersons\", \"heres\", \"heres\", \"heres\", \"heres\", \"heres\", \"heres\", \"hold\", \"hold\", \"hold\", \"hold\", \"hold\", \"hold\", \"hold\", \"hold\", \"hold\", \"hole\", \"hole\", \"hole\", \"hole\", \"hole\", \"holes\", \"holes\", \"holes\", \"home\", \"home\", \"home\", \"home\", \"home\", \"home\", \"home\", \"home\", \"home\", \"home\", \"homeward\", \"homeward\", \"homeward\", \"honey\", \"honey\", \"honey\", \"honey\", \"honey\", \"honey\", \"hoping\", \"hoping\", \"hoping\", \"hoping\", \"hung\", \"hung\", \"hurry\", \"hurry\", \"hurry\", \"hurt\", \"hurt\", \"hurt\", \"hurt\", \"hurt\", \"i-i-me-me\", \"i-i-me-me\", \"imagine\", \"imagine\", \"imagine\", \"information\", \"information\", \"information\", \"instead\", \"instead\", \"instead\", \"instead\", \"insurance\", \"insurance\", \"intention\", \"intention\", \"intention\", \"jealous\", \"jealous\", \"jesus\", \"jesus\", \"jesus\", \"jingle\", \"jingle\", \"jingle\", \"john\", \"john\", \"john\", \"john\", \"john\", \"john\", \"john\", \"john\", \"john\", \"johnny\", \"johnny\", \"johnny\", \"johnny\", \"jojo\", \"jojo\", \"jojo\", \"jude\", \"jude\", \"jude\", \"jude_jude_jude_jude\", \"jude_jude_jude_jude\", \"jude_jude_jude_jude\", \"julia\", \"julia\", \"julia\", \"julia_julia\", \"julia_julia\", \"julia_julia\", \"june\", \"june\", \"junior\", \"junior\", \"junior\", \"juniors\", \"juniors\", \"juniors\", \"kansas\", \"kansas\", \"kansas\", \"keep\", \"keep\", \"keep\", \"keep\", \"keep\", \"keep\", \"keep\", \"kite\", \"kite\", \"kite\", \"kitten\", \"kitten\", \"knew\", \"knew\", \"knew\", \"knew\", \"knew\", \"know\", \"know\", \"know\", \"know\", \"know\", \"know\", \"know\", \"know\", \"know\", \"know\", \"know\", \"komm\", \"komm\", \"komm\", \"lady\", \"lady\", \"lady\", \"lasted\", \"lasted\", \"lasted\", \"laugh\", \"laugh\", \"laugh\", \"laugh\", \"lazy\", \"lazy\", \"lazy\", \"leave\", \"leave\", \"leave\", \"leave\", \"leave\", \"leave\", \"leave\", \"leave\", \"leaves\", \"leaves\", \"leaves\", \"leaves\", \"leaves\", \"letting\", \"letting\", \"letting\", \"life\", \"life\", \"life\", \"life\", \"life\", \"life\", \"life\", \"life\", \"lifetime\", \"lifetime\", \"lifetime\", \"lifetime\", \"like\", \"like\", \"like\", \"like\", \"like\", \"like\", \"like\", \"like\", \"like\", \"line\", \"line\", \"line\", \"little\", \"little\", \"little\", \"little\", \"little\", \"little\", \"little\", \"little\", \"little\", \"little\", \"lizzy\", \"lizzy\", \"lizzy\", \"lonely\", \"lonely\", \"lonely\", \"lonely\", \"lonely\", \"lonely\", \"lonely\", \"lonely\", \"lonely\", \"lonely\", \"long\", \"long\", \"long\", \"long\", \"long\", \"long\", \"long\", \"long\", \"long\", \"long\", \"long\", \"longer\", \"longer\", \"longer\", \"look\", \"look\", \"look\", \"look\", \"look\", \"look\", \"look\", \"looked\", \"looked\", \"looked\", \"looked\", \"looking\", \"looking\", \"looking\", \"looking\", \"looking\", \"loose\", \"loose\", \"loose\", \"loser\", \"loser\", \"loser\", \"loud\", \"loud\", \"loud\", \"loud\", \"love\", \"love\", \"love\", \"love\", \"love\", \"love\", \"love\", \"love\", \"love\", \"love\", \"love\", \"love\", \"love\", \"loved\", \"loved\", \"loved\", \"loved\", \"loved\", \"loved\", \"loved\", \"lovely\", \"lovely\", \"lovely\", \"lover\", \"lover\", \"lover\", \"lover\", \"lover\", \"lover\", \"lovers\", \"lovers\", \"lovers\", \"loving\", \"loving\", \"loving\", \"lucille\", \"lucille\", \"lucille\", \"lucky\", \"lucky\", \"lucky\", \"lucky\", \"lucy\", \"lucy\", \"lucy\", \"lucy\", \"lullaby\", \"lullaby\", \"lullaby\", \"madonna\", \"madonna\", \"madonna\", \"magical\", \"magical\", \"magical\", \"maid\", \"maid\", \"make\", \"make\", \"make\", \"make\", \"make\", \"make\", \"make\", \"manage\", \"manage\", \"manage\", \"manage\", \"many\", \"many\", \"many\", \"many\", \"marie\", \"marie\", \"marie\", \"married\", \"married\", \"married\", \"martha\", \"martha\", \"martha\", \"matchbox\", \"matchbox\", \"matchbox\", \"matches\", \"matches\", \"matches\", \"mattered\", \"mattered\", \"mattered\", \"measured\", \"measured\", \"measured\", \"memphis\", \"memphis\", \"memphis\", \"meter\", \"meter\", \"michelle\", \"michelle\", \"michelle\", \"mine\", \"mine\", \"mine\", \"mine\", \"mine\", \"mine\", \"mine\", \"mine\", \"mine\", \"mine\", \"misery\", \"misery\", \"misery\", \"misery\", \"misery\", \"mister_moonlight\", \"mister_moonlight\", \"mister_moonlight\", \"molly\", \"molly\", \"molly\", \"moment\", \"moment\", \"moment\", \"moment\", \"money\", \"money\", \"money\", \"money\", \"money\", \"money\", \"money\", \"money\", \"moonlight\", \"moonlight\", \"morning\", \"morning\", \"morning\", \"morning\", \"morning\", \"morning\", \"mother_sigh\", \"mother_sigh\", \"mother_sigh\", \"motorcars\", \"motorcars\", \"movies\", \"movies\", \"movies\", \"mrs.\", \"mrs.\", \"mrs.\", \"much\", \"much\", \"much\", \"much\", \"much\", \"much\", \"much\", \"mucho\", \"mucho\", \"mummys\", \"mummys\", \"mummys\", \"must_pass\", \"must_pass\", \"must_pass\", \"mystery_tour\", \"mystery_tour\", \"mystery_tour\", \"name\", \"name\", \"name\", \"name\", \"name\", \"naturally\", \"naturally\", \"naturally\", \"need\", \"need\", \"need\", \"need\", \"need\", \"need\", \"need\", \"need\", \"need\", \"needed\", \"needed\", \"needed\", \"needed\", \"needed\", \"needs\", \"needs\", \"needs\", \"needs\", \"never\", \"never\", \"never\", \"never\", \"never\", \"never\", \"never\", \"never\", \"never\", \"never\", \"never\", \"news\", \"news\", \"news\", \"news\", \"nice\", \"nice\", \"nice\", \"night\", \"night\", \"night\", \"night\", \"night\", \"night\", \"night\", \"night\", \"nobody\", \"nobody\", \"nobody\", \"nobody\", \"nobody\", \"nobodys\", \"nobodys\", \"nobodys\", \"norwegian\", \"norwegian\", \"norwegian\", \"note\", \"note\", \"note\", \"nothing\", \"nothing\", \"nothing\", \"nothing\", \"nothing\", \"nothing\", \"nothings\", \"nothings\", \"nothings\", \"nowhere\", \"nowhere\", \"nowhere\", \"octopus_garden\", \"octopus_garden\", \"one-horse\", \"one-horse\", \"one-horse\", \"onion\", \"onion\", \"onion\", \"open\", \"open\", \"open\", \"open\", \"paranoias\", \"paranoias\", \"party\", \"party\", \"party\", \"party\", \"party\", \"pass\", \"pass\", \"pass\", \"peace\", \"peace\", \"peace\", \"peace\", \"people\", \"people\", \"people\", \"people\", \"people\", \"people\", \"people\", \"people\", \"performs\", \"performs\", \"performs\", \"phone\", \"phone\", \"phone\", \"phone\", \"phone\", \"place\", \"place\", \"place\", \"place\", \"place\", \"place\", \"places\", \"places\", \"places\", \"please\", \"please\", \"please\", \"please\", \"please\", \"please\", \"please\", \"please\", \"please\", \"please\", \"please\", \"poor\", \"poor\", \"poor\", \"powell\", \"powell\", \"pray\", \"pray\", \"pray\", \"pray\", \"pretend\", \"pretend\", \"pretend\", \"pretend\", \"pretty\", \"pretty\", \"pretty\", \"pretty\", \"pretty\", \"pretty\", \"pretty\", \"promise\", \"promise\", \"promise\", \"promise\", \"quiet\", \"quiet\", \"quiet\", \"quiet\", \"rain\", \"rain\", \"rain\", \"rain\", \"rain\", \"rain\", \"rain\", \"read\", \"read\", \"read\", \"real\", \"real\", \"real\", \"realize\", \"realize\", \"realize\", \"realize\", \"repeat\", \"repeat\", \"repeat\", \"reply\", \"reply\", \"return\", \"return\", \"rhythm\", \"rhythm\", \"rhythm\", \"rich\", \"rich\", \"rich\", \"right\", \"right\", \"right\", \"right\", \"right\", \"right\", \"right\", \"right\", \"right\", \"right\", \"rita\", \"rita\", \"robert\", \"robert\", \"robert\", \"robinson\", \"robinson\", \"robinson\", \"rock\", \"rock\", \"rock\", \"rock_roll\", \"rock_roll\", \"rock_roll\", \"rock_roll\", \"rock_roll\", \"rodney\", \"rodney\", \"rodney\", \"rodney\", \"roll\", \"roll\", \"roll\", \"roll\", \"roll_mystery_tour\", \"roll_mystery_tour\", \"roll_mystery_tour\", \"room\", \"room\", \"room\", \"room\", \"round\", \"round\", \"round\", \"round\", \"round\", \"round\", \"rumour\", \"rumour\", \"rumour\", \"satisfied\", \"satisfied\", \"satisfied\", \"saying\", \"saying\", \"saying\", \"says\", \"says\", \"says\", \"says\", \"says\", \"searchin\", \"searchin\", \"searchin\", \"second\", \"second\", \"second\", \"second\", \"secret\", \"secret\", \"secret\", \"secret\", \"send\", \"send\", \"send\", \"send\", \"send\", \"shade\", \"shade\", \"shaking\", \"shaking\", \"shaking\", \"shes\", \"shes\", \"shes\", \"shes\", \"shes\", \"shes\", \"shes\", \"shes\", \"shes\", \"shine\", \"shine\", \"shine\", \"shine\", \"shining\", \"shining\", \"shoes\", \"shoes\", \"shoes\", \"shoes\", \"shoot\", \"shoot\", \"shoot\", \"shoot\", \"shop\", \"shop\", \"shop\", \"shot\", \"shot\", \"shot\", \"shuop\", \"shuop\", \"shuop_mbop\", \"shuop_mbop\", \"sign\", \"sign\", \"sign\", \"sign\", \"silly\", \"silly\", \"silly\", \"silly\", \"silly\", \"silly\", \"sing\", \"sing\", \"sing\", \"sing\", \"sing\", \"sing\", \"sing\", \"sing\", \"single\", \"single\", \"single\", \"single\", \"sisters\", \"sisters\", \"sisters\", \"sleep\", \"sleep\", \"sleep\", \"sleep\", \"sleep\", \"sleeps\", \"sleeps\", \"sleeps\", \"sleigh\", \"sleigh\", \"sleigh\", \"someone\", \"someone\", \"someone\", \"someone\", \"someone\", \"someone\", \"someone\", \"somethin\", \"somethin\", \"song\", \"song\", \"song\", \"song\", \"song\", \"song\", \"song\", \"songs\", \"songs\", \"songs\", \"soul\", \"soul\", \"soul\", \"spite\", \"spite\", \"spite\", \"star\", \"star\", \"star\", \"stare\", \"stare\", \"stare\", \"stars\", \"stars\", \"stars\", \"steal\", \"steal\", \"steal\", \"stream\", \"stream\", \"stream\", \"suddenly\", \"suddenly\", \"suddenly\", \"sunshine\", \"sunshine\", \"sunshine\", \"superior\", \"superior\", \"superior\", \"supposed\", \"supposed\", \"supposed\", \"surprise\", \"surprise\", \"sweet\", \"sweet\", \"sweet\", \"sweet\", \"sweet\", \"sweet\", \"sweet\", \"swinging\", \"swinging\", \"take\", \"take\", \"take\", \"take\", \"take\", \"take\", \"take\", \"take\", \"take\", \"take\", \"takes\", \"takes\", \"takes\", \"takes\", \"takes\", \"talk\", \"talk\", \"talk\", \"talk\", \"tall\", \"tall\", \"tall\", \"taste\", \"taste\", \"tasting\", \"tasting\", \"tear\", \"tear\", \"tear\", \"tear\", \"tell\", \"tell\", \"tell\", \"tell\", \"tell\", \"tell\", \"tell\", \"tell\", \"tell\", \"tennessee\", \"tennessee\", \"tennessee\", \"thats\", \"thats\", \"thats\", \"thats\", \"thats\", \"thats\", \"thats\", \"thats\", \"thats\", \"thats\", \"theres\", \"theres\", \"theres\", \"theres\", \"theres\", \"theres\", \"theres\", \"theyd\", \"theyd\", \"theyd\", \"thin\", \"thin\", \"thin\", \"thing\", \"thing\", \"thing\", \"thing\", \"thing\", \"thing\", \"thing\", \"things\", \"things\", \"things\", \"things\", \"things\", \"things\", \"things\", \"things\", \"things\", \"thinking\", \"thinking\", \"thinking\", \"thinking\", \"thinking\", \"thinking\", \"thinking\", \"thinks\", \"thinks\", \"thinks\", \"third\", \"third\", \"tight\", \"tight\", \"tight\", \"tight\", \"tight\", \"tight\", \"tight\", \"time\", \"time\", \"time\", \"time\", \"time\", \"time\", \"time\", \"time\", \"time\", \"time\", \"time\", \"time\", \"tired\", \"tired\", \"tired\", \"to-night\", \"to-night\", \"to-night\", \"today\", \"today\", \"today\", \"today\", \"today\", \"today\", \"today\", \"together\", \"together\", \"together\", \"together\", \"together\", \"together\", \"together_together_together_together\", \"together_together_together_together\", \"together_together_together_together\", \"tomorrow\", \"tomorrow\", \"tomorrow\", \"tomorrow\", \"tomorrow\", \"tonight\", \"tonight\", \"tonight\", \"tonight\", \"tonight\", \"tonight\", \"took\", \"took\", \"took\", \"took\", \"took\", \"town\", \"town\", \"trees\", \"trees\", \"trees\", \"tres\", \"tres\", \"tres\", \"tripper\", \"tripper\", \"tripper\", \"trouble\", \"trouble\", \"trouble\", \"trouble\", \"troubled\", \"troubled\", \"troubled\", \"troubles\", \"troubles\", \"troubles\", \"true\", \"true\", \"true\", \"true\", \"true\", \"true\", \"true\", \"true\", \"true\", \"trying\", \"trying\", \"trying\", \"trying\", \"trying\", \"trying\", \"trying\", \"trying\", \"turkey\", \"turkey\", \"turkey\", \"uncle\", \"uncle\", \"uncle\", \"uncle\", \"ussr\", \"ussr\", \"ussr\", \"wack\", \"wack\", \"wack\", \"wait\", \"wait\", \"wait\", \"waited\", \"waited\", \"waited\", \"waited\", \"waiting\", \"waiting\", \"waiting\", \"waiting\", \"waiting\", \"waiting\", \"waiting\", \"wake\", \"wake\", \"wake\", \"wake\", \"wandering\", \"wandering\", \"wandering\", \"wandering\", \"want\", \"want\", \"want\", \"want\", \"want\", \"want\", \"want\", \"want\", \"want\", \"want\", \"want\", \"want\", \"wants\", \"wants\", \"wants\", \"wants\", \"week\", \"week\", \"week\", \"weep\", \"weep\", \"well\", \"well\", \"well\", \"well\", \"well\", \"well\", \"well\", \"well\", \"well\", \"well\", \"well\", \"whenever\", \"whenever\", \"whenever\", \"whenever\", \"whoa\", \"whoa\", \"whoa\", \"whoa\", \"whos\", \"whos\", \"whos\", \"whos\", \"wisdom\", \"wisdom\", \"wisdom\", \"wish\", \"wish\", \"wish\", \"wish\", \"wish\", \"woman\", \"woman\", \"woman\", \"woman\", \"woman\", \"wondering\", \"wondering\", \"wondering\", \"wondering\", \"wont\", \"wont\", \"wont\", \"wont\", \"wont\", \"wont\", \"wont\", \"wont\", \"wont\", \"wont\", \"wont\", \"wood\", \"wood\", \"wood\", \"world\", \"world\", \"world\", \"world\", \"world\", \"world\", \"world\", \"world\", \"worried\", \"worried\", \"worried\", \"would\", \"would\", \"would\", \"would\", \"would\", \"would\", \"would\", \"ye-ye-yeh\", \"ye-ye-yeh\", \"ye-ye-yeh\", \"yeah\", \"yeah\", \"yeah\", \"yeah\", \"yeah\", \"yeah\", \"yeah\", \"yeah\", \"yeah\", \"yeah\", \"yeah\", \"yeah\", \"youd\", \"youd\", \"youd\", \"youd\", \"youd\", \"youd\", \"youd\", \"younger\", \"younger\", \"younger\", \"youre\", \"youre\", \"youre\", \"youre\", \"youre\", \"youre\", \"youre\", \"youre\", \"youre\", \"youre\", \"youre\", \"youve\", \"youve\", \"youve\", \"youve\", \"youve\", \"youve\", \"youve\"]}, \"R\": 30, \"lambda.step\": 0.01, \"plot.opts\": {\"xlab\": \"PC1\", \"ylab\": \"PC2\"}, \"topic.order\": [7, 1, 13, 10, 5, 9, 4, 2, 11, 8, 6, 3, 12]};\n",
       "\n",
       "function LDAvis_load_lib(url, callback){\n",
       "  var s = document.createElement('script');\n",
       "  s.src = url;\n",
       "  s.async = true;\n",
       "  s.onreadystatechange = s.onload = callback;\n",
       "  s.onerror = function(){console.warn(\"failed to load library \" + url);};\n",
       "  document.getElementsByTagName(\"head\")[0].appendChild(s);\n",
       "}\n",
       "\n",
       "if(typeof(LDAvis) !== \"undefined\"){\n",
       "   // already loaded: just create the visualization\n",
       "   !function(LDAvis){\n",
       "       new LDAvis(\"#\" + \"ldavis_el5611122376384249178623286\", ldavis_el5611122376384249178623286_data);\n",
       "   }(LDAvis);\n",
       "}else if(typeof define === \"function\" && define.amd){\n",
       "   // require.js is available: use it to load d3/LDAvis\n",
       "   require.config({paths: {d3: \"https://cdnjs.cloudflare.com/ajax/libs/d3/3.5.5/d3.min\"}});\n",
       "   require([\"d3\"], function(d3){\n",
       "      window.d3 = d3;\n",
       "      LDAvis_load_lib(\"https://cdn.rawgit.com/bmabey/pyLDAvis/files/ldavis.v1.0.0.js\", function(){\n",
       "        new LDAvis(\"#\" + \"ldavis_el5611122376384249178623286\", ldavis_el5611122376384249178623286_data);\n",
       "      });\n",
       "    });\n",
       "}else{\n",
       "    // require.js not available: dynamically load d3 & LDAvis\n",
       "    LDAvis_load_lib(\"https://cdnjs.cloudflare.com/ajax/libs/d3/3.5.5/d3.min.js\", function(){\n",
       "         LDAvis_load_lib(\"https://cdn.rawgit.com/bmabey/pyLDAvis/files/ldavis.v1.0.0.js\", function(){\n",
       "                 new LDAvis(\"#\" + \"ldavis_el5611122376384249178623286\", ldavis_el5611122376384249178623286_data);\n",
       "            })\n",
       "         });\n",
       "}\n",
       "</script>"
      ],
      "text/plain": [
       "PreparedData(topic_coordinates=            Freq  cluster  topics         x         y\n",
       "topic                                                \n",
       "6      14.403443        1       1 -0.041007 -0.032080\n",
       "0      12.408198        1       2 -0.016000  0.028289\n",
       "12     11.303028        1       3 -0.011661  0.025612\n",
       "9       9.946286        1       4  0.006024  0.005648\n",
       "4       9.911359        1       5  0.027708 -0.014848\n",
       "8       6.915511        1       6 -0.002599 -0.000973\n",
       "3       6.910463        1       7  0.001799  0.004962\n",
       "1       5.960816        1       8  0.003492 -0.006077\n",
       "10      5.902705        1       9  0.015751 -0.010476\n",
       "7       5.299176        1      10  0.008878 -0.003985\n",
       "5       4.601443        1      11  0.005674  0.004154\n",
       "2       3.742270        1      12  0.001577 -0.000146\n",
       "11      2.695306        1      13  0.000364 -0.000081, topic_info=     Category       Freq           Term      Total  loglift  logprob\n",
       "term                                                                \n",
       "152   Default  17.000000         better  17.000000  30.0000  30.0000\n",
       "113   Default  27.000000           want  27.000000  29.0000  29.0000\n",
       "116   Default  33.000000           yeah  33.000000  28.0000  28.0000\n",
       "516   Default  11.000000          hello  11.000000  27.0000  27.0000\n",
       "160   Default  15.000000           shes  15.000000  26.0000  26.0000\n",
       "56    Default  17.000000           call  17.000000  25.0000  25.0000\n",
       "336   Default  11.000000           john  11.000000  24.0000  24.0000\n",
       "929   Default   6.000000      christmas   6.000000  23.0000  23.0000\n",
       "327   Default   9.000000          brian   9.000000  22.0000  22.0000\n",
       "532   Default  11.000000         needed  11.000000  21.0000  21.0000\n",
       "1123  Default   6.000000  dear_prudence   6.000000  20.0000  20.0000\n",
       "251   Default  10.000000       anything  10.000000  19.0000  19.0000\n",
       "908   Default   7.000000   carry_weight   7.000000  18.0000  18.0000\n",
       "12    Default  14.000000          dance  14.000000  17.0000  17.0000\n",
       "1392  Default   6.000000       to-night   6.000000  16.0000  16.0000\n",
       "22    Default  11.000000           help  11.000000  15.0000  15.0000\n",
       "403   Default   8.000000         robert   8.000000  14.0000  14.0000\n",
       "155   Default  24.000000           girl  24.000000  13.0000  13.0000\n",
       "213   Default   6.000000           rich   6.000000  12.0000  12.0000\n",
       "40    Default  10.000000           sing  10.000000  11.0000  11.0000\n",
       "182   Default  10.000000        tonight  10.000000  10.0000  10.0000\n",
       "329   Default  10.000000          comes  10.000000   9.0000   9.0000\n",
       "1233  Default   7.000000         johnny   7.000000   8.0000   8.0000\n",
       "1141  Default   6.000000         bother   6.000000   7.0000   7.0000\n",
       "218   Default  11.000000           glad  11.000000   6.0000   6.0000\n",
       "566   Default  10.000000          child  10.000000   5.0000   5.0000\n",
       "1330  Default   5.000000     hallelujah   5.000000   4.0000   4.0000\n",
       "512   Default  13.000000        goodbye  13.000000   3.0000   3.0000\n",
       "738   Default   7.000000      must_pass   7.000000   2.0000   2.0000\n",
       "1119  Default   6.000000        tripper   6.000000   1.0000   1.0000\n",
       "...       ...        ...            ...        ...      ...      ...\n",
       "410   Topic13   0.691910          cried   6.090171   1.4387  -6.1939\n",
       "40    Topic13   1.144032           sing  10.071555   1.4385  -5.6910\n",
       "57    Topic13   0.582620          calls   5.256924   1.4139  -6.3658\n",
       "420   Topic13   0.641798          needs   6.050047   1.3701  -6.2690\n",
       "612   Topic13   0.665612          wants   6.359531   1.3567  -6.2326\n",
       "684   Topic13   0.671843         rodney   6.573331   1.3329  -6.2233\n",
       "218   Topic13   1.085615           glad  11.026860   1.2955  -5.7434\n",
       "1525  Topic13   0.472478       surprise   4.814538   1.2923  -6.5753\n",
       "110   Topic13   0.535918          phone   5.474280   1.2898  -6.4493\n",
       "688   Topic13   0.445785          third   4.787842   1.2397  -6.6335\n",
       "677   Topic13   0.445785           form   4.787843   1.2397  -6.6335\n",
       "672   Topic13   0.445785       brighten   4.787842   1.2397  -6.6335\n",
       "686   Topic13   0.445785       swinging   4.787842   1.2397  -6.6335\n",
       "679   Topic13   0.445785      hempstead   4.787842   1.2397  -6.6335\n",
       "676   Topic13   0.445785          final   4.787842   1.2397  -6.6335\n",
       "279   Topic13   0.788495           says   8.571569   1.2276  -6.0632\n",
       "56    Topic13   1.478488           call  17.252872   1.1567  -5.4345\n",
       "421   Topic13   0.641799           sign   7.077067   1.2133  -6.2690\n",
       "104   Topic13   0.687242           goes   7.926673   1.1684  -6.2006\n",
       "507   Topic13   0.693400          silly   8.404539   1.1187  -6.1917\n",
       "23    Topic13   0.589276          heres   6.889948   1.1547  -6.3544\n",
       "726   Topic13   0.628378        pretend   7.707538   1.1068  -6.2902\n",
       "971   Topic13   0.739865          sleep  10.808201   0.9321  -6.1269\n",
       "302   Topic13   0.797646          heart  12.812113   0.8372  -6.0517\n",
       "723   Topic13   0.712458        darling  10.511197   0.9222  -6.1646\n",
       "294   Topic13   0.904920           back  19.444195   0.5462  -5.9255\n",
       "75    Topic13   0.927977           love  37.745537  -0.0920  -5.9003\n",
       "336   Topic13   0.670438           john  11.676981   0.7562  -6.2254\n",
       "112   Topic13   0.685938          thats  16.297125   0.4457  -6.2025\n",
       "116   Topic13   0.653384           yeah  33.136448  -0.3126  -6.2512\n",
       "\n",
       "[595 rows x 6 columns], token_table=      Topic      Freq       Term\n",
       "term                            \n",
       "407       1  0.203825      aches\n",
       "407       2  0.203825      aches\n",
       "407      13  0.203825      aches\n",
       "52        1  0.132339     across\n",
       "52        2  0.132339     across\n",
       "52        4  0.397018     across\n",
       "1246      1  0.154865      admit\n",
       "1246      2  0.154865      admit\n",
       "1246      7  0.309731      admit\n",
       "1515      1  0.190144  advantage\n",
       "1515      2  0.190144  advantage\n",
       "1515     10  0.190144  advantage\n",
       "1602      1  0.156946  affection\n",
       "1602      2  0.156946  affection\n",
       "1602      3  0.313892  affection\n",
       "149       1  0.262123       aint\n",
       "149       2  0.131062       aint\n",
       "149       3  0.262123       aint\n",
       "149       4  0.065531       aint\n",
       "149       5  0.065531       aint\n",
       "149       6  0.065531       aint\n",
       "149       7  0.065531       aint\n",
       "149      12  0.065531       aint\n",
       "442       1  0.118591       alan\n",
       "442       2  0.118591       alan\n",
       "442       4  0.474363       alan\n",
       "549       1  0.155186      alone\n",
       "549       2  0.310371      alone\n",
       "549       3  0.155186      alone\n",
       "549       5  0.077593      alone\n",
       "...     ...       ...        ...\n",
       "116      12  0.030178       yeah\n",
       "116      13  0.030178       yeah\n",
       "131       1  0.200811       youd\n",
       "131       2  0.100405       youd\n",
       "131       3  0.100405       youd\n",
       "131       5  0.100405       youd\n",
       "131       6  0.100405       youd\n",
       "131       7  0.200811       youd\n",
       "131      10  0.100405       youd\n",
       "537       1  0.182169    younger\n",
       "537       2  0.182169    younger\n",
       "537       8  0.182169    younger\n",
       "51        1  0.154991      youre\n",
       "51        2  0.154991      youre\n",
       "51        3  0.103327      youre\n",
       "51        4  0.103327      youre\n",
       "51        5  0.103327      youre\n",
       "51        6  0.051664      youre\n",
       "51        7  0.051664      youre\n",
       "51        8  0.051664      youre\n",
       "51        9  0.051664      youre\n",
       "51       10  0.103327      youre\n",
       "51       11  0.103327      youre\n",
       "148       1  0.248741      youve\n",
       "148       2  0.373112      youve\n",
       "148       3  0.062185      youve\n",
       "148       5  0.062185      youve\n",
       "148       7  0.062185      youve\n",
       "148       9  0.062185      youve\n",
       "148      10  0.124371      youve\n",
       "\n",
       "[2050 rows x 3 columns], R=30, lambda_step=0.01, plot_opts={'xlab': 'PC1', 'ylab': 'PC2'}, topic_order=[7, 1, 13, 10, 5, 9, 4, 2, 11, 8, 6, 3, 12])"
      ]
     },
     "execution_count": 177,
     "metadata": {},
     "output_type": "execute_result"
    }
   ],
   "source": [
    "vis"
   ]
  },
  {
   "cell_type": "markdown",
   "metadata": {},
   "source": [
    "## TF-IDF on lyrics"
   ]
  },
  {
   "cell_type": "code",
   "execution_count": 20,
   "metadata": {},
   "outputs": [],
   "source": [
    "#print(token_list)"
   ]
  },
  {
   "cell_type": "code",
   "execution_count": 111,
   "metadata": {},
   "outputs": [
    {
     "data": {
      "text/plain": [
       "array([[0, 0, 0, ..., 0, 0, 0],\n",
       "       [0, 0, 0, ..., 0, 0, 0],\n",
       "       [0, 0, 0, ..., 0, 0, 0],\n",
       "       ...,\n",
       "       [0, 0, 0, ..., 0, 0, 0],\n",
       "       [0, 0, 0, ..., 0, 0, 0],\n",
       "       [0, 0, 0, ..., 0, 0, 1]], dtype=int64)"
      ]
     },
     "execution_count": 111,
     "metadata": {},
     "output_type": "execute_result"
    }
   ],
   "source": [
    "from sklearn.feature_extraction.text import CountVectorizer\n",
    "vectorizer_1 = CountVectorizer()\n",
    "matrix = CountVectorizer(tokenizer=lambda doc: doc, lowercase=False).fit_transform(token_list)\n",
    "matrix.toarray()\n",
    "#matrix = vectorizer.fit_transform(token_list)\n",
    "#print(stemmed_words)"
   ]
  },
  {
   "cell_type": "code",
   "execution_count": 125,
   "metadata": {},
   "outputs": [],
   "source": [
    "from sklearn.feature_extraction.text import TfidfTransformer\n",
    "\n",
    "no_features = 500\n",
    "\n",
    "transformer = TfidfTransformer()\n",
    "tfidf_transform = transformer.fit_transform(matrix)"
   ]
  },
  {
   "cell_type": "code",
   "execution_count": 126,
   "metadata": {},
   "outputs": [
    {
     "data": {
      "text/plain": [
       "<178x1724 sparse matrix of type '<class 'numpy.float64'>'\n",
       "\twith 6409 stored elements in Compressed Sparse Row format>"
      ]
     },
     "execution_count": 126,
     "metadata": {},
     "output_type": "execute_result"
    }
   ],
   "source": [
    "tfidf_transform"
   ]
  },
  {
   "cell_type": "code",
   "execution_count": 124,
   "metadata": {},
   "outputs": [
    {
     "ename": "AttributeError",
     "evalue": "lower not found",
     "output_type": "error",
     "traceback": [
      "\u001b[0;31m---------------------------------------------------------------------------\u001b[0m",
      "\u001b[0;31mAttributeError\u001b[0m                            Traceback (most recent call last)",
      "\u001b[0;32m<ipython-input-124-7bc64333a194>\u001b[0m in \u001b[0;36m<module>\u001b[0;34m()\u001b[0m\n\u001b[1;32m      8\u001b[0m \u001b[0;34m\u001b[0m\u001b[0m\n\u001b[1;32m      9\u001b[0m \u001b[0mtfidf_vectorizer\u001b[0m \u001b[0;34m=\u001b[0m \u001b[0mTfidfVectorizer\u001b[0m\u001b[0;34m(\u001b[0m\u001b[0mmax_df\u001b[0m\u001b[0;34m=\u001b[0m\u001b[0;36m.85\u001b[0m\u001b[0;34m,\u001b[0m \u001b[0mmin_df\u001b[0m\u001b[0;34m=\u001b[0m\u001b[0;36m2\u001b[0m\u001b[0;34m,\u001b[0m \u001b[0mmax_features\u001b[0m\u001b[0;34m=\u001b[0m\u001b[0mno_features\u001b[0m\u001b[0;34m)\u001b[0m\u001b[0;34m\u001b[0m\u001b[0m\n\u001b[0;32m---> 10\u001b[0;31m \u001b[0mtfidf\u001b[0m \u001b[0;34m=\u001b[0m \u001b[0mtfidf_vectorizer\u001b[0m\u001b[0;34m.\u001b[0m\u001b[0mfit_transform\u001b[0m\u001b[0;34m(\u001b[0m\u001b[0mtfidf_transform\u001b[0m\u001b[0;34m)\u001b[0m\u001b[0;34m\u001b[0m\u001b[0m\n\u001b[0m\u001b[1;32m     11\u001b[0m \u001b[0mtfidf_feature_names\u001b[0m \u001b[0;34m=\u001b[0m \u001b[0mtfidf_vectorizer\u001b[0m\u001b[0;34m.\u001b[0m\u001b[0mget_feature_names\u001b[0m\u001b[0;34m(\u001b[0m\u001b[0;34m)\u001b[0m\u001b[0;34m\u001b[0m\u001b[0m\n",
      "\u001b[0;32m~/anaconda3/lib/python3.6/site-packages/sklearn/feature_extraction/text.py\u001b[0m in \u001b[0;36mfit_transform\u001b[0;34m(self, raw_documents, y)\u001b[0m\n\u001b[1;32m   1379\u001b[0m             \u001b[0mTf\u001b[0m\u001b[0;34m-\u001b[0m\u001b[0midf\u001b[0m\u001b[0;34m-\u001b[0m\u001b[0mweighted\u001b[0m \u001b[0mdocument\u001b[0m\u001b[0;34m-\u001b[0m\u001b[0mterm\u001b[0m \u001b[0mmatrix\u001b[0m\u001b[0;34m.\u001b[0m\u001b[0;34m\u001b[0m\u001b[0m\n\u001b[1;32m   1380\u001b[0m         \"\"\"\n\u001b[0;32m-> 1381\u001b[0;31m         \u001b[0mX\u001b[0m \u001b[0;34m=\u001b[0m \u001b[0msuper\u001b[0m\u001b[0;34m(\u001b[0m\u001b[0mTfidfVectorizer\u001b[0m\u001b[0;34m,\u001b[0m \u001b[0mself\u001b[0m\u001b[0;34m)\u001b[0m\u001b[0;34m.\u001b[0m\u001b[0mfit_transform\u001b[0m\u001b[0;34m(\u001b[0m\u001b[0mraw_documents\u001b[0m\u001b[0;34m)\u001b[0m\u001b[0;34m\u001b[0m\u001b[0m\n\u001b[0m\u001b[1;32m   1382\u001b[0m         \u001b[0mself\u001b[0m\u001b[0;34m.\u001b[0m\u001b[0m_tfidf\u001b[0m\u001b[0;34m.\u001b[0m\u001b[0mfit\u001b[0m\u001b[0;34m(\u001b[0m\u001b[0mX\u001b[0m\u001b[0;34m)\u001b[0m\u001b[0;34m\u001b[0m\u001b[0m\n\u001b[1;32m   1383\u001b[0m         \u001b[0;31m# X is already a transformed view of raw_documents so\u001b[0m\u001b[0;34m\u001b[0m\u001b[0;34m\u001b[0m\u001b[0m\n",
      "\u001b[0;32m~/anaconda3/lib/python3.6/site-packages/sklearn/feature_extraction/text.py\u001b[0m in \u001b[0;36mfit_transform\u001b[0;34m(self, raw_documents, y)\u001b[0m\n\u001b[1;32m    867\u001b[0m \u001b[0;34m\u001b[0m\u001b[0m\n\u001b[1;32m    868\u001b[0m         vocabulary, X = self._count_vocab(raw_documents,\n\u001b[0;32m--> 869\u001b[0;31m                                           self.fixed_vocabulary_)\n\u001b[0m\u001b[1;32m    870\u001b[0m \u001b[0;34m\u001b[0m\u001b[0m\n\u001b[1;32m    871\u001b[0m         \u001b[0;32mif\u001b[0m \u001b[0mself\u001b[0m\u001b[0;34m.\u001b[0m\u001b[0mbinary\u001b[0m\u001b[0;34m:\u001b[0m\u001b[0;34m\u001b[0m\u001b[0m\n",
      "\u001b[0;32m~/anaconda3/lib/python3.6/site-packages/sklearn/feature_extraction/text.py\u001b[0m in \u001b[0;36m_count_vocab\u001b[0;34m(self, raw_documents, fixed_vocab)\u001b[0m\n\u001b[1;32m    790\u001b[0m         \u001b[0;32mfor\u001b[0m \u001b[0mdoc\u001b[0m \u001b[0;32min\u001b[0m \u001b[0mraw_documents\u001b[0m\u001b[0;34m:\u001b[0m\u001b[0;34m\u001b[0m\u001b[0m\n\u001b[1;32m    791\u001b[0m             \u001b[0mfeature_counter\u001b[0m \u001b[0;34m=\u001b[0m \u001b[0;34m{\u001b[0m\u001b[0;34m}\u001b[0m\u001b[0;34m\u001b[0m\u001b[0m\n\u001b[0;32m--> 792\u001b[0;31m             \u001b[0;32mfor\u001b[0m \u001b[0mfeature\u001b[0m \u001b[0;32min\u001b[0m \u001b[0manalyze\u001b[0m\u001b[0;34m(\u001b[0m\u001b[0mdoc\u001b[0m\u001b[0;34m)\u001b[0m\u001b[0;34m:\u001b[0m\u001b[0;34m\u001b[0m\u001b[0m\n\u001b[0m\u001b[1;32m    793\u001b[0m                 \u001b[0;32mtry\u001b[0m\u001b[0;34m:\u001b[0m\u001b[0;34m\u001b[0m\u001b[0m\n\u001b[1;32m    794\u001b[0m                     \u001b[0mfeature_idx\u001b[0m \u001b[0;34m=\u001b[0m \u001b[0mvocabulary\u001b[0m\u001b[0;34m[\u001b[0m\u001b[0mfeature\u001b[0m\u001b[0;34m]\u001b[0m\u001b[0;34m\u001b[0m\u001b[0m\n",
      "\u001b[0;32m~/anaconda3/lib/python3.6/site-packages/sklearn/feature_extraction/text.py\u001b[0m in \u001b[0;36m<lambda>\u001b[0;34m(doc)\u001b[0m\n\u001b[1;32m    264\u001b[0m \u001b[0;34m\u001b[0m\u001b[0m\n\u001b[1;32m    265\u001b[0m             return lambda doc: self._word_ngrams(\n\u001b[0;32m--> 266\u001b[0;31m                 tokenize(preprocess(self.decode(doc))), stop_words)\n\u001b[0m\u001b[1;32m    267\u001b[0m \u001b[0;34m\u001b[0m\u001b[0m\n\u001b[1;32m    268\u001b[0m         \u001b[0;32melse\u001b[0m\u001b[0;34m:\u001b[0m\u001b[0;34m\u001b[0m\u001b[0m\n",
      "\u001b[0;32m~/anaconda3/lib/python3.6/site-packages/sklearn/feature_extraction/text.py\u001b[0m in \u001b[0;36m<lambda>\u001b[0;34m(x)\u001b[0m\n\u001b[1;32m    230\u001b[0m \u001b[0;34m\u001b[0m\u001b[0m\n\u001b[1;32m    231\u001b[0m         \u001b[0;32mif\u001b[0m \u001b[0mself\u001b[0m\u001b[0;34m.\u001b[0m\u001b[0mlowercase\u001b[0m\u001b[0;34m:\u001b[0m\u001b[0;34m\u001b[0m\u001b[0m\n\u001b[0;32m--> 232\u001b[0;31m             \u001b[0;32mreturn\u001b[0m \u001b[0;32mlambda\u001b[0m \u001b[0mx\u001b[0m\u001b[0;34m:\u001b[0m \u001b[0mstrip_accents\u001b[0m\u001b[0;34m(\u001b[0m\u001b[0mx\u001b[0m\u001b[0;34m.\u001b[0m\u001b[0mlower\u001b[0m\u001b[0;34m(\u001b[0m\u001b[0;34m)\u001b[0m\u001b[0;34m)\u001b[0m\u001b[0;34m\u001b[0m\u001b[0m\n\u001b[0m\u001b[1;32m    233\u001b[0m         \u001b[0;32melse\u001b[0m\u001b[0;34m:\u001b[0m\u001b[0;34m\u001b[0m\u001b[0m\n\u001b[1;32m    234\u001b[0m             \u001b[0;32mreturn\u001b[0m \u001b[0mstrip_accents\u001b[0m\u001b[0;34m\u001b[0m\u001b[0m\n",
      "\u001b[0;32m~/anaconda3/lib/python3.6/site-packages/scipy/sparse/base.py\u001b[0m in \u001b[0;36m__getattr__\u001b[0;34m(self, attr)\u001b[0m\n\u001b[1;32m    645\u001b[0m             \u001b[0;32mreturn\u001b[0m \u001b[0mself\u001b[0m\u001b[0;34m.\u001b[0m\u001b[0mgetnnz\u001b[0m\u001b[0;34m(\u001b[0m\u001b[0;34m)\u001b[0m\u001b[0;34m\u001b[0m\u001b[0m\n\u001b[1;32m    646\u001b[0m         \u001b[0;32melse\u001b[0m\u001b[0;34m:\u001b[0m\u001b[0;34m\u001b[0m\u001b[0m\n\u001b[0;32m--> 647\u001b[0;31m             \u001b[0;32mraise\u001b[0m \u001b[0mAttributeError\u001b[0m\u001b[0;34m(\u001b[0m\u001b[0mattr\u001b[0m \u001b[0;34m+\u001b[0m \u001b[0;34m\" not found\"\u001b[0m\u001b[0;34m)\u001b[0m\u001b[0;34m\u001b[0m\u001b[0m\n\u001b[0m\u001b[1;32m    648\u001b[0m \u001b[0;34m\u001b[0m\u001b[0m\n\u001b[1;32m    649\u001b[0m     \u001b[0;32mdef\u001b[0m \u001b[0mtranspose\u001b[0m\u001b[0;34m(\u001b[0m\u001b[0mself\u001b[0m\u001b[0;34m,\u001b[0m \u001b[0maxes\u001b[0m\u001b[0;34m=\u001b[0m\u001b[0;32mNone\u001b[0m\u001b[0;34m,\u001b[0m \u001b[0mcopy\u001b[0m\u001b[0;34m=\u001b[0m\u001b[0;32mFalse\u001b[0m\u001b[0;34m)\u001b[0m\u001b[0;34m:\u001b[0m\u001b[0;34m\u001b[0m\u001b[0m\n",
      "\u001b[0;31mAttributeError\u001b[0m: lower not found"
     ]
    }
   ],
   "source": [
    "tfidf_vectorizer = TfidfVectorizer(max_df=.85, min_df=2, max_features=no_features)\n",
    "tfidf = tfidf_vectorizer.fit_transform(tfidf_transform)\n",
    "tfidf_feature_names = tfidf_vectorizer.get_feature_names()"
   ]
  },
  {
   "cell_type": "code",
   "execution_count": 116,
   "metadata": {},
   "outputs": [],
   "source": [
    "no_topics = 5\n",
    "\n",
    "# Run NMF\n",
    "nmf = NMF(n_components=no_topics, random_state=1, alpha=0.05, l1_ratio=.5, init='nndsvd').fit(tfidf)"
   ]
  },
  {
   "cell_type": "code",
   "execution_count": 131,
   "metadata": {},
   "outputs": [
    {
     "name": "stdout",
     "output_type": "stream",
     "text": [
      "Topic 0:\n",
      "Word:  act   Score:  0.0\n"
     ]
    },
    {
     "ename": "IndexError",
     "evalue": "list index out of range",
     "output_type": "error",
     "traceback": [
      "\u001b[0;31m---------------------------------------------------------------------------\u001b[0m",
      "\u001b[0;31mIndexError\u001b[0m                                Traceback (most recent call last)",
      "\u001b[0;32m<ipython-input-131-1210f93e74c9>\u001b[0m in \u001b[0;36m<module>\u001b[0;34m()\u001b[0m\n\u001b[1;32m      7\u001b[0m \u001b[0mno_top_words\u001b[0m \u001b[0;34m=\u001b[0m \u001b[0;36m10\u001b[0m\u001b[0;34m\u001b[0m\u001b[0m\n\u001b[1;32m      8\u001b[0m \u001b[0;34m\u001b[0m\u001b[0m\n\u001b[0;32m----> 9\u001b[0;31m \u001b[0mdisplay_topics\u001b[0m\u001b[0;34m(\u001b[0m\u001b[0mnmf\u001b[0m\u001b[0;34m,\u001b[0m \u001b[0mtfidf_feature_names\u001b[0m\u001b[0;34m,\u001b[0m \u001b[0mno_top_words\u001b[0m\u001b[0;34m)\u001b[0m\u001b[0;34m\u001b[0m\u001b[0m\n\u001b[0m",
      "\u001b[0;32m<ipython-input-131-1210f93e74c9>\u001b[0m in \u001b[0;36mdisplay_topics\u001b[0;34m(model, feature_names, no_top_words)\u001b[0m\n\u001b[1;32m      3\u001b[0m         \u001b[0mprint\u001b[0m\u001b[0;34m(\u001b[0m\u001b[0;34m\"Topic %d:\"\u001b[0m \u001b[0;34m%\u001b[0m \u001b[0;34m(\u001b[0m\u001b[0mtopic_idx\u001b[0m\u001b[0;34m)\u001b[0m\u001b[0;34m)\u001b[0m\u001b[0;34m\u001b[0m\u001b[0m\n\u001b[1;32m      4\u001b[0m         \u001b[0;32mfor\u001b[0m \u001b[0mk\u001b[0m \u001b[0;32min\u001b[0m \u001b[0mtopic\u001b[0m\u001b[0;34m.\u001b[0m\u001b[0margsort\u001b[0m\u001b[0;34m(\u001b[0m\u001b[0;34m)\u001b[0m\u001b[0;34m:\u001b[0m\u001b[0;34m\u001b[0m\u001b[0m\n\u001b[0;32m----> 5\u001b[0;31m             \u001b[0mprint\u001b[0m\u001b[0;34m(\u001b[0m\u001b[0;34m\"Word: \"\u001b[0m\u001b[0;34m,\u001b[0m\u001b[0mfeature_names\u001b[0m\u001b[0;34m[\u001b[0m\u001b[0mk\u001b[0m\u001b[0;34m]\u001b[0m\u001b[0;34m,\u001b[0m \u001b[0;34m\"  Score: \"\u001b[0m\u001b[0;34m,\u001b[0m \u001b[0mtopic\u001b[0m\u001b[0;34m[\u001b[0m\u001b[0mk\u001b[0m\u001b[0;34m]\u001b[0m\u001b[0;34m/\u001b[0m \u001b[0msum\u001b[0m\u001b[0;34m(\u001b[0m\u001b[0mtopic\u001b[0m\u001b[0;34m)\u001b[0m\u001b[0;34m)\u001b[0m\u001b[0;34m\u001b[0m\u001b[0m\n\u001b[0m\u001b[1;32m      6\u001b[0m \u001b[0;34m\u001b[0m\u001b[0m\n\u001b[1;32m      7\u001b[0m \u001b[0mno_top_words\u001b[0m \u001b[0;34m=\u001b[0m \u001b[0;36m10\u001b[0m\u001b[0;34m\u001b[0m\u001b[0m\n",
      "\u001b[0;31mIndexError\u001b[0m: list index out of range"
     ]
    }
   ],
   "source": [
    "def display_topics(model, feature_names, no_top_words):\n",
    "    for topic_idx, topic in enumerate(model.components_):\n",
    "        print(\"Topic %d:\" % (topic_idx))\n",
    "        for k in topic.argsort():\n",
    "            print(\"Word: \",feature_names[k], \"  Score: \", topic[k]/ sum(topic))\n",
    "\n",
    "no_top_words = 10\n",
    "\n",
    "display_topics(nmf, tfidf_feature_names, no_top_words)"
   ]
  },
  {
   "cell_type": "code",
   "execution_count": 100,
   "metadata": {},
   "outputs": [],
   "source": [
    "no_features = 500\n",
    "\n",
    "documents = beatles_lyrics.lyrics.values.tolist()\n",
    "\n",
    "# NMF is able to use tf-idf\n",
    "tfidf_vectorizer = TfidfVectorizer(max_df=.85, min_df=2, max_features=no_features, stop_words='english')\n",
    "tfidf = tfidf_vectorizer.fit_transform(documents)\n",
    "tfidf_feature_names = tfidf_vectorizer.get_feature_names()\n",
    "\n",
    "# LDA can only use raw term counts for LDA because it is a probabilistic graphical model\n",
    "tf_vectorizer = CountVectorizer(max_df=.85, min_df=2, max_features=no_features, stop_words= stop_words)\n",
    "tf = tf_vectorizer.fit_transform(documents)\n",
    "tf_feature_names = tf_vectorizer.get_feature_names()"
   ]
  },
  {
   "cell_type": "code",
   "execution_count": 101,
   "metadata": {},
   "outputs": [],
   "source": [
    "from sklearn.decomposition import NMF, LatentDirichletAllocation\n",
    "\n",
    "no_topics = 5\n",
    "\n",
    "# Run NMF\n",
    "nmf = NMF(n_components=no_topics, random_state=1, alpha=0.05, l1_ratio=.5, init='nndsvd').fit(tfidf)\n",
    "\n",
    "# Run LDA\n",
    "lda = LatentDirichletAllocation(n_components=no_topics, max_iter=5, learning_method='online', learning_offset=20,random_state=0).fit(tf)"
   ]
  },
  {
   "cell_type": "code",
   "execution_count": 102,
   "metadata": {},
   "outputs": [
    {
     "name": "stdout",
     "output_type": "stream",
     "text": [
      "Topic 0:\n",
      "don ll ve want time got know come let just\n",
      "Topic 1:\n",
      "love know need ll girl true whoa loved make heart\n",
      "Topic 2:\n",
      "yeah oh got john good said brian feeling come end\n",
      "Topic 3:\n",
      "baby man want old glad know trying clarabella gonna sister\n",
      "Topic 4:\n",
      "hey talk boys better bye ah bulldog ya ha make\n",
      "Topic 0:\n",
      "love yeah want let baby oh know come well like\n",
      "Topic 1:\n",
      "back baby cry fun get got honey sky lucy diamonds\n",
      "Topic 2:\n",
      "go yeah long want oh hand day know good way\n",
      "Topic 3:\n",
      "know bye say please time never love hello help oh\n",
      "Topic 4:\n",
      "oh girl john mm love di falling yes come right\n"
     ]
    }
   ],
   "source": [
    "def display_topics(model, feature_names, no_top_words):\n",
    "    for topic_idx, topic in enumerate(model.components_):\n",
    "        print(\"Topic %d:\" % (topic_idx))\n",
    "        print(\" \".join([feature_names[i]\n",
    "                        for i in topic.argsort()[:-no_top_words - 1:-1]]))\n",
    "\n",
    "no_top_words = 10\n",
    "display_topics(nmf, tfidf_feature_names, no_top_words)\n",
    "display_topics(lda, tf_feature_names, no_top_words)"
   ]
  },
  {
   "cell_type": "code",
   "execution_count": null,
   "metadata": {},
   "outputs": [],
   "source": []
  }
 ],
 "metadata": {
  "kernelspec": {
   "display_name": "Python 3",
   "language": "python",
   "name": "python3"
  },
  "language_info": {
   "codemirror_mode": {
    "name": "ipython",
    "version": 3
   },
   "file_extension": ".py",
   "mimetype": "text/x-python",
   "name": "python",
   "nbconvert_exporter": "python",
   "pygments_lexer": "ipython3",
   "version": "3.6.4"
  }
 },
 "nbformat": 4,
 "nbformat_minor": 2
}
