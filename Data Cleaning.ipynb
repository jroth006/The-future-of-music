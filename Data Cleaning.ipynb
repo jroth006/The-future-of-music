{
 "cells": [
  {
   "cell_type": "code",
   "execution_count": 24,
   "metadata": {},
   "outputs": [],
   "source": [
    "import pandas as pd\n",
    "pd.options.display.max_columns = 999"
   ]
  },
  {
   "cell_type": "code",
   "execution_count": 25,
   "metadata": {},
   "outputs": [],
   "source": [
    "album_tracks_df = pd.read_csv(\"data\\\\album_tracks_df.csv\")\n",
    "audio_analysis_df = pd.read_csv(\"data\\\\audio_analysis_df.csv\")"
   ]
  },
  {
   "cell_type": "code",
   "execution_count": 26,
   "metadata": {},
   "outputs": [],
   "source": [
    "merged_df = pd.merge(album_tracks_df, audio_analysis_df, how = 'left', on = 'id')"
   ]
  },
  {
   "cell_type": "code",
   "execution_count": 27,
   "metadata": {},
   "outputs": [
    {
     "name": "stdout",
     "output_type": "stream",
     "text": [
      "['Unnamed: 0_x', 'artists', 'available_markets', 'disc_number', 'duration_ms_x', 'explicit', 'external_urls', 'href', 'id', 'is_local', 'name', 'preview_url', 'track_number', 'type_x', 'uri_x', 'album_name', 'release_date', 'Unnamed: 0_y', 'acousticness', 'analysis_url', 'danceability', 'duration_ms_y', 'energy', 'instrumentalness', 'key', 'liveness', 'loudness', 'mode', 'speechiness', 'tempo', 'time_signature', 'track_href', 'type_y', 'uri_y', 'valence']\n"
     ]
    }
   ],
   "source": [
    "col_names_list = list(merged_df.columns.values)\n",
    "print(col_names_list)"
   ]
  },
  {
   "cell_type": "code",
   "execution_count": 28,
   "metadata": {},
   "outputs": [],
   "source": [
    "merged_df = merged_df[['href', 'id', 'name', 'track_number', 'album_name', 'release_date',\n",
    "    'acousticness', 'danceability', 'energy', 'instrumentalness', 'key', 'liveness', \n",
    "    'loudness', 'mode', 'speechiness', 'tempo', 'time_signature', 'valence']]"
   ]
  },
  {
   "cell_type": "code",
   "execution_count": 30,
   "metadata": {},
   "outputs": [],
   "source": [
    "merged_df.to_csv('data\\\\combined_df.csv')"
   ]
  },
  {
   "cell_type": "code",
   "execution_count": null,
   "metadata": {},
   "outputs": [],
   "source": []
  }
 ],
 "metadata": {
  "kernelspec": {
   "display_name": "Python 3",
   "language": "python",
   "name": "python3"
  },
  "language_info": {
   "codemirror_mode": {
    "name": "ipython",
    "version": 3
   },
   "file_extension": ".py",
   "mimetype": "text/x-python",
   "name": "python",
   "nbconvert_exporter": "python",
   "pygments_lexer": "ipython3",
   "version": "3.6.5"
  }
 },
 "nbformat": 4,
 "nbformat_minor": 2
}
