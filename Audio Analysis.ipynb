{
 "cells": [
  {
   "cell_type": "code",
   "execution_count": 128,
   "metadata": {},
   "outputs": [],
   "source": [
    "import pandas as pd\n",
    "import numpy as np\n",
    "import re"
   ]
  },
  {
   "cell_type": "code",
   "execution_count": 129,
   "metadata": {},
   "outputs": [],
   "source": [
    "audio_analysis = pd.read_csv('data/audio_track_analysis.csv')"
   ]
  },
  {
   "cell_type": "code",
   "execution_count": 130,
   "metadata": {},
   "outputs": [],
   "source": [
    "audio_analysis.drop(columns = ['Unnamed: 0'], inplace = True)"
   ]
  },
  {
   "cell_type": "code",
   "execution_count": 131,
   "metadata": {},
   "outputs": [],
   "source": [
    "def count_stats (column):\n",
    "    count_list = []\n",
    "    for row in range(len(audio_analysis)):\n",
    "        count = 0\n",
    "        for item in range(len(audio_analysis.iloc[row, column])):\n",
    "            count += 1\n",
    "        count_list.append(count)\n",
    "    return count_list"
   ]
  },
  {
   "cell_type": "code",
   "execution_count": 132,
   "metadata": {},
   "outputs": [],
   "source": [
    "bars_count = count_stats(0)\n",
    "beats_count = count_stats(1)\n",
    "sections_count = count_stats(2)\n",
    "segments_count = count_stats(3)\n",
    "tatums_count = count_stats(4)"
   ]
  },
  {
   "cell_type": "code",
   "execution_count": 133,
   "metadata": {},
   "outputs": [],
   "source": [
    "audio_df = pd.DataFrame({'bars_count': bars_count, 'beats_count': beats_count, \n",
    "                      'sections_count': sections_count, 'segments_count': segments_count, \n",
    "                      'tatums_count': tatums_count})"
   ]
  },
  {
   "cell_type": "code",
   "execution_count": 50,
   "metadata": {},
   "outputs": [
    {
     "name": "stdout",
     "output_type": "stream",
     "text": [
      "91589\n"
     ]
    }
   ],
   "source": [
    "counter = 0\n",
    "\n",
    "for i in range(len(test_data)):\n",
    "    counter += 1\n",
    "    \n",
    "print(counter)"
   ]
  },
  {
   "cell_type": "code",
   "execution_count": 88,
   "metadata": {},
   "outputs": [],
   "source": [
    "#test_data_2"
   ]
  },
  {
   "cell_type": "code",
   "execution_count": 134,
   "metadata": {},
   "outputs": [],
   "source": [
    "## Export Audio Analysis data\n",
    "\n",
    "combined_df = pd.read_csv('data/combined_df.csv')"
   ]
  },
  {
   "cell_type": "code",
   "execution_count": 135,
   "metadata": {},
   "outputs": [],
   "source": [
    "combined_df = combined_df[['name', 'track_number', 'album_name']]"
   ]
  },
  {
   "cell_type": "code",
   "execution_count": 136,
   "metadata": {},
   "outputs": [],
   "source": [
    "audio_df = pd.concat([combined_df, audio_df], axis=1)"
   ]
  },
  {
   "cell_type": "code",
   "execution_count": 137,
   "metadata": {},
   "outputs": [],
   "source": [
    "album_tracks_df = pd.read_csv(\"data/album_tracks_df.csv\")"
   ]
  },
  {
   "cell_type": "code",
   "execution_count": 138,
   "metadata": {},
   "outputs": [],
   "source": [
    "song_length = []\n",
    "\n",
    "for i in range(len(album_tracks_df)):\n",
    "    song_seconds = (album_tracks_df['duration_ms'][i] / 1000)\n",
    "    song_length.append(song_seconds)"
   ]
  },
  {
   "cell_type": "code",
   "execution_count": 139,
   "metadata": {},
   "outputs": [],
   "source": [
    "song_len = pd.Series(song_length)"
   ]
  },
  {
   "cell_type": "code",
   "execution_count": 143,
   "metadata": {},
   "outputs": [],
   "source": [
    "final_df = pd.concat([audio_df, song_len], axis = 1)"
   ]
  },
  {
   "cell_type": "code",
   "execution_count": 153,
   "metadata": {},
   "outputs": [],
   "source": [
    "final_df.rename(columns = {0 : 'song_length_seconds'}, inplace = True)"
   ]
  },
  {
   "cell_type": "code",
   "execution_count": 155,
   "metadata": {},
   "outputs": [],
   "source": [
    "final_df['bpm'] = (final_df['beats_count'] / (final_df['song_length_seconds'] / 60))"
   ]
  },
  {
   "cell_type": "code",
   "execution_count": 161,
   "metadata": {},
   "outputs": [
    {
     "data": {
      "text/html": [
       "<div>\n",
       "<style scoped>\n",
       "    .dataframe tbody tr th:only-of-type {\n",
       "        vertical-align: middle;\n",
       "    }\n",
       "\n",
       "    .dataframe tbody tr th {\n",
       "        vertical-align: top;\n",
       "    }\n",
       "\n",
       "    .dataframe thead th {\n",
       "        text-align: right;\n",
       "    }\n",
       "</style>\n",
       "<table border=\"1\" class=\"dataframe\">\n",
       "  <thead>\n",
       "    <tr style=\"text-align: right;\">\n",
       "      <th></th>\n",
       "      <th>track_number</th>\n",
       "      <th>bars_count</th>\n",
       "      <th>beats_count</th>\n",
       "      <th>sections_count</th>\n",
       "      <th>segments_count</th>\n",
       "      <th>tatums_count</th>\n",
       "      <th>song_length_seconds</th>\n",
       "      <th>bpm</th>\n",
       "    </tr>\n",
       "  </thead>\n",
       "  <tbody>\n",
       "    <tr>\n",
       "      <th>track_number</th>\n",
       "      <td>1.000000</td>\n",
       "      <td>0.021934</td>\n",
       "      <td>0.037195</td>\n",
       "      <td>0.110097</td>\n",
       "      <td>0.056879</td>\n",
       "      <td>0.037117</td>\n",
       "      <td>0.060062</td>\n",
       "      <td>-0.054152</td>\n",
       "    </tr>\n",
       "    <tr>\n",
       "      <th>bars_count</th>\n",
       "      <td>0.021934</td>\n",
       "      <td>1.000000</td>\n",
       "      <td>0.970951</td>\n",
       "      <td>0.683348</td>\n",
       "      <td>0.736885</td>\n",
       "      <td>0.970948</td>\n",
       "      <td>0.776740</td>\n",
       "      <td>0.602950</td>\n",
       "    </tr>\n",
       "    <tr>\n",
       "      <th>beats_count</th>\n",
       "      <td>0.037195</td>\n",
       "      <td>0.970951</td>\n",
       "      <td>1.000000</td>\n",
       "      <td>0.714352</td>\n",
       "      <td>0.800721</td>\n",
       "      <td>1.000000</td>\n",
       "      <td>0.828541</td>\n",
       "      <td>0.577090</td>\n",
       "    </tr>\n",
       "    <tr>\n",
       "      <th>sections_count</th>\n",
       "      <td>0.110097</td>\n",
       "      <td>0.683348</td>\n",
       "      <td>0.714352</td>\n",
       "      <td>1.000000</td>\n",
       "      <td>0.734996</td>\n",
       "      <td>0.714356</td>\n",
       "      <td>0.774953</td>\n",
       "      <td>0.162327</td>\n",
       "    </tr>\n",
       "    <tr>\n",
       "      <th>segments_count</th>\n",
       "      <td>0.056879</td>\n",
       "      <td>0.736885</td>\n",
       "      <td>0.800721</td>\n",
       "      <td>0.734996</td>\n",
       "      <td>1.000000</td>\n",
       "      <td>0.800692</td>\n",
       "      <td>0.953108</td>\n",
       "      <td>0.084928</td>\n",
       "    </tr>\n",
       "    <tr>\n",
       "      <th>tatums_count</th>\n",
       "      <td>0.037117</td>\n",
       "      <td>0.970948</td>\n",
       "      <td>1.000000</td>\n",
       "      <td>0.714356</td>\n",
       "      <td>0.800692</td>\n",
       "      <td>1.000000</td>\n",
       "      <td>0.828514</td>\n",
       "      <td>0.577125</td>\n",
       "    </tr>\n",
       "    <tr>\n",
       "      <th>song_length_seconds</th>\n",
       "      <td>0.060062</td>\n",
       "      <td>0.776740</td>\n",
       "      <td>0.828541</td>\n",
       "      <td>0.774953</td>\n",
       "      <td>0.953108</td>\n",
       "      <td>0.828514</td>\n",
       "      <td>1.000000</td>\n",
       "      <td>0.057584</td>\n",
       "    </tr>\n",
       "    <tr>\n",
       "      <th>bpm</th>\n",
       "      <td>-0.054152</td>\n",
       "      <td>0.602950</td>\n",
       "      <td>0.577090</td>\n",
       "      <td>0.162327</td>\n",
       "      <td>0.084928</td>\n",
       "      <td>0.577125</td>\n",
       "      <td>0.057584</td>\n",
       "      <td>1.000000</td>\n",
       "    </tr>\n",
       "  </tbody>\n",
       "</table>\n",
       "</div>"
      ],
      "text/plain": [
       "                     track_number  bars_count  beats_count  sections_count  \\\n",
       "track_number             1.000000    0.021934     0.037195        0.110097   \n",
       "bars_count               0.021934    1.000000     0.970951        0.683348   \n",
       "beats_count              0.037195    0.970951     1.000000        0.714352   \n",
       "sections_count           0.110097    0.683348     0.714352        1.000000   \n",
       "segments_count           0.056879    0.736885     0.800721        0.734996   \n",
       "tatums_count             0.037117    0.970948     1.000000        0.714356   \n",
       "song_length_seconds      0.060062    0.776740     0.828541        0.774953   \n",
       "bpm                     -0.054152    0.602950     0.577090        0.162327   \n",
       "\n",
       "                     segments_count  tatums_count  song_length_seconds  \\\n",
       "track_number               0.056879      0.037117             0.060062   \n",
       "bars_count                 0.736885      0.970948             0.776740   \n",
       "beats_count                0.800721      1.000000             0.828541   \n",
       "sections_count             0.734996      0.714356             0.774953   \n",
       "segments_count             1.000000      0.800692             0.953108   \n",
       "tatums_count               0.800692      1.000000             0.828514   \n",
       "song_length_seconds        0.953108      0.828514             1.000000   \n",
       "bpm                        0.084928      0.577125             0.057584   \n",
       "\n",
       "                          bpm  \n",
       "track_number        -0.054152  \n",
       "bars_count           0.602950  \n",
       "beats_count          0.577090  \n",
       "sections_count       0.162327  \n",
       "segments_count       0.084928  \n",
       "tatums_count         0.577125  \n",
       "song_length_seconds  0.057584  \n",
       "bpm                  1.000000  "
      ]
     },
     "execution_count": 161,
     "metadata": {},
     "output_type": "execute_result"
    }
   ],
   "source": [
    "final_df.corr()"
   ]
  },
  {
   "cell_type": "code",
   "execution_count": 164,
   "metadata": {},
   "outputs": [],
   "source": [
    "## Removing duplicate and greatest hits album\n",
    "\n",
    "album_drop = [\"\"\"1 (Remastered)\"\"\", \"\"\"Sgt. Pepper's Lonely Hearts Club Band (Deluxe Edition)\"\"\", \"\"\"Live At The Hollywood Bowl\"\"\"]\n",
    "\n",
    "final_df = final_df[~final_df['album_name'].isin(album_drop)]"
   ]
  },
  {
   "cell_type": "code",
   "execution_count": 168,
   "metadata": {},
   "outputs": [
    {
     "name": "stderr",
     "output_type": "stream",
     "text": [
      "/Users/justin/anaconda3/lib/python3.6/site-packages/pandas/core/frame.py:3027: SettingWithCopyWarning: \n",
      "A value is trying to be set on a copy of a slice from a DataFrame\n",
      "\n",
      "See the caveats in the documentation: http://pandas.pydata.org/pandas-docs/stable/indexing.html#indexing-view-versus-copy\n",
      "  return super(DataFrame, self).rename(**kwargs)\n"
     ]
    }
   ],
   "source": [
    "final_df.rename(columns = {'name' : 'song_name'}, inplace = True)"
   ]
  },
  {
   "cell_type": "code",
   "execution_count": 170,
   "metadata": {},
   "outputs": [],
   "source": [
    "final_df.to_csv('data//audio_analysis.csv')"
   ]
  },
  {
   "cell_type": "code",
   "execution_count": 169,
   "metadata": {},
   "outputs": [
    {
     "data": {
      "text/html": [
       "<div>\n",
       "<style scoped>\n",
       "    .dataframe tbody tr th:only-of-type {\n",
       "        vertical-align: middle;\n",
       "    }\n",
       "\n",
       "    .dataframe tbody tr th {\n",
       "        vertical-align: top;\n",
       "    }\n",
       "\n",
       "    .dataframe thead th {\n",
       "        text-align: right;\n",
       "    }\n",
       "</style>\n",
       "<table border=\"1\" class=\"dataframe\">\n",
       "  <thead>\n",
       "    <tr style=\"text-align: right;\">\n",
       "      <th></th>\n",
       "      <th>song_name</th>\n",
       "      <th>track_number</th>\n",
       "      <th>album_name</th>\n",
       "      <th>bars_count</th>\n",
       "      <th>beats_count</th>\n",
       "      <th>sections_count</th>\n",
       "      <th>segments_count</th>\n",
       "      <th>tatums_count</th>\n",
       "      <th>song_length_seconds</th>\n",
       "      <th>bpm</th>\n",
       "    </tr>\n",
       "  </thead>\n",
       "  <tbody>\n",
       "    <tr>\n",
       "      <th>44</th>\n",
       "      <td>Two Of Us - Remastered</td>\n",
       "      <td>1</td>\n",
       "      <td>Let It Be (Remastered)</td>\n",
       "      <td>5989</td>\n",
       "      <td>24504</td>\n",
       "      <td>2046</td>\n",
       "      <td>253846</td>\n",
       "      <td>48979</td>\n",
       "      <td>216.813</td>\n",
       "      <td>6781.143197</td>\n",
       "    </tr>\n",
       "    <tr>\n",
       "      <th>45</th>\n",
       "      <td>Dig A Pony - Remastered</td>\n",
       "      <td>2</td>\n",
       "      <td>Let It Be (Remastered)</td>\n",
       "      <td>3538</td>\n",
       "      <td>14223</td>\n",
       "      <td>2557</td>\n",
       "      <td>248367</td>\n",
       "      <td>28460</td>\n",
       "      <td>235.000</td>\n",
       "      <td>3631.404255</td>\n",
       "    </tr>\n",
       "    <tr>\n",
       "      <th>46</th>\n",
       "      <td>Across The Universe - Remastered</td>\n",
       "      <td>3</td>\n",
       "      <td>Let It Be (Remastered)</td>\n",
       "      <td>9041</td>\n",
       "      <td>35820</td>\n",
       "      <td>1785</td>\n",
       "      <td>242414</td>\n",
       "      <td>71639</td>\n",
       "      <td>228.133</td>\n",
       "      <td>9420.820311</td>\n",
       "    </tr>\n",
       "    <tr>\n",
       "      <th>47</th>\n",
       "      <td>I Me Mine - Remastered</td>\n",
       "      <td>4</td>\n",
       "      <td>Let It Be (Remastered)</td>\n",
       "      <td>9107</td>\n",
       "      <td>27486</td>\n",
       "      <td>2033</td>\n",
       "      <td>176155</td>\n",
       "      <td>54997</td>\n",
       "      <td>145.586</td>\n",
       "      <td>11327.737557</td>\n",
       "    </tr>\n",
       "    <tr>\n",
       "      <th>48</th>\n",
       "      <td>Dig It - Remastered</td>\n",
       "      <td>5</td>\n",
       "      <td>Let It Be (Remastered)</td>\n",
       "      <td>2560</td>\n",
       "      <td>7942</td>\n",
       "      <td>760</td>\n",
       "      <td>63747</td>\n",
       "      <td>15885</td>\n",
       "      <td>50.466</td>\n",
       "      <td>9442.396861</td>\n",
       "    </tr>\n",
       "  </tbody>\n",
       "</table>\n",
       "</div>"
      ],
      "text/plain": [
       "                           song_name  track_number              album_name  \\\n",
       "44            Two Of Us - Remastered             1  Let It Be (Remastered)   \n",
       "45           Dig A Pony - Remastered             2  Let It Be (Remastered)   \n",
       "46  Across The Universe - Remastered             3  Let It Be (Remastered)   \n",
       "47            I Me Mine - Remastered             4  Let It Be (Remastered)   \n",
       "48               Dig It - Remastered             5  Let It Be (Remastered)   \n",
       "\n",
       "    bars_count  beats_count  sections_count  segments_count  tatums_count  \\\n",
       "44        5989        24504            2046          253846         48979   \n",
       "45        3538        14223            2557          248367         28460   \n",
       "46        9041        35820            1785          242414         71639   \n",
       "47        9107        27486            2033          176155         54997   \n",
       "48        2560         7942             760           63747         15885   \n",
       "\n",
       "    song_length_seconds           bpm  \n",
       "44              216.813   6781.143197  \n",
       "45              235.000   3631.404255  \n",
       "46              228.133   9420.820311  \n",
       "47              145.586  11327.737557  \n",
       "48               50.466   9442.396861  "
      ]
     },
     "execution_count": 169,
     "metadata": {},
     "output_type": "execute_result"
    }
   ],
   "source": [
    "final_df.head()"
   ]
  },
  {
   "cell_type": "code",
   "execution_count": null,
   "metadata": {},
   "outputs": [],
   "source": []
  }
 ],
 "metadata": {
  "kernelspec": {
   "display_name": "Python 3",
   "language": "python",
   "name": "python3"
  },
  "language_info": {
   "codemirror_mode": {
    "name": "ipython",
    "version": 3
   },
   "file_extension": ".py",
   "mimetype": "text/x-python",
   "name": "python",
   "nbconvert_exporter": "python",
   "pygments_lexer": "ipython3",
   "version": "3.6.4"
  }
 },
 "nbformat": 4,
 "nbformat_minor": 2
}
